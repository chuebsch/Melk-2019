{
 "cells": [
  {
   "cell_type": "markdown",
   "metadata": {},
   "source": [
    "# Library Import\n",
    "\n",
    "Pandas\n",
    "Importing the data into a dataframe; for manipulations of the dataframe and easy plotting\n",
    "\n",
    "Numpy\n",
    "For vector and matrix calculations\n",
    "\n",
    "Matplotlib\n",
    "For plotting\n",
    "\n",
    "Seaborn\n",
    "For plotting\n",
    "\n",
    "SKLearn\n",
    "For the machine learning part\n",
    "\n",
    "Scipy\n",
    "For some statistics\n"
   ]
  },
  {
   "cell_type": "code",
   "execution_count": 1,
   "metadata": {},
   "outputs": [
    {
     "name": "stderr",
     "output_type": "stream",
     "text": [
      "/Users/melanievollmar/anaconda/lib/python3.6/site-packages/sklearn/externals/joblib/__init__.py:15: DeprecationWarning: sklearn.externals.joblib is deprecated in 0.21 and will be removed in 0.23. Please import this functionality directly from joblib, which can be installed with: pip install joblib. If this warning is raised when loading pickled models, you may need to re-serialize those models with scikit-learn 0.21+.\n",
      "  warnings.warn(msg, category=DeprecationWarning)\n"
     ]
    }
   ],
   "source": [
    "%matplotlib inline\n",
    "\n",
    "import pandas as pd\n",
    "import numpy as np\n",
    "import matplotlib.pyplot as plt\n",
    "import seaborn as sns\n",
    "import matplotlib.colorbar as mpl\n",
    "import subprocess\n",
    "from sklearn import metrics\n",
    "\n",
    "from sklearn.preprocessing import StandardScaler\n",
    "from sklearn.model_selection import train_test_split\n",
    "from sklearn.model_selection import RandomizedSearchCV\n",
    "from sklearn.ensemble import RandomForestClassifier\n",
    "from sklearn.model_selection import cross_val_score\n",
    "from sklearn.model_selection import cross_val_predict\n",
    "from sklearn.metrics import confusion_matrix, precision_score, recall_score, f1_score\n",
    "from sklearn.metrics import precision_recall_curve, roc_curve\n",
    "from sklearn.tree import export_graphviz\n",
    "from sklearn.externals import joblib\n",
    "from scipy.stats import randint\n",
    "from scipy.stats import uniform\n",
    "from datetime import datetime"
   ]
  },
  {
   "cell_type": "markdown",
   "metadata": {},
   "source": [
    "# Data Import"
   ]
  },
  {
   "cell_type": "code",
   "execution_count": 2,
   "metadata": {},
   "outputs": [
    {
     "name": "stdout",
     "output_type": "stream",
     "text": [
      "   sweep_id  pdb_id_id  wavelength  MR_success  TFZ   LLG  PAK  mr_reso  \\\n",
      "0       144       1003      0.9797         0.0  5.8  33.0  5.0     1.38   \n",
      "1       145       1003      0.9184         0.0  5.8  33.0  5.0     1.38   \n",
      "2       146       1003      0.9792         0.0  5.8  33.0  5.0     1.38   \n",
      "3       918        101      0.9793         0.0  4.1  17.0  1.0     1.66   \n",
      "4       919        101      0.9537         0.0  4.1  17.0  1.0     1.66   \n",
      "\n",
      "   mr_sg  mr_sg_no     ...       wilsonbfactor  RmeasI  highreslimit  \\\n",
      "0  P1211         4     ...               11.28  0.0723          1.38   \n",
      "1  P1211         4     ...               11.30  0.0846          1.41   \n",
      "2  P1211         4     ...               11.21  0.0879          1.39   \n",
      "3     H3       146     ...               20.88  0.0910          1.66   \n",
      "4     H3       146     ...               20.26  0.0937          1.67   \n",
      "\n",
      "   RpimdiffI anomalousmulti  RmergediffI  totalobservations  anomalouscompl  \\\n",
      "0     0.0442           1.73       0.0477             290215           91.57   \n",
      "1     0.0475           1.75       0.0512             275712           92.33   \n",
      "2     0.0412           1.73       0.0444             284616           91.64   \n",
      "3     0.0607           1.88       0.0644             206737           95.25   \n",
      "4     0.0624           1.91       0.0660             208630           97.15   \n",
      "\n",
      "   cchalf  totalunique  \n",
      "0  0.9983        87299  \n",
      "1  0.9976        82033  \n",
      "2  0.9972        85517  \n",
      "3  0.9972        56237  \n",
      "4  0.9973        55392  \n",
      "\n",
      "[5 rows x 38 columns]\n"
     ]
    }
   ],
   "source": [
    "data = pd.read_csv(\"data.csv\", na_filter=False, skipinitialspace=True, thousands=',')\n",
    "print(data.head())"
   ]
  },
  {
   "cell_type": "code",
   "execution_count": 3,
   "metadata": {},
   "outputs": [
    {
     "name": "stdout",
     "output_type": "stream",
     "text": [
      "(673, 38)\n"
     ]
    }
   ],
   "source": [
    "print(data.shape)"
   ]
  },
  {
   "cell_type": "markdown",
   "metadata": {},
   "source": [
    "# Isolate column names to use as features"
   ]
  },
  {
   "cell_type": "code",
   "execution_count": 4,
   "metadata": {},
   "outputs": [
    {
     "name": "stdout",
     "output_type": "stream",
     "text": [
      "Index(['sweep_id', 'pdb_id_id', 'wavelength', 'MR_success', 'TFZ', 'LLG',\n",
      "       'PAK', 'mr_reso', 'mr_sg', 'mr_sg_no', 'RMSD', 'VRMS', 'eLLG', 'tncs',\n",
      "       'model_pdb', 'seq_ident', 'model_res', 'anomalousCC', 'IoverSigma',\n",
      "       'completeness', 'diffI', 'RmergeI', 'lowreslimit', 'RpimI',\n",
      "       'multiplicity', 'RmeasdiffI', 'anomalousslope', 'diffF',\n",
      "       'wilsonbfactor', 'RmeasI', 'highreslimit', 'RpimdiffI',\n",
      "       'anomalousmulti', 'RmergediffI', 'totalobservations', 'anomalouscompl',\n",
      "       'cchalf', 'totalunique'],\n",
      "      dtype='object')\n"
     ]
    }
   ],
   "source": [
    "column_names = data.columns\n",
    "print(column_names)"
   ]
  },
  {
   "cell_type": "code",
   "execution_count": 5,
   "metadata": {},
   "outputs": [
    {
     "name": "stdout",
     "output_type": "stream",
     "text": [
      "Index(['wavelength', 'mr_reso', 'mr_sg_no', 'eLLG', 'tncs', 'model_res',\n",
      "       'anomalousCC', 'IoverSigma', 'completeness', 'diffI', 'RmergeI',\n",
      "       'lowreslimit', 'RpimI', 'multiplicity', 'RmeasdiffI', 'anomalousslope',\n",
      "       'diffF', 'wilsonbfactor', 'RmeasI', 'highreslimit', 'RpimdiffI',\n",
      "       'anomalousmulti', 'RmergediffI', 'totalobservations', 'anomalouscompl',\n",
      "       'cchalf', 'totalunique'],\n",
      "      dtype='object')\n"
     ]
    }
   ],
   "source": [
    "data_columns = data[['wavelength', 'mr_reso', 'mr_sg_no', 'eLLG', 'tncs',\n",
    "       'model_res', 'anomalousCC', 'IoverSigma', 'completeness', 'diffI',\n",
    "       'RmergeI', 'lowreslimit', 'RpimI', 'multiplicity', 'RmeasdiffI',\n",
    "       'anomalousslope', 'diffF', 'wilsonbfactor', 'RmeasI', 'highreslimit',\n",
    "       'RpimdiffI', 'anomalousmulti', 'RmergediffI', 'totalobservations',\n",
    "       'anomalouscompl', 'cchalf', 'totalunique']]\n",
    "\n",
    "data_columns_labels = data_columns.columns\n",
    "print(data_columns_labels)\n",
    "print(data_columns.shape)"
   ]
  },
  {
   "cell_type": "markdown",
   "metadata": {},
   "source": [
    "# Fill in missing values"
   ]
  },
  {
   "cell_type": "code",
   "execution_count": 6,
   "metadata": {
    "collapsed": true
   },
   "outputs": [],
   "source": [
    "data_columns_fill = data_columns.fillna(0)"
   ]
  },
  {
   "cell_type": "markdown",
   "metadata": {},
   "source": [
    "# Data split - test and training set "
   ]
  },
  {
   "cell_type": "code",
   "execution_count": 7,
   "metadata": {
    "collapsed": true
   },
   "outputs": [],
   "source": [
    "y = data['MR_success']\n",
    "\n",
    "X_train, X_test, y_train, y_test = train_test_split(data_columns_fill, y, \n",
    "                                                    test_size=0.2,\n",
    "                                                    random_state=42,\n",
    "                                                    stratify=y)"
   ]
  },
  {
   "cell_type": "markdown",
   "metadata": {},
   "source": [
    "# Find best Random Forest in RandomizedSearch"
   ]
  },
  {
   "cell_type": "code",
   "execution_count": 10,
   "metadata": {},
   "outputs": [
    {
     "name": "stdout",
     "output_type": "stream",
     "text": [
      "Best parameters: {'class_weight': None, 'criterion': 'gini', 'max_depth': 5, 'max_features': 11, 'max_leaf_nodes': 18, 'min_samples_leaf': 5, 'min_samples_split': 9, 'n_estimators': 2082}\n",
      "\n",
      "Best score: 0.776951672862\n",
      "\n"
     ]
    },
    {
     "data": {
      "text/plain": [
       "{'class_weight': None,\n",
       " 'criterion': 'gini',\n",
       " 'max_depth': 5,\n",
       " 'max_features': 11,\n",
       " 'max_leaf_nodes': 18,\n",
       " 'min_samples_leaf': 5,\n",
       " 'min_samples_split': 9,\n",
       " 'n_estimators': 2082}"
      ]
     },
     "execution_count": 10,
     "metadata": {},
     "output_type": "execute_result"
    }
   ],
   "source": [
    "def rand_search(X_train, y_train):\n",
    "  #create the random forest\n",
    "  forest_clf_rand = RandomForestClassifier(random_state=0,\n",
    "                                           class_weight='balanced',\n",
    "                                           n_jobs=-1)\n",
    "    \n",
    "  #set up grid search\n",
    "  param_rand = {'criterion': [\"gini\", \"entropy\"],#metric to judge reduction of impurity\n",
    "                'class_weight': ['balanced', None],\n",
    "                'n_estimators': randint(100, 10000),#number of trees in forest\n",
    "                'max_features': randint(2, len(X_train.columns)),#max number of features when splitting\n",
    "                'min_samples_split': randint(2, 20),#min samples per node to induce split\n",
    "                'max_depth': randint(5, 10),#max number of splits to do\n",
    "                'min_samples_leaf': randint(1, 20),#min number of samples in a leaf\n",
    "                'max_leaf_nodes': randint(10, 20)}#max number of leaves\n",
    "\n",
    "  #building and running the grid search\n",
    "  rand_search = RandomizedSearchCV(forest_clf_rand,\n",
    "                                   param_rand,\n",
    "                                   random_state=5,\n",
    "                                   cv=3,\n",
    "                                   n_iter=1,\n",
    "                                   scoring='accuracy',\n",
    "                                   n_jobs=-1)\n",
    "                              \n",
    "  rand_search = rand_search.fit(X_train, y_train)\n",
    "  print('Best parameters: ' +str(rand_search.best_params_)+'\\n')\n",
    "  print('Best score: ' +str(rand_search.best_score_)+'\\n')\n",
    "    \n",
    "  best_params = rand_search.best_params_\n",
    "  return best_params\n",
    "\n",
    "rand_search(X_train, y_train)"
   ]
  },
  {
   "cell_type": "markdown",
   "metadata": {},
   "source": [
    "# Build best Random Forest, plot feature importances and get basic stats"
   ]
  },
  {
   "cell_type": "code",
   "execution_count": 11,
   "metadata": {},
   "outputs": [
    {
     "name": "stdout",
     "output_type": "stream",
     "text": [
      "Get various cross_val_scores to evaluate clf performance for best parameters \n",
      "\n",
      "Accuracy for each of 3 CV folds: [ 0.78333333  0.74301676  0.81005587] \n",
      "\n",
      "Mean accuracy over all 3 CV folds: 0.778801986344 \n",
      "\n",
      "ROC_AUC mean for 3-fold CV: 0.845201560078 \n",
      "\n",
      "Accuracy mean for 3-fold CV: 0.778801986344 \n",
      "\n",
      "Recall mean for 3-fold CV: 0.634155577194 \n",
      "\n",
      "Precision mean for 3-fold CV: 0.819047619048 \n",
      "\n",
      "F1 score mean for 3-fold CV: 0.712699266431 \n",
      "\n"
     ]
    },
    {
     "data": {
      "image/png": "[encoded data removed]",
      "text/plain": [
       "<matplotlib.figure.Figure at 0x10ae8ae48>"
      ]
     },
     "metadata": {},
     "output_type": "display_data"
    }
   ],
   "source": [
    "forest_clf_rand_new = RandomForestClassifier(class_weight = None,\n",
    "                                             criterion = 'gini',\n",
    "                                             max_depth = 5,\n",
    "                                             max_features = 11,\n",
    "                                             max_leaf_nodes = 18,\n",
    "                                             min_samples_leaf = 5,\n",
    "                                             min_samples_split = 9,\n",
    "                                             n_estimators = 2082,\n",
    "                                             random_state=42,\n",
    "                                             n_jobs=-1)\n",
    "forest_clf_rand_new.fit(X_train, y_train)\n",
    "\n",
    "def feature_importances_pandas(clf, X_train):   \n",
    "  datestring = datetime.strftime(datetime.now(), '%Y%m%d_%H%M')      \n",
    "  feature_list = []\n",
    "  for tree in clf.estimators_:\n",
    "    feature_importances_ls = tree.feature_importances_\n",
    "    feature_list.append(feature_importances_ls)\n",
    "        \n",
    "  df = pd.DataFrame(feature_list, columns=X_train.columns)\n",
    "  df_mean = df[X_train.columns].mean(axis=0)\n",
    "  df_mean.sort_values(ascending=False, inplace=True)  \n",
    "  df_std = df[X_train.columns].std(axis=0)\n",
    "  df_mean.plot(kind='bar', color='b', yerr=[df_std], align=\"center\", figsize=(20,10), rot=90, fontsize=16)\n",
    "  plt.title('Histogram of Feature Importances for Random Forest Classifier')\n",
    "  plt.xlabel('Features')\n",
    "  plt.tight_layout()\n",
    "  plt.show\n",
    "      \n",
    "feature_importances_pandas(forest_clf_rand_new, X_train)\n",
    "   \n",
    "def write_pickle(clf):\n",
    "  datestring = datetime.strftime(datetime.now(), '%Y%m%d_%H%M')\n",
    "  joblib.dump(clf, 'best_tree_rand_'+datestring+'.pkl')\n",
    "    \n",
    "write_pickle(forest_clf_rand_new)\n",
    "    \n",
    "def visualise_tree(tree_bag, columns):\n",
    "  datestring = datetime.strftime(datetime.now(), '%Y%m%d_%H%M')\n",
    "  trees = tree_bag.estimators_\n",
    "  i_tree = 0\n",
    "  for tree in trees:\n",
    "    with open('forest_clf_rand_bag_new_'+datestring+str(i_tree)+'.dot', 'w') as f:\n",
    "      export_graphviz(tree, out_file=f, feature_names=columns, rounded=True, filled=True)\n",
    "      f.close()\n",
    "    dotfile = 'forest_clf_rand_bag_new_'+datestring+str(i_tree)+'.dot'\n",
    "    pngfile = 'forest_clf_rand_bag_new_'+datestring+str(i_tree)+'.png'\n",
    "    command = [\"dot\", \"-Tpng\", dotfile, \"-o\", pngfile]\n",
    "    subprocess.check_call(command)\n",
    "    i_tree = i_tree + 1\n",
    "\n",
    "visualise_tree(forest_clf_rand_new, X_train.columns)\n",
    "\n",
    "def basic_stats(clf, X_train, y_train):\n",
    "  #distribution --> accuracy\n",
    "  accuracy_each_cv = cross_val_score(clf, X_train, y_train, cv=3, scoring='accuracy')\n",
    "  accuracy_mean_cv = cross_val_score(clf, X_train, y_train, cv=3, scoring='accuracy').mean()\n",
    "  # calculate cross_val_scoring with different scoring functions for CV train set\n",
    "  train_roc_auc = cross_val_score(clf, X_train, y_train, cv=3, scoring='roc_auc').mean()\n",
    "  train_accuracy = cross_val_score(clf, X_train, y_train, cv=3, scoring='accuracy').mean()\n",
    "  train_recall = cross_val_score(clf, X_train, y_train, cv=3, scoring='recall').mean()\n",
    "  train_precision = cross_val_score(clf, X_train, y_train, cv=3, scoring='precision').mean()\n",
    "  train_f1 = cross_val_score(clf, X_train, y_train, cv=3, scoring='f1').mean()\n",
    "\n",
    "  print('Get various cross_val_scores to evaluate clf performance for best parameters \\n')     \n",
    "  print('Accuracy for each of 3 CV folds: %s \\n' %accuracy_each_cv)\n",
    "  print('Mean accuracy over all 3 CV folds: %s \\n' %accuracy_mean_cv)\n",
    "  print('ROC_AUC mean for 3-fold CV: %s \\n' %train_roc_auc)\n",
    "  print('Accuracy mean for 3-fold CV: %s \\n' %train_accuracy)\n",
    "  print('Recall mean for 3-fold CV: %s \\n' %train_recall)\n",
    "  print('Precision mean for 3-fold CV: %s \\n' %train_precision)\n",
    "  print('F1 score mean for 3-fold CV: %s \\n' %train_f1)\n",
    "    \n",
    "basic_stats(forest_clf_rand_new, X_train, y_train)\n"
   ]
  },
  {
   "cell_type": "markdown",
   "metadata": {},
   "source": [
    "# Predict using the test set on Random Forest"
   ]
  },
  {
   "cell_type": "code",
   "execution_count": 12,
   "metadata": {},
   "outputs": [
    {
     "name": "stdout",
     "output_type": "stream",
     "text": [
      "Accuracy score or agreement between y_test and y_pred_class: 0.8 \n",
      "\n",
      "Class distribution for y_test: 0.0    76\n",
      "1.0    59\n",
      "Name: MR_success, dtype: int64 \n",
      "\n",
      "Percent 1s in y_test: 0.43703703703703706 \n",
      "\n",
      "Percent 0s in y_test: 0.5629629629629629 \n",
      "\n",
      "Null accuracy in y_test: 0.5629629629629629 \n",
      "\n"
     ]
    },
    {
     "data": {
      "text/plain": [
       "(array([ 0.,  0.,  1.,  1.,  1.,  1.,  0.,  1.,  0.,  1.,  0.,  0.,  1.,\n",
       "         0.,  0.,  0.,  0.,  1.,  1.,  0.,  0.,  0.,  0.,  1.,  0.,  0.,\n",
       "         1.,  0.,  1.,  1.,  0.,  0.,  0.,  0.,  1.,  1.,  1.,  0.,  0.,\n",
       "         0.,  1.,  0.,  0.,  0.,  0.,  0.,  0.,  0.,  0.,  1.,  1.,  1.,\n",
       "         1.,  1.,  0.,  0.,  0.,  0.,  0.,  0.,  0.,  1.,  1.,  0.,  0.,\n",
       "         0.,  0.,  1.,  1.,  0.,  0.,  1.,  0.,  0.,  0.,  0.,  0.,  0.,\n",
       "         0.,  0.,  0.,  0.,  1.,  1.,  0.,  0.,  0.,  0.,  0.,  0.,  1.,\n",
       "         0.,  0.,  1.,  1.,  0.,  0.,  0.,  0.,  1.,  1.,  1.,  1.,  0.,\n",
       "         0.,  1.,  0.,  1.,  0.,  1.,  0.,  1.,  0.,  0.,  0.,  0.,  1.,\n",
       "         0.,  0.,  1.,  0.,  0.,  1.,  0.,  0.,  1.,  1.,  0.,  0.,  0.,\n",
       "         1.,  0.,  0.,  1.,  1.]), array([[ 0.76573936,  0.23426064],\n",
       "        [ 0.76193196,  0.23806804],\n",
       "        [ 0.29816934,  0.70183066],\n",
       "        [ 0.34427342,  0.65572658],\n",
       "        [ 0.06623238,  0.93376762],\n",
       "        [ 0.3784326 ,  0.6215674 ],\n",
       "        [ 0.67201648,  0.32798352],\n",
       "        [ 0.08396293,  0.91603707],\n",
       "        [ 0.62682969,  0.37317031],\n",
       "        [ 0.14311099,  0.85688901],\n",
       "        [ 0.78462881,  0.21537119],\n",
       "        [ 0.63605548,  0.36394452],\n",
       "        [ 0.40582407,  0.59417593],\n",
       "        [ 0.86322982,  0.13677018],\n",
       "        [ 0.79835376,  0.20164624],\n",
       "        [ 0.62987887,  0.37012113],\n",
       "        [ 0.80587474,  0.19412526],\n",
       "        [ 0.10464068,  0.89535932],\n",
       "        [ 0.14397139,  0.85602861],\n",
       "        [ 0.66204055,  0.33795945],\n",
       "        [ 0.71619976,  0.28380024],\n",
       "        [ 0.74502294,  0.25497706],\n",
       "        [ 0.84846214,  0.15153786],\n",
       "        [ 0.09880233,  0.90119767],\n",
       "        [ 0.76859714,  0.23140286],\n",
       "        [ 0.8813645 ,  0.1186355 ],\n",
       "        [ 0.49023259,  0.50976741],\n",
       "        [ 0.76023268,  0.23976732],\n",
       "        [ 0.4809098 ,  0.5190902 ],\n",
       "        [ 0.43819961,  0.56180039],\n",
       "        [ 0.83113817,  0.16886183],\n",
       "        [ 0.64644414,  0.35355586],\n",
       "        [ 0.66511321,  0.33488679],\n",
       "        [ 0.71105277,  0.28894723],\n",
       "        [ 0.25286591,  0.74713409],\n",
       "        [ 0.14113715,  0.85886285],\n",
       "        [ 0.10094895,  0.89905105],\n",
       "        [ 0.55348469,  0.44651531],\n",
       "        [ 0.65292164,  0.34707836],\n",
       "        [ 0.75233666,  0.24766334],\n",
       "        [ 0.12569955,  0.87430045],\n",
       "        [ 0.68752155,  0.31247845],\n",
       "        [ 0.73143642,  0.26856358],\n",
       "        [ 0.90083081,  0.09916919],\n",
       "        [ 0.80762539,  0.19237461],\n",
       "        [ 0.64607276,  0.35392724],\n",
       "        [ 0.71867377,  0.28132623],\n",
       "        [ 0.69949107,  0.30050893],\n",
       "        [ 0.77784217,  0.22215783],\n",
       "        [ 0.34117046,  0.65882954],\n",
       "        [ 0.38737043,  0.61262957],\n",
       "        [ 0.41091817,  0.58908183],\n",
       "        [ 0.14550889,  0.85449111],\n",
       "        [ 0.33308492,  0.66691508],\n",
       "        [ 0.70865811,  0.29134189],\n",
       "        [ 0.52048146,  0.47951854],\n",
       "        [ 0.68909368,  0.31090632],\n",
       "        [ 0.62597611,  0.37402389],\n",
       "        [ 0.80590785,  0.19409215],\n",
       "        [ 0.8769107 ,  0.1230893 ],\n",
       "        [ 0.69990756,  0.30009244],\n",
       "        [ 0.4993741 ,  0.5006259 ],\n",
       "        [ 0.14747564,  0.85252436],\n",
       "        [ 0.76491436,  0.23508564],\n",
       "        [ 0.8885232 ,  0.1114768 ],\n",
       "        [ 0.69439846,  0.30560154],\n",
       "        [ 0.52282507,  0.47717493],\n",
       "        [ 0.1837633 ,  0.8162367 ],\n",
       "        [ 0.16734465,  0.83265535],\n",
       "        [ 0.67066435,  0.32933565],\n",
       "        [ 0.64001916,  0.35998084],\n",
       "        [ 0.11279813,  0.88720187],\n",
       "        [ 0.79399699,  0.20600301],\n",
       "        [ 0.7959426 ,  0.2040574 ],\n",
       "        [ 0.78477028,  0.21522972],\n",
       "        [ 0.80849829,  0.19150171],\n",
       "        [ 0.55837603,  0.44162397],\n",
       "        [ 0.71374325,  0.28625675],\n",
       "        [ 0.74767442,  0.25232558],\n",
       "        [ 0.83091491,  0.16908509],\n",
       "        [ 0.74848831,  0.25151169],\n",
       "        [ 0.75453777,  0.24546223],\n",
       "        [ 0.30780632,  0.69219368],\n",
       "        [ 0.15671084,  0.84328916],\n",
       "        [ 0.72349489,  0.27650511],\n",
       "        [ 0.7927606 ,  0.2072394 ],\n",
       "        [ 0.70812002,  0.29187998],\n",
       "        [ 0.85482442,  0.14517558],\n",
       "        [ 0.59518812,  0.40481188],\n",
       "        [ 0.78555933,  0.21444067],\n",
       "        [ 0.16887086,  0.83112914],\n",
       "        [ 0.75365388,  0.24634612],\n",
       "        [ 0.7823141 ,  0.2176859 ],\n",
       "        [ 0.05803622,  0.94196378],\n",
       "        [ 0.08077757,  0.91922243],\n",
       "        [ 0.84733716,  0.15266284],\n",
       "        [ 0.73827087,  0.26172913],\n",
       "        [ 0.76104993,  0.23895007],\n",
       "        [ 0.86461119,  0.13538881],\n",
       "        [ 0.46787963,  0.53212037],\n",
       "        [ 0.07540688,  0.92459312],\n",
       "        [ 0.28755429,  0.71244571],\n",
       "        [ 0.31310097,  0.68689903],\n",
       "        [ 0.71061201,  0.28938799],\n",
       "        [ 0.68143107,  0.31856893],\n",
       "        [ 0.47057974,  0.52942026],\n",
       "        [ 0.7679377 ,  0.2320623 ],\n",
       "        [ 0.17873383,  0.82126617],\n",
       "        [ 0.78824331,  0.21175669],\n",
       "        [ 0.24436016,  0.75563984],\n",
       "        [ 0.69042729,  0.30957271],\n",
       "        [ 0.25649095,  0.74350905],\n",
       "        [ 0.84592051,  0.15407949],\n",
       "        [ 0.68686381,  0.31313619],\n",
       "        [ 0.78563242,  0.21436758],\n",
       "        [ 0.5181607 ,  0.4818393 ],\n",
       "        [ 0.12581293,  0.87418707],\n",
       "        [ 0.77633849,  0.22366151],\n",
       "        [ 0.6824511 ,  0.3175489 ],\n",
       "        [ 0.15615063,  0.84384937],\n",
       "        [ 0.77516676,  0.22483324],\n",
       "        [ 0.89548828,  0.10451172],\n",
       "        [ 0.14504592,  0.85495408],\n",
       "        [ 0.82624672,  0.17375328],\n",
       "        [ 0.75178552,  0.24821448],\n",
       "        [ 0.1687664 ,  0.8312336 ],\n",
       "        [ 0.29328271,  0.70671729],\n",
       "        [ 0.61698051,  0.38301949],\n",
       "        [ 0.53425974,  0.46574026],\n",
       "        [ 0.63743391,  0.36256609],\n",
       "        [ 0.21275888,  0.78724112],\n",
       "        [ 0.735314  ,  0.264686  ],\n",
       "        [ 0.70481402,  0.29518598],\n",
       "        [ 0.08411865,  0.91588135],\n",
       "        [ 0.48655761,  0.51344239]]))"
      ]
     },
     "execution_count": 12,
     "metadata": {},
     "output_type": "execute_result"
    }
   ],
   "source": [
    "def predict(clf, X_test):\n",
    "  #try out how well the classifier works to predict from the test set\n",
    "  y_pred = clf.predict(X_test)\n",
    "  y_pred_proba = clf.predict_proba(X_test)\n",
    "\n",
    "  def prediction_stats(y_test, y_pred):\n",
    "    # calculate accuracy\n",
    "    y_accuracy = metrics.accuracy_score(y_test, y_pred)\n",
    "\n",
    "    # examine the class distribution of the testing set (using a Pandas Series method)\n",
    "    class_dist = y_test.value_counts()\n",
    "\n",
    "    # calculate the percentage of ones\n",
    "    # because y_test only contains ones and zeros, we can simply calculate the mean = percentage of ones\n",
    "    ones = y_test.mean()\n",
    "\n",
    "    # calculate the percentage of zeros\n",
    "    zeros = 1 - y_test.mean()\n",
    "\n",
    "    # calculate null accuracy in a single line of code\n",
    "    # only for binary classification problems coded as 0/1\n",
    "    null_acc = max(y_test.mean(), 1 - y_test.mean())\n",
    "\n",
    "    print('Accuracy score or agreement between y_test and y_pred_class: %s \\n' %y_accuracy)\n",
    "    print('Class distribution for y_test: %s \\n' %class_dist)\n",
    "    print('Percent 1s in y_test: %s \\n' %ones)\n",
    "    print('Percent 0s in y_test: %s \\n' %zeros)\n",
    "    print('Null accuracy in y_test: %s \\n' %null_acc)\n",
    "    \n",
    "  prediction_stats(y_test, y_pred)\n",
    "  \n",
    "  return y_pred, y_pred_proba\n",
    "\n",
    "predict(forest_clf_rand_new, X_test)"
   ]
  },
  {
   "cell_type": "markdown",
   "metadata": {},
   "source": [
    "# Detailed analysis for best Random Forest"
   ]
  },
  {
   "cell_type": "code",
   "execution_count": 13,
   "metadata": {},
   "outputs": [
    {
     "data": {
      "image/png": "[encoded data removed]",
      "text/plain": [
       "<matplotlib.figure.Figure at 0x11baec8d0>"
      ]
     },
     "metadata": {},
     "output_type": "display_data"
    },
    {
     "name": "stdout",
     "output_type": "stream",
     "text": [
      "confusion matrix using test set: [[68  8]\n",
      " [19 40]] \n",
      "\n",
      "accuracy score manual test: 0.8 \n",
      "\n",
      "accuracy score sklearn test: 0.8 \n",
      "\n",
      "classification error manual test: 0.2 \n",
      "\n",
      "classification error sklearn test: 0.2 \n",
      "\n",
      "sensitivity manual test: 0.677966101695 \n",
      "\n",
      "sensitivity sklearn test: 0.677966101695 \n",
      "\n",
      "specificity manual test: 0.894736842105 \n",
      "\n",
      "false positive rate manual test: 0.105263157895 \n",
      "\n",
      "1 - specificity test: 0.105263157895 \n",
      "\n",
      "precision manual: 0.833333333333 \n",
      "\n",
      "precision sklearn: 0.833333333333 \n",
      "\n",
      "F1 score sklearn test: 0.747663551402 \n",
      "\n"
     ]
    },
    {
     "data": {
      "image/png": "[encoded data removed]",
      "text/plain": [
       "<matplotlib.figure.Figure at 0x117aa3fd0>"
      ]
     },
     "metadata": {},
     "output_type": "display_data"
    },
    {
     "data": {
      "image/png": "[encoded data removed]",
      "text/plain": [
       "<matplotlib.figure.Figure at 0x11b3afa20>"
      ]
     },
     "metadata": {},
     "output_type": "display_data"
    },
    {
     "data": {
      "image/png": "[encoded data removed]",
      "text/plain": [
       "<matplotlib.figure.Figure at 0x117c41940>"
      ]
     },
     "metadata": {},
     "output_type": "display_data"
    },
    {
     "name": "stdout",
     "output_type": "stream",
     "text": [
      "AUC for CV test set class 1: 0.864183764496 \n",
      "\n"
     ]
    }
   ],
   "source": [
    "def analysis(clf, X_train, y_train, X_test, y_test):\n",
    "    #try out how well the classifier works to predict from the test set\n",
    "  y_pred = clf.predict(X_test)\n",
    "  y_pred_proba = clf.predict_proba(X_test)\n",
    "\n",
    "  def conf_mat(y_test, y_pred):\n",
    "    # IMPORTANT: first argument is true values, second argument is predicted values\n",
    "    # this produces a 2x2 numpy array (matrix)\n",
    "    conf_mat_test = metrics.confusion_matrix(y_test, y_pred)\n",
    "    def draw_conf_mat(matrix):\n",
    "      labels = ['0', '1']      \n",
    "      ax = plt.subplot()\n",
    "      sns.heatmap(matrix, annot=True, ax=ax)\n",
    "      plt.title('Confusion matrix of the classifier')\n",
    "      ax.set_xticklabels(labels)\n",
    "      ax.set_yticklabels(labels)\n",
    "      plt.xlabel('Predicted')\n",
    "      plt.ylabel('True')\n",
    "      plt.show()\n",
    "\n",
    "    draw_conf_mat(conf_mat_test)\n",
    "      \n",
    "    TP = conf_mat_test[1, 1]\n",
    "    TN = conf_mat_test[0, 0]\n",
    "    FP = conf_mat_test[0, 1]\n",
    "    FN = conf_mat_test[1, 0]\n",
    "\n",
    "    print('confusion matrix using test set: %s \\n' %conf_mat_test)\n",
    "      \n",
    "    #calculate accuracy\n",
    "    acc_score_man_test = (TP + TN) / float(TP + TN + FP + FN)\n",
    "    acc_score_sklearn_test = metrics.accuracy_score(y_test, y_pred)\n",
    "    print('accuracy score manual test: %s \\n' %acc_score_man_test)\n",
    "    print('accuracy score sklearn test: %s \\n' %acc_score_sklearn_test)\n",
    "        \n",
    "    #classification error\n",
    "    class_err_man_test = (FP + FN) / float(TP + TN + FP + FN)\n",
    "    class_err_sklearn_test = 1 - metrics.accuracy_score(y_test, y_pred)\n",
    "    print('classification error manual test: %s \\n' %class_err_man_test)\n",
    "    print('classification error sklearn test: %s \\n' %class_err_sklearn_test)\n",
    "        \n",
    "    #sensitivity/recall/true positive rate; correctly placed positive cases  \n",
    "    sensitivity_man_test = TP / float(FN + TP)\n",
    "    sensitivity_sklearn_test = metrics.recall_score(y_test, y_pred)\n",
    "    print('sensitivity manual test: %s \\n' %sensitivity_man_test)\n",
    "    print('sensitivity sklearn test: %s \\n' %sensitivity_sklearn_test)\n",
    "      \n",
    "    #specificity  \n",
    "    specificity_man_test = TN / (TN + FP)\n",
    "    print('specificity manual test: %s \\n' %specificity_man_test)\n",
    "      \n",
    "    #false positive rate  \n",
    "    false_positive_rate_man_test = FP / float(TN + FP)\n",
    "    print('false positive rate manual test: %s \\n' %false_positive_rate_man_test)\n",
    "    print('1 - specificity test: %s \\n' %(1 - specificity_man_test))\n",
    "      \n",
    "    #precision/confidence of placement  \n",
    "    precision_man_test = TP / float(TP + FP)\n",
    "    precision_sklearn_test = metrics.precision_score(y_test, y_pred)\n",
    "    print('precision manual: %s \\n' %precision_man_test)\n",
    "    print('precision sklearn: %s \\n' %precision_sklearn_test)\n",
    "      \n",
    "    #F1 score; uses precision and recall  \n",
    "    f1_score_sklearn_test = f1_score(y_test, y_pred)\n",
    "    print('F1 score sklearn test: %s \\n' %f1_score_sklearn_test)\n",
    "        \n",
    "  conf_mat(y_test, y_pred)\n",
    "\n",
    "  def prediction_probas(clf, X_train, y_train, X_test, y_test, y_pred_proba): \n",
    "    #plot histograms of probabilities  \n",
    "    def plot_hist_pred_proba(y_pred_proba):\n",
    "      plt.hist(y_pred_proba, bins=20)\n",
    "      plt.xlim(0,1)\n",
    "      plt.title('Histogram of predicted probabilities for y_pred_proba to be class 1')\n",
    "      plt.xlabel('Predicted probability of EP_success')\n",
    "      plt.ylabel('Frequency')\n",
    "      plt.show()\n",
    "        \n",
    "    plot_hist_pred_proba(y_pred_proba[:, 1])\n",
    "\n",
    "    y_scores_ones = y_pred_proba[:, 1]#test data to be class 1\n",
    "      \n",
    "    #plot precision and recall curve\n",
    "    def plot_precision_recall_vs_threshold(precisions, recalls, thresholds_tree):\n",
    "      plt.plot(thresholds_tree, precisions[:-1], \"b--\", label=\"Precision\")\n",
    "      plt.plot(thresholds_tree, recalls[:-1], \"g--\", label=\"Recall\")\n",
    "      plt.title('Precsion-Recall plot for for EP_success classifier using class 1')\n",
    "      plt.xlabel(\"Threshold\")\n",
    "      plt.legend(loc=\"upper left\")\n",
    "      plt.ylim([0,1])\n",
    "      plt.show()\n",
    "\n",
    "    #plot Precision Recall Threshold curve for test set        \n",
    "    precisions, recalls, thresholds_tree = precision_recall_curve(y_test, y_scores_ones)\n",
    "    plot_precision_recall_vs_threshold(precisions, recalls, thresholds_tree)\n",
    "\n",
    "    #IMPORTANT: first argument is true values, second argument is predicted probabilities\n",
    "    #we pass y_test and y_pred_prob\n",
    "    #we do not use y_pred_class, because it will give incorrect results without generating an error\n",
    "    #roc_curve returns 3 objects fpr, tpr, thresholds\n",
    "    #fpr: false positive rate\n",
    "    #tpr: true positive rate\n",
    "\n",
    "    #plot ROC curves\n",
    "    def plot_roc_curve(fpr, tpr):\n",
    "      plt.plot(fpr, tpr, linewidth=2)\n",
    "      plt.plot([0, 1], [0, 1], 'k--')\n",
    "      plt.axis([0, 1, 0, 1])\n",
    "      plt.title('ROC curve for EP_success classifier for class 1' ) \n",
    "      plt.xlabel('False Positive Rate (1 - Specificity)')\n",
    "      plt.ylabel('True Positive Rate (Sensitivity)')\n",
    "      plt.grid(True)\n",
    "      plt.show()\n",
    "        \n",
    "    #ROC curve for test set      \n",
    "    fpr, tpr, thresholds = roc_curve(y_test, y_scores_ones)\n",
    "    plot_roc_curve(fpr, tpr)\n",
    "      \n",
    "    #calculate the area under the curve to get the performance for a classifier\n",
    "    # IMPORTANT: first argument is true values, second argument is predicted probabilities\n",
    "    AUC_test_class1 = metrics.roc_auc_score(y_test, y_scores_ones)\n",
    "\n",
    "    print('AUC for test set class 1: %s \\n' %AUC_test_class1)\n",
    "\n",
    "  prediction_probas(clf, X_train, y_train, X_test, y_test, y_pred_proba)    \n",
    "\n",
    "analysis(forest_clf_rand_new, X_train, y_train, X_test, y_test)"
   ]
  },
  {
   "cell_type": "code",
   "execution_count": null,
   "metadata": {
    "collapsed": true
   },
   "outputs": [],
   "source": []
  }
 ],
 "metadata": {
  "kernelspec": {
   "display_name": "Python 3",
   "language": "python",
   "name": "python3"
  },
  "language_info": {
   "codemirror_mode": {
    "name": "ipython",
    "version": 3
   },
   "file_extension": ".py",
   "mimetype": "text/x-python",
   "name": "python",
   "nbconvert_exporter": "python",
   "pygments_lexer": "ipython3",
   "version": "3.6.1"
  }
 },
 "nbformat": 4,
 "nbformat_minor": 2
}
