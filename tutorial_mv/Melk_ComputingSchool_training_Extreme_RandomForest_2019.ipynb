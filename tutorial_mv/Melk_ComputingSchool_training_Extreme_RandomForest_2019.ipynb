{
 "cells": [
  {
   "cell_type": "markdown",
   "metadata": {},
   "source": [
    "# Library Import\n",
    "\n",
    "Pandas\n",
    "Importing the data into a dataframe; for manipulations of the dataframe and easy plotting\n",
    "\n",
    "Numpy\n",
    "For vector and matrix calculations\n",
    "\n",
    "Matplotlib\n",
    "For plotting\n",
    "\n",
    "Seaborn\n",
    "For plotting\n",
    "\n",
    "SKLearn\n",
    "For the machine learning part\n",
    "\n",
    "Scipy\n",
    "For some statistics\n"
   ]
  },
  {
   "cell_type": "code",
   "execution_count": 2,
   "metadata": {},
   "outputs": [
    {
     "name": "stderr",
     "output_type": "stream",
     "text": [
      "/Users/melanievollmar/anaconda/lib/python3.6/site-packages/sklearn/externals/joblib/__init__.py:15: DeprecationWarning: sklearn.externals.joblib is deprecated in 0.21 and will be removed in 0.23. Please import this functionality directly from joblib, which can be installed with: pip install joblib. If this warning is raised when loading pickled models, you may need to re-serialize those models with scikit-learn 0.21+.\n",
      "  warnings.warn(msg, category=DeprecationWarning)\n"
     ]
    }
   ],
   "source": [
    "%matplotlib inline\n",
    "\n",
    "import pandas as pd\n",
    "import numpy as np\n",
    "import matplotlib.pyplot as plt\n",
    "import seaborn as sns\n",
    "import matplotlib.colorbar as mpl\n",
    "import subprocess\n",
    "from sklearn import metrics\n",
    "\n",
    "from sklearn.preprocessing import StandardScaler\n",
    "from sklearn.model_selection import train_test_split\n",
    "from sklearn.model_selection import RandomizedSearchCV\n",
    "from sklearn.ensemble import ExtraTreesClassifier\n",
    "from sklearn.model_selection import cross_val_score\n",
    "from sklearn.model_selection import cross_val_predict\n",
    "from sklearn.metrics import confusion_matrix, precision_score, recall_score, f1_score\n",
    "from sklearn.metrics import precision_recall_curve, roc_curve\n",
    "from sklearn.tree import export_graphviz\n",
    "from sklearn.externals import joblib\n",
    "from scipy.stats import randint\n",
    "from scipy.stats import uniform\n",
    "from datetime import datetime"
   ]
  },
  {
   "cell_type": "markdown",
   "metadata": {},
   "source": [
    "# Data Import"
   ]
  },
  {
   "cell_type": "code",
   "execution_count": 3,
   "metadata": {},
   "outputs": [
    {
     "name": "stdout",
     "output_type": "stream",
     "text": [
      "   sweep_id  pdb_id_id  wavelength  MR_success  TFZ   LLG  PAK  mr_reso  \\\n",
      "0       144       1003      0.9797         0.0  5.8  33.0  5.0     1.38   \n",
      "1       145       1003      0.9184         0.0  5.8  33.0  5.0     1.38   \n",
      "2       146       1003      0.9792         0.0  5.8  33.0  5.0     1.38   \n",
      "3       918        101      0.9793         0.0  4.1  17.0  1.0     1.66   \n",
      "4       919        101      0.9537         0.0  4.1  17.0  1.0     1.66   \n",
      "\n",
      "   mr_sg  mr_sg_no     ...       wilsonbfactor  RmeasI  highreslimit  \\\n",
      "0  P1211         4     ...               11.28  0.0723          1.38   \n",
      "1  P1211         4     ...               11.30  0.0846          1.41   \n",
      "2  P1211         4     ...               11.21  0.0879          1.39   \n",
      "3     H3       146     ...               20.88  0.0910          1.66   \n",
      "4     H3       146     ...               20.26  0.0937          1.67   \n",
      "\n",
      "   RpimdiffI anomalousmulti  RmergediffI  totalobservations  anomalouscompl  \\\n",
      "0     0.0442           1.73       0.0477             290215           91.57   \n",
      "1     0.0475           1.75       0.0512             275712           92.33   \n",
      "2     0.0412           1.73       0.0444             284616           91.64   \n",
      "3     0.0607           1.88       0.0644             206737           95.25   \n",
      "4     0.0624           1.91       0.0660             208630           97.15   \n",
      "\n",
      "   cchalf  totalunique  \n",
      "0  0.9983        87299  \n",
      "1  0.9976        82033  \n",
      "2  0.9972        85517  \n",
      "3  0.9972        56237  \n",
      "4  0.9973        55392  \n",
      "\n",
      "[5 rows x 38 columns]\n"
     ]
    }
   ],
   "source": [
    "data = pd.read_csv(\"data.csv\", na_filter=False, skipinitialspace=True, thousands=',')\n",
    "print(data.head())"
   ]
  },
  {
   "cell_type": "code",
   "execution_count": 4,
   "metadata": {},
   "outputs": [
    {
     "name": "stdout",
     "output_type": "stream",
     "text": [
      "(673, 38)\n"
     ]
    }
   ],
   "source": [
    "print(data.shape)"
   ]
  },
  {
   "cell_type": "markdown",
   "metadata": {},
   "source": [
    "# Isolate column names to use as features"
   ]
  },
  {
   "cell_type": "code",
   "execution_count": 5,
   "metadata": {},
   "outputs": [
    {
     "name": "stdout",
     "output_type": "stream",
     "text": [
      "Index(['sweep_id', 'pdb_id_id', 'wavelength', 'MR_success', 'TFZ', 'LLG',\n",
      "       'PAK', 'mr_reso', 'mr_sg', 'mr_sg_no', 'RMSD', 'VRMS', 'eLLG', 'tncs',\n",
      "       'model_pdb', 'seq_ident', 'model_res', 'anomalousCC', 'IoverSigma',\n",
      "       'completeness', 'diffI', 'RmergeI', 'lowreslimit', 'RpimI',\n",
      "       'multiplicity', 'RmeasdiffI', 'anomalousslope', 'diffF',\n",
      "       'wilsonbfactor', 'RmeasI', 'highreslimit', 'RpimdiffI',\n",
      "       'anomalousmulti', 'RmergediffI', 'totalobservations', 'anomalouscompl',\n",
      "       'cchalf', 'totalunique'],\n",
      "      dtype='object')\n"
     ]
    }
   ],
   "source": [
    "column_names = data.columns\n",
    "print(column_names)"
   ]
  },
  {
   "cell_type": "code",
   "execution_count": 6,
   "metadata": {},
   "outputs": [
    {
     "name": "stdout",
     "output_type": "stream",
     "text": [
      "Index(['wavelength', 'mr_reso', 'mr_sg_no', 'eLLG', 'tncs', 'model_res',\n",
      "       'anomalousCC', 'IoverSigma', 'completeness', 'diffI', 'RmergeI',\n",
      "       'lowreslimit', 'RpimI', 'multiplicity', 'RmeasdiffI', 'anomalousslope',\n",
      "       'diffF', 'wilsonbfactor', 'RmeasI', 'highreslimit', 'RpimdiffI',\n",
      "       'anomalousmulti', 'RmergediffI', 'totalobservations', 'anomalouscompl',\n",
      "       'cchalf', 'totalunique'],\n",
      "      dtype='object')\n"
     ]
    }
   ],
   "source": [
    "data_columns = data[['wavelength', 'mr_reso', 'mr_sg_no', 'eLLG', 'tncs',\n",
    "       'model_res', 'anomalousCC', 'IoverSigma', 'completeness', 'diffI',\n",
    "       'RmergeI', 'lowreslimit', 'RpimI', 'multiplicity', 'RmeasdiffI',\n",
    "       'anomalousslope', 'diffF', 'wilsonbfactor', 'RmeasI', 'highreslimit',\n",
    "       'RpimdiffI', 'anomalousmulti', 'RmergediffI', 'totalobservations',\n",
    "       'anomalouscompl', 'cchalf', 'totalunique']]\n",
    "\n",
    "data_columns_labels = data_columns.columns\n",
    "print(data_columns_labels)\n",
    "print(data_columns.shape)"
   ]
  },
  {
   "cell_type": "markdown",
   "metadata": {},
   "source": [
    "# Fill in missing values"
   ]
  },
  {
   "cell_type": "code",
   "execution_count": 7,
   "metadata": {
    "collapsed": true
   },
   "outputs": [],
   "source": [
    "data_columns_fill = data_columns.fillna(0)"
   ]
  },
  {
   "cell_type": "markdown",
   "metadata": {},
   "source": [
    "# Data split - test and training set "
   ]
  },
  {
   "cell_type": "code",
   "execution_count": 8,
   "metadata": {
    "collapsed": true
   },
   "outputs": [],
   "source": [
    "y = data['MR_success']\n",
    "\n",
    "X_train, X_test, y_train, y_test = train_test_split(data_columns_fill, y, \n",
    "                                                    test_size=0.2,\n",
    "                                                    random_state=42,\n",
    "                                                    stratify=y)"
   ]
  },
  {
   "cell_type": "markdown",
   "metadata": {},
   "source": [
    "# Find best Extreme Random Forest in RandomizedSearch"
   ]
  },
  {
   "cell_type": "code",
   "execution_count": 10,
   "metadata": {},
   "outputs": [
    {
     "name": "stdout",
     "output_type": "stream",
     "text": [
      "Best parameters: {'class_weight': None, 'criterion': 'gini', 'max_features': 17, 'max_leaf_nodes': 16, 'min_samples_leaf': 17, 'min_samples_split': 11, 'n_estimators': 1132}\n",
      "\n",
      "Best score: 0.67843866171\n",
      "\n"
     ]
    },
    {
     "data": {
      "text/plain": [
       "{'class_weight': None,\n",
       " 'criterion': 'gini',\n",
       " 'max_features': 17,\n",
       " 'max_leaf_nodes': 16,\n",
       " 'min_samples_leaf': 17,\n",
       " 'min_samples_split': 11,\n",
       " 'n_estimators': 1132}"
      ]
     },
     "execution_count": 10,
     "metadata": {},
     "output_type": "execute_result"
    }
   ],
   "source": [
    "def rand_search(X_train, y_train):\n",
    "  #create the random forest\n",
    "  extra_clf_rand = ExtraTreesClassifier(random_state=100,\n",
    "                                        max_depth=1,\n",
    "                                        n_jobs=-1)\n",
    "    \n",
    "  #set up grid search\n",
    "  param_rand = {'criterion': [\"gini\", \"entropy\"],#metric to judge reduction of impurity\n",
    "                'class_weight': ['balanced', None],\n",
    "                'n_estimators': randint(100, 10000),#number of trees in forest\n",
    "                'max_features': randint(2, len(X_train.columns)),#max number of features when splitting\n",
    "                'min_samples_split': randint(2, 20),#min samples per node to induce split\n",
    "                'min_samples_leaf': randint(1, 20),#min number of samples in a leaf\n",
    "                'max_leaf_nodes': randint(10, 20)}#max number of leaves\n",
    "\n",
    "  #building and running the grid search\n",
    "  rand_search = RandomizedSearchCV(extra_clf_rand,\n",
    "                                   param_rand,\n",
    "                                   random_state=5,\n",
    "                                   cv=3,\n",
    "                                   n_iter=1,\n",
    "                                   scoring='accuracy',\n",
    "                                   n_jobs=-1)\n",
    "                              \n",
    "  rand_search = rand_search.fit(X_train, y_train)\n",
    "  print('Best parameters: ' +str(rand_search.best_params_)+'\\n')\n",
    "  print('Best score: ' +str(rand_search.best_score_)+'\\n')\n",
    "    \n",
    "  best_params = rand_search.best_params_\n",
    "  return best_params\n",
    "\n",
    "rand_search(X_train, y_train)"
   ]
  },
  {
   "cell_type": "markdown",
   "metadata": {},
   "source": [
    "# Build best Extreme Random Forest, plot feature importances and get basic stats"
   ]
  },
  {
   "cell_type": "code",
   "execution_count": 11,
   "metadata": {},
   "outputs": [
    {
     "name": "stdout",
     "output_type": "stream",
     "text": [
      "Get various cross_val_scores to evaluate clf performance for best parameters \n",
      "\n",
      "Accuracy for each of 3 CV folds: [ 0.73333333  0.78212291  0.74860335] \n",
      "\n",
      "Mean accuracy over all 3 CV folds: 0.754686530106 \n",
      "\n",
      "ROC_AUC mean for 3-fold CV: 0.805111815953 \n",
      "\n",
      "Accuracy mean for 3-fold CV: 0.754686530106 \n",
      "\n",
      "Recall mean for 3-fold CV: 0.600129827978 \n",
      "\n",
      "Precision mean for 3-fold CV: 0.790367824266 \n",
      "\n",
      "F1 score mean for 3-fold CV: 0.681418505217 \n",
      "\n"
     ]
    },
    {
     "data": {
      "image/png": "[encoded data removed]",
      "text/plain": [
       "<matplotlib.figure.Figure at 0x103253da0>"
      ]
     },
     "metadata": {},
     "output_type": "display_data"
    }
   ],
   "source": [
    "extreme_clf_rand_new = ExtraTreesClassifier(class_weight = None,\n",
    "                                            criterion = 'gini',\n",
    "                                            max_features = 17,\n",
    "                                            max_leaf_nodes = 16,\n",
    "                                            min_samples_leaf = 17,\n",
    "                                            min_samples_split = 11,\n",
    "                                            n_estimators = 1132,\n",
    "                                            random_state=42,\n",
    "                                            n_jobs=-1)\n",
    "extreme_clf_rand_new.fit(X_train, y_train)\n",
    "\n",
    "def feature_importances_pandas(clf, X_train):   \n",
    "  datestring = datetime.strftime(datetime.now(), '%Y%m%d_%H%M')      \n",
    "  feature_list = []\n",
    "  for tree in clf.estimators_:\n",
    "    feature_importances_ls = tree.feature_importances_\n",
    "    feature_list.append(feature_importances_ls)\n",
    "        \n",
    "  df = pd.DataFrame(feature_list, columns=X_train.columns)\n",
    "  df_mean = df[X_train.columns].mean(axis=0)\n",
    "  df_mean.sort_values(ascending=False, inplace=True)  \n",
    "  df_std = df[X_train.columns].std(axis=0)\n",
    "  df_mean.plot(kind='bar', color='b', yerr=[df_std], align=\"center\", figsize=(20,10), rot=90, fontsize=16)\n",
    "  plt.title('Histogram of Feature Importances for Extreme Random Forest Classifier')\n",
    "  plt.xlabel('Features')\n",
    "  plt.tight_layout()\n",
    "  plt.show\n",
    "      \n",
    "feature_importances_pandas(extreme_clf_rand_new, X_train)\n",
    "   \n",
    "def write_pickle(clf):\n",
    "  datestring = datetime.strftime(datetime.now(), '%Y%m%d_%H%M')\n",
    "  joblib.dump(clf, 'best_tree_rand_'+datestring+'.pkl')\n",
    "    \n",
    "write_pickle(extreme_clf_rand_new)\n",
    "    \n",
    "def visualise_tree(tree_bag, columns):\n",
    "  datestring = datetime.strftime(datetime.now(), '%Y%m%d_%H%M')\n",
    "  trees = tree_bag.estimators_\n",
    "  i_tree = 0\n",
    "  for tree in trees:\n",
    "    with open('extreme_clf_rand_bag_new_'+datestring+str(i_tree)+'.dot', 'w') as f:\n",
    "      export_graphviz(tree, out_file=f, feature_names=columns, rounded=True, filled=True)\n",
    "      f.close()\n",
    "    dotfile = 'extreme_clf_rand_bag_new_'+datestring+str(i_tree)+'.dot'\n",
    "    pngfile = 'extreme_clf_rand_bag_new_'+datestring+str(i_tree)+'.png'\n",
    "    command = [\"dot\", \"-Tpng\", dotfile, \"-o\", pngfile]\n",
    "    subprocess.check_call(command)\n",
    "    i_tree = i_tree + 1\n",
    "\n",
    "visualise_tree(extreme_clf_rand_new, X_train.columns)\n",
    "\n",
    "def basic_stats(clf, X_train, y_train):\n",
    "  #distribution --> accuracy\n",
    "  accuracy_each_cv = cross_val_score(clf, X_train, y_train, cv=3, scoring='accuracy')\n",
    "  accuracy_mean_cv = cross_val_score(clf, X_train, y_train, cv=3, scoring='accuracy').mean()\n",
    "  # calculate cross_val_scoring with different scoring functions for CV train set\n",
    "  train_roc_auc = cross_val_score(clf, X_train, y_train, cv=3, scoring='roc_auc').mean()\n",
    "  train_accuracy = cross_val_score(clf, X_train, y_train, cv=3, scoring='accuracy').mean()\n",
    "  train_recall = cross_val_score(clf, X_train, y_train, cv=3, scoring='recall').mean()\n",
    "  train_precision = cross_val_score(clf, X_train, y_train, cv=3, scoring='precision').mean()\n",
    "  train_f1 = cross_val_score(clf, X_train, y_train, cv=3, scoring='f1').mean()\n",
    "\n",
    "  print('Get various cross_val_scores to evaluate clf performance for best parameters \\n')     \n",
    "  print('Accuracy for each of 3 CV folds: %s \\n' %accuracy_each_cv)\n",
    "  print('Mean accuracy over all 3 CV folds: %s \\n' %accuracy_mean_cv)\n",
    "  print('ROC_AUC mean for 3-fold CV: %s \\n' %train_roc_auc)\n",
    "  print('Accuracy mean for 3-fold CV: %s \\n' %train_accuracy)\n",
    "  print('Recall mean for 3-fold CV: %s \\n' %train_recall)\n",
    "  print('Precision mean for 3-fold CV: %s \\n' %train_precision)\n",
    "  print('F1 score mean for 3-fold CV: %s \\n' %train_f1)\n",
    "    \n",
    "basic_stats(extreme_clf_rand_new, X_train, y_train)\n"
   ]
  },
  {
   "cell_type": "markdown",
   "metadata": {},
   "source": [
    "# Predict using the test set on Extreme Random Forest"
   ]
  },
  {
   "cell_type": "code",
   "execution_count": 13,
   "metadata": {},
   "outputs": [
    {
     "name": "stdout",
     "output_type": "stream",
     "text": [
      "Accuracy score or agreement between y_test and y_pred_class: 0.733333333333 \n",
      "\n",
      "Class distribution for y_test: 0.0    76\n",
      "1.0    59\n",
      "Name: MR_success, dtype: int64 \n",
      "\n",
      "Percent 1s in y_test: 0.43703703703703706 \n",
      "\n",
      "Percent 0s in y_test: 0.5629629629629629 \n",
      "\n",
      "Null accuracy in y_test: 0.5629629629629629 \n",
      "\n"
     ]
    },
    {
     "data": {
      "text/plain": [
       "(array([ 0.,  0.,  0.,  1.,  1.,  1.,  0.,  1.,  0.,  1.,  0.,  0.,  1.,\n",
       "         0.,  0.,  0.,  0.,  1.,  0.,  0.,  0.,  0.,  0.,  1.,  0.,  0.,\n",
       "         0.,  0.,  0.,  1.,  0.,  0.,  0.,  0.,  1.,  1.,  1.,  0.,  0.,\n",
       "         0.,  1.,  0.,  0.,  0.,  0.,  0.,  0.,  0.,  0.,  1.,  1.,  1.,\n",
       "         1.,  0.,  0.,  0.,  0.,  1.,  0.,  0.,  0.,  1.,  0.,  0.,  0.,\n",
       "         0.,  1.,  1.,  0.,  0.,  0.,  1.,  0.,  0.,  0.,  0.,  0.,  0.,\n",
       "         0.,  0.,  0.,  0.,  1.,  1.,  0.,  0.,  0.,  0.,  0.,  0.,  0.,\n",
       "         0.,  0.,  1.,  1.,  0.,  0.,  0.,  0.,  0.,  1.,  0.,  1.,  0.,\n",
       "         0.,  1.,  0.,  1.,  0.,  1.,  0.,  0.,  0.,  0.,  0.,  0.,  1.,\n",
       "         0.,  0.,  0.,  0.,  0.,  1.,  0.,  0.,  1.,  0.,  0.,  0.,  0.,\n",
       "         1.,  0.,  0.,  1.,  1.]), array([[ 0.72570817,  0.27429183],\n",
       "        [ 0.67207952,  0.32792048],\n",
       "        [ 0.52728465,  0.47271535],\n",
       "        [ 0.3474469 ,  0.6525531 ],\n",
       "        [ 0.22335982,  0.77664018],\n",
       "        [ 0.32867399,  0.67132601],\n",
       "        [ 0.63103925,  0.36896075],\n",
       "        [ 0.31905229,  0.68094771],\n",
       "        [ 0.63961426,  0.36038574],\n",
       "        [ 0.2983784 ,  0.7016216 ],\n",
       "        [ 0.70714129,  0.29285871],\n",
       "        [ 0.64483231,  0.35516769],\n",
       "        [ 0.31237252,  0.68762748],\n",
       "        [ 0.80968029,  0.19031971],\n",
       "        [ 0.73764855,  0.26235145],\n",
       "        [ 0.63029467,  0.36970533],\n",
       "        [ 0.70113051,  0.29886949],\n",
       "        [ 0.19631438,  0.80368562],\n",
       "        [ 0.5119844 ,  0.4880156 ],\n",
       "        [ 0.68112071,  0.31887929],\n",
       "        [ 0.71282953,  0.28717047],\n",
       "        [ 0.68606727,  0.31393273],\n",
       "        [ 0.75648091,  0.24351909],\n",
       "        [ 0.2921067 ,  0.7078933 ],\n",
       "        [ 0.71694607,  0.28305393],\n",
       "        [ 0.78972536,  0.21027464],\n",
       "        [ 0.59073359,  0.40926641],\n",
       "        [ 0.69814659,  0.30185341],\n",
       "        [ 0.50859507,  0.49140493],\n",
       "        [ 0.40635132,  0.59364868],\n",
       "        [ 0.75485123,  0.24514877],\n",
       "        [ 0.60985059,  0.39014941],\n",
       "        [ 0.619383  ,  0.380617  ],\n",
       "        [ 0.77780824,  0.22219176],\n",
       "        [ 0.48452542,  0.51547458],\n",
       "        [ 0.27559019,  0.72440981],\n",
       "        [ 0.24566876,  0.75433124],\n",
       "        [ 0.62448207,  0.37551793],\n",
       "        [ 0.65517484,  0.34482516],\n",
       "        [ 0.76792245,  0.23207755],\n",
       "        [ 0.22778898,  0.77221102],\n",
       "        [ 0.6586657 ,  0.3413343 ],\n",
       "        [ 0.68442643,  0.31557357],\n",
       "        [ 0.86383814,  0.13616186],\n",
       "        [ 0.73240164,  0.26759836],\n",
       "        [ 0.595809  ,  0.404191  ],\n",
       "        [ 0.63007757,  0.36992243],\n",
       "        [ 0.68003086,  0.31996914],\n",
       "        [ 0.72829525,  0.27170475],\n",
       "        [ 0.42053853,  0.57946147],\n",
       "        [ 0.32118449,  0.67881551],\n",
       "        [ 0.34719767,  0.65280233],\n",
       "        [ 0.42989013,  0.57010987],\n",
       "        [ 0.52900729,  0.47099271],\n",
       "        [ 0.64505749,  0.35494251],\n",
       "        [ 0.54344196,  0.45655804],\n",
       "        [ 0.6400982 ,  0.3599018 ],\n",
       "        [ 0.45219255,  0.54780745],\n",
       "        [ 0.71179607,  0.28820393],\n",
       "        [ 0.86024194,  0.13975806],\n",
       "        [ 0.6590604 ,  0.3409396 ],\n",
       "        [ 0.38046882,  0.61953118],\n",
       "        [ 0.51308086,  0.48691914],\n",
       "        [ 0.65539661,  0.34460339],\n",
       "        [ 0.87706297,  0.12293703],\n",
       "        [ 0.72694596,  0.27305404],\n",
       "        [ 0.42160807,  0.57839193],\n",
       "        [ 0.47285158,  0.52714842],\n",
       "        [ 0.53882279,  0.46117721],\n",
       "        [ 0.60430202,  0.39569798],\n",
       "        [ 0.63586234,  0.36413766],\n",
       "        [ 0.21813635,  0.78186365],\n",
       "        [ 0.69274705,  0.30725295],\n",
       "        [ 0.72117914,  0.27882086],\n",
       "        [ 0.7228132 ,  0.2771868 ],\n",
       "        [ 0.7011039 ,  0.2988961 ],\n",
       "        [ 0.69491991,  0.30508009],\n",
       "        [ 0.71272579,  0.28727421],\n",
       "        [ 0.65308388,  0.34691612],\n",
       "        [ 0.74379176,  0.25620824],\n",
       "        [ 0.66184445,  0.33815555],\n",
       "        [ 0.6821031 ,  0.3178969 ],\n",
       "        [ 0.33519876,  0.66480124],\n",
       "        [ 0.22355418,  0.77644582],\n",
       "        [ 0.64515457,  0.35484543],\n",
       "        [ 0.71698353,  0.28301647],\n",
       "        [ 0.65359463,  0.34640537],\n",
       "        [ 0.78873078,  0.21126922],\n",
       "        [ 0.6656398 ,  0.3343602 ],\n",
       "        [ 0.6917085 ,  0.3082915 ],\n",
       "        [ 0.51793343,  0.48206657],\n",
       "        [ 0.67919991,  0.32080009],\n",
       "        [ 0.72031315,  0.27968685],\n",
       "        [ 0.22345933,  0.77654067],\n",
       "        [ 0.15814242,  0.84185758],\n",
       "        [ 0.78889334,  0.21110666],\n",
       "        [ 0.67075937,  0.32924063],\n",
       "        [ 0.70984099,  0.29015901],\n",
       "        [ 0.74327128,  0.25672872],\n",
       "        [ 0.5812612 ,  0.4187388 ],\n",
       "        [ 0.24494185,  0.75505815],\n",
       "        [ 0.55968279,  0.44031721],\n",
       "        [ 0.32182745,  0.67817255],\n",
       "        [ 0.60223044,  0.39776956],\n",
       "        [ 0.63219197,  0.36780803],\n",
       "        [ 0.36521985,  0.63478015],\n",
       "        [ 0.71810169,  0.28189831],\n",
       "        [ 0.31841495,  0.68158505],\n",
       "        [ 0.70562632,  0.29437368],\n",
       "        [ 0.29029297,  0.70970703],\n",
       "        [ 0.64288974,  0.35711026],\n",
       "        [ 0.53278424,  0.46721576],\n",
       "        [ 0.77148293,  0.22851707],\n",
       "        [ 0.63216763,  0.36783237],\n",
       "        [ 0.72684765,  0.27315235],\n",
       "        [ 0.56188754,  0.43811246],\n",
       "        [ 0.45486304,  0.54513696],\n",
       "        [ 0.68285398,  0.31714602],\n",
       "        [ 0.66826639,  0.33173361],\n",
       "        [ 0.52212468,  0.47787532],\n",
       "        [ 0.71845509,  0.28154491],\n",
       "        [ 0.85878442,  0.14121558],\n",
       "        [ 0.31471226,  0.68528774],\n",
       "        [ 0.77075953,  0.22924047],\n",
       "        [ 0.72185966,  0.27814034],\n",
       "        [ 0.36915489,  0.63084511],\n",
       "        [ 0.54566394,  0.45433606],\n",
       "        [ 0.61407723,  0.38592277],\n",
       "        [ 0.57196784,  0.42803216],\n",
       "        [ 0.63692472,  0.36307528],\n",
       "        [ 0.28281729,  0.71718271],\n",
       "        [ 0.66449427,  0.33550573],\n",
       "        [ 0.61078572,  0.38921428],\n",
       "        [ 0.18391548,  0.81608452],\n",
       "        [ 0.40425709,  0.59574291]]))"
      ]
     },
     "execution_count": 13,
     "metadata": {},
     "output_type": "execute_result"
    }
   ],
   "source": [
    "def predict(clf, X_test):\n",
    "  #try out how well the classifier works to predict from the test set\n",
    "  y_pred = clf.predict(X_test)\n",
    "  y_pred_proba = clf.predict_proba(X_test)\n",
    "\n",
    "  def prediction_stats(y_test, y_pred):\n",
    "    # calculate accuracy\n",
    "    y_accuracy = metrics.accuracy_score(y_test, y_pred)\n",
    "\n",
    "    # examine the class distribution of the testing set (using a Pandas Series method)\n",
    "    class_dist = y_test.value_counts()\n",
    "\n",
    "    # calculate the percentage of ones\n",
    "    # because y_test only contains ones and zeros, we can simply calculate the mean = percentage of ones\n",
    "    ones = y_test.mean()\n",
    "\n",
    "    # calculate the percentage of zeros\n",
    "    zeros = 1 - y_test.mean()\n",
    "\n",
    "    # calculate null accuracy in a single line of code\n",
    "    # only for binary classification problems coded as 0/1\n",
    "    null_acc = max(y_test.mean(), 1 - y_test.mean())\n",
    "\n",
    "    print('Accuracy score or agreement between y_test and y_pred_class: %s \\n' %y_accuracy)\n",
    "    print('Class distribution for y_test: %s \\n' %class_dist)\n",
    "    print('Percent 1s in y_test: %s \\n' %ones)\n",
    "    print('Percent 0s in y_test: %s \\n' %zeros)\n",
    "    print('Null accuracy in y_test: %s \\n' %null_acc)\n",
    "    \n",
    "  prediction_stats(y_test, y_pred)\n",
    "  \n",
    "  return y_pred, y_pred_proba\n",
    "\n",
    "predict(extreme_clf_rand_new, X_test)"
   ]
  },
  {
   "cell_type": "markdown",
   "metadata": {},
   "source": [
    "# Detailed analysis for Extreme Random Forest"
   ]
  },
  {
   "cell_type": "code",
   "execution_count": 14,
   "metadata": {},
   "outputs": [
    {
     "data": {
      "image/png": "[encoded data removed]",
      "text/plain": [
       "<matplotlib.figure.Figure at 0x10fe99b38>"
      ]
     },
     "metadata": {},
     "output_type": "display_data"
    },
    {
     "name": "stdout",
     "output_type": "stream",
     "text": [
      "confusion matrix using test set: [[69  7]\n",
      " [29 30]] \n",
      "\n",
      "accuracy score manual test: 0.733333333333 \n",
      "\n",
      "accuracy score sklearn test: 0.733333333333 \n",
      "\n",
      "classification error manual test: 0.266666666667 \n",
      "\n",
      "classification error sklearn test: 0.266666666667 \n",
      "\n",
      "sensitivity manual test: 0.508474576271 \n",
      "\n",
      "sensitivity sklearn test: 0.508474576271 \n",
      "\n",
      "specificity manual test: 0.907894736842 \n",
      "\n",
      "false positive rate manual test: 0.0921052631579 \n",
      "\n",
      "1 - specificity test: 0.0921052631579 \n",
      "\n",
      "precision manual: 0.810810810811 \n",
      "\n",
      "precision sklearn: 0.810810810811 \n",
      "\n",
      "F1 score sklearn test: 0.625 \n",
      "\n"
     ]
    },
    {
     "data": {
      "image/png": "[encoded data removed]",
      "text/plain": [
       "<matplotlib.figure.Figure at 0x1132222b0>"
      ]
     },
     "metadata": {},
     "output_type": "display_data"
    },
    {
     "data": {
      "image/png": "[encoded data removed]",
      "text/plain": [
       "<matplotlib.figure.Figure at 0x10fd98b38>"
      ]
     },
     "metadata": {},
     "output_type": "display_data"
    },
    {
     "data": {
      "image/png": "[encoded data removed]",
      "text/plain": [
       "<matplotlib.figure.Figure at 0x1132375c0>"
      ]
     },
     "metadata": {},
     "output_type": "display_data"
    },
    {
     "name": "stdout",
     "output_type": "stream",
     "text": [
      "AUC for CV test set class 1: 0.842328278323 \n",
      "\n"
     ]
    }
   ],
   "source": [
    "def analysis(clf, X_train, y_train, X_test, y_test):\n",
    "    #try out how well the classifier works to predict from the test set\n",
    "  y_pred = clf.predict(X_test)\n",
    "  y_pred_proba = clf.predict_proba(X_test)\n",
    "\n",
    "  def conf_mat(y_test, y_pred):\n",
    "    # IMPORTANT: first argument is true values, second argument is predicted values\n",
    "    # this produces a 2x2 numpy array (matrix)\n",
    "    conf_mat_test = metrics.confusion_matrix(y_test, y_pred)\n",
    "    def draw_conf_mat(matrix):\n",
    "      labels = ['0', '1']      \n",
    "      ax = plt.subplot()\n",
    "      sns.heatmap(matrix, annot=True, ax=ax)\n",
    "      plt.title('Confusion matrix of the classifier')\n",
    "      ax.set_xticklabels(labels)\n",
    "      ax.set_yticklabels(labels)\n",
    "      plt.xlabel('Predicted')\n",
    "      plt.ylabel('True')\n",
    "      plt.show()\n",
    "\n",
    "    draw_conf_mat(conf_mat_test)\n",
    "      \n",
    "    TP = conf_mat_test[1, 1]\n",
    "    TN = conf_mat_test[0, 0]\n",
    "    FP = conf_mat_test[0, 1]\n",
    "    FN = conf_mat_test[1, 0]\n",
    "\n",
    "    print('confusion matrix using test set: %s \\n' %conf_mat_test)\n",
    "      \n",
    "    #calculate accuracy\n",
    "    acc_score_man_test = (TP + TN) / float(TP + TN + FP + FN)\n",
    "    acc_score_sklearn_test = metrics.accuracy_score(y_test, y_pred)\n",
    "    print('accuracy score manual test: %s \\n' %acc_score_man_test)\n",
    "    print('accuracy score sklearn test: %s \\n' %acc_score_sklearn_test)\n",
    "        \n",
    "    #classification error\n",
    "    class_err_man_test = (FP + FN) / float(TP + TN + FP + FN)\n",
    "    class_err_sklearn_test = 1 - metrics.accuracy_score(y_test, y_pred)\n",
    "    print('classification error manual test: %s \\n' %class_err_man_test)\n",
    "    print('classification error sklearn test: %s \\n' %class_err_sklearn_test)\n",
    "        \n",
    "    #sensitivity/recall/true positive rate; correctly placed positive cases  \n",
    "    sensitivity_man_test = TP / float(FN + TP)\n",
    "    sensitivity_sklearn_test = metrics.recall_score(y_test, y_pred)\n",
    "    print('sensitivity manual test: %s \\n' %sensitivity_man_test)\n",
    "    print('sensitivity sklearn test: %s \\n' %sensitivity_sklearn_test)\n",
    "      \n",
    "    #specificity  \n",
    "    specificity_man_test = TN / (TN + FP)\n",
    "    print('specificity manual test: %s \\n' %specificity_man_test)\n",
    "      \n",
    "    #false positive rate  \n",
    "    false_positive_rate_man_test = FP / float(TN + FP)\n",
    "    print('false positive rate manual test: %s \\n' %false_positive_rate_man_test)\n",
    "    print('1 - specificity test: %s \\n' %(1 - specificity_man_test))\n",
    "      \n",
    "    #precision/confidence of placement  \n",
    "    precision_man_test = TP / float(TP + FP)\n",
    "    precision_sklearn_test = metrics.precision_score(y_test, y_pred)\n",
    "    print('precision manual: %s \\n' %precision_man_test)\n",
    "    print('precision sklearn: %s \\n' %precision_sklearn_test)\n",
    "      \n",
    "    #F1 score; uses precision and recall  \n",
    "    f1_score_sklearn_test = f1_score(y_test, y_pred)\n",
    "    print('F1 score sklearn test: %s \\n' %f1_score_sklearn_test)\n",
    "        \n",
    "  conf_mat(y_test, y_pred)\n",
    "\n",
    "  def prediction_probas(clf, X_train, y_train, X_test, y_test, y_pred_proba): \n",
    "    #plot histograms of probabilities  \n",
    "    def plot_hist_pred_proba(y_pred_proba):\n",
    "      plt.hist(y_pred_proba, bins=20)\n",
    "      plt.xlim(0,1)\n",
    "      plt.title('Histogram of predicted probabilities for y_pred_proba to be class 1')\n",
    "      plt.xlabel('Predicted probability of EP_success')\n",
    "      plt.ylabel('Frequency')\n",
    "      plt.show()\n",
    "        \n",
    "    plot_hist_pred_proba(y_pred_proba[:, 1])\n",
    "\n",
    "    y_scores_ones = y_pred_proba[:, 1]#test data to be class 1\n",
    "      \n",
    "    #plot precision and recall curve\n",
    "    def plot_precision_recall_vs_threshold(precisions, recalls, thresholds_tree):\n",
    "      plt.plot(thresholds_tree, precisions[:-1], \"b--\", label=\"Precision\")\n",
    "      plt.plot(thresholds_tree, recalls[:-1], \"g--\", label=\"Recall\")\n",
    "      plt.title('Precsion-Recall plot for for EP_success classifier using class 1')\n",
    "      plt.xlabel(\"Threshold\")\n",
    "      plt.legend(loc=\"upper left\")\n",
    "      plt.ylim([0,1])\n",
    "      plt.show()\n",
    "\n",
    "    #plot Precision Recall Threshold curve for test set        \n",
    "    precisions, recalls, thresholds_tree = precision_recall_curve(y_test, y_scores_ones)\n",
    "    plot_precision_recall_vs_threshold(precisions, recalls, thresholds_tree)\n",
    "\n",
    "    #IMPORTANT: first argument is true values, second argument is predicted probabilities\n",
    "    #we pass y_test and y_pred_prob\n",
    "    #we do not use y_pred_class, because it will give incorrect results without generating an error\n",
    "    #roc_curve returns 3 objects fpr, tpr, thresholds\n",
    "    #fpr: false positive rate\n",
    "    #tpr: true positive rate\n",
    "\n",
    "    #plot ROC curves\n",
    "    def plot_roc_curve(fpr, tpr):\n",
    "      plt.plot(fpr, tpr, linewidth=2)\n",
    "      plt.plot([0, 1], [0, 1], 'k--')\n",
    "      plt.axis([0, 1, 0, 1])\n",
    "      plt.title('ROC curve for EP_success classifier for class 1' ) \n",
    "      plt.xlabel('False Positive Rate (1 - Specificity)')\n",
    "      plt.ylabel('True Positive Rate (Sensitivity)')\n",
    "      plt.grid(True)\n",
    "      plt.show()\n",
    "        \n",
    "    #ROC curve for test set      \n",
    "    fpr, tpr, thresholds = roc_curve(y_test, y_scores_ones)\n",
    "    plot_roc_curve(fpr, tpr)\n",
    "      \n",
    "    #calculate the area under the curve to get the performance for a classifier\n",
    "    # IMPORTANT: first argument is true values, second argument is predicted probabilities\n",
    "    AUC_test_class1 = metrics.roc_auc_score(y_test, y_scores_ones)\n",
    "\n",
    "    print('AUC for test set class 1: %s \\n' %AUC_test_class1)\n",
    "\n",
    "  prediction_probas(clf, X_train, y_train, X_test, y_test, y_pred_proba)    \n",
    "\n",
    "analysis(extreme_clf_rand_new, X_train, y_train, X_test, y_test)"
   ]
  },
  {
   "cell_type": "code",
   "execution_count": null,
   "metadata": {
    "collapsed": true
   },
   "outputs": [],
   "source": []
  }
 ],
 "metadata": {
  "kernelspec": {
   "display_name": "Python 3",
   "language": "python",
   "name": "python3"
  },
  "language_info": {
   "codemirror_mode": {
    "name": "ipython",
    "version": 3
   },
   "file_extension": ".py",
   "mimetype": "text/x-python",
   "name": "python",
   "nbconvert_exporter": "python",
   "pygments_lexer": "ipython3",
   "version": "3.6.1"
  }
 },
 "nbformat": 4,
 "nbformat_minor": 2
}
