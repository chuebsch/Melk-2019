{
 "cells": [
  {
   "cell_type": "markdown",
   "metadata": {},
   "source": [
    "# Library Import\n",
    "\n",
    "Pandas\n",
    "Importing the data into a dataframe; for manipulations of the dataframe and easy plotting\n",
    "\n",
    "Numpy\n",
    "For vector and matrix calculations\n",
    "\n",
    "Matplotlib\n",
    "For plotting\n",
    "\n",
    "Seaborn\n",
    "For plotting\n",
    "\n",
    "SKLearn\n",
    "For the machine learning part\n",
    "\n",
    "Scipy\n",
    "For some statistics\n"
   ]
  },
  {
   "cell_type": "code",
   "execution_count": 11,
   "metadata": {
    "collapsed": true
   },
   "outputs": [],
   "source": [
    "%matplotlib inline\n",
    "\n",
    "import pandas as pd\n",
    "import numpy as np\n",
    "import matplotlib.pyplot as plt\n",
    "import seaborn as sns\n",
    "import matplotlib.colorbar as mpl\n",
    "import subprocess\n",
    "from sklearn import metrics\n",
    "\n",
    "from sklearn.preprocessing import StandardScaler\n",
    "from sklearn.model_selection import train_test_split\n",
    "from sklearn.model_selection import RandomizedSearchCV\n",
    "from sklearn.svm import SVC\n",
    "from sklearn.model_selection import cross_val_score\n",
    "from sklearn.model_selection import cross_val_predict\n",
    "from sklearn.metrics import confusion_matrix, precision_score, recall_score, f1_score\n",
    "from sklearn.metrics import precision_recall_curve, roc_curve\n",
    "from sklearn.tree import export_graphviz\n",
    "from sklearn.externals import joblib\n",
    "from scipy.stats import randint\n",
    "from scipy.stats import uniform\n",
    "from scipy.stats import expon\n",
    "from datetime import datetime"
   ]
  },
  {
   "cell_type": "markdown",
   "metadata": {},
   "source": [
    "# Data Import"
   ]
  },
  {
   "cell_type": "code",
   "execution_count": 2,
   "metadata": {},
   "outputs": [
    {
     "name": "stdout",
     "output_type": "stream",
     "text": [
      "   sweep_id  pdb_id_id  wavelength  MR_success  TFZ   LLG  PAK  mr_reso  \\\n",
      "0       144       1003      0.9797         0.0  5.8  33.0  5.0     1.38   \n",
      "1       145       1003      0.9184         0.0  5.8  33.0  5.0     1.38   \n",
      "2       146       1003      0.9792         0.0  5.8  33.0  5.0     1.38   \n",
      "3       918        101      0.9793         0.0  4.1  17.0  1.0     1.66   \n",
      "4       919        101      0.9537         0.0  4.1  17.0  1.0     1.66   \n",
      "\n",
      "   mr_sg  mr_sg_no     ...       wilsonbfactor  RmeasI  highreslimit  \\\n",
      "0  P1211         4     ...               11.28  0.0723          1.38   \n",
      "1  P1211         4     ...               11.30  0.0846          1.41   \n",
      "2  P1211         4     ...               11.21  0.0879          1.39   \n",
      "3     H3       146     ...               20.88  0.0910          1.66   \n",
      "4     H3       146     ...               20.26  0.0937          1.67   \n",
      "\n",
      "   RpimdiffI anomalousmulti  RmergediffI  totalobservations  anomalouscompl  \\\n",
      "0     0.0442           1.73       0.0477             290215           91.57   \n",
      "1     0.0475           1.75       0.0512             275712           92.33   \n",
      "2     0.0412           1.73       0.0444             284616           91.64   \n",
      "3     0.0607           1.88       0.0644             206737           95.25   \n",
      "4     0.0624           1.91       0.0660             208630           97.15   \n",
      "\n",
      "   cchalf  totalunique  \n",
      "0  0.9983        87299  \n",
      "1  0.9976        82033  \n",
      "2  0.9972        85517  \n",
      "3  0.9972        56237  \n",
      "4  0.9973        55392  \n",
      "\n",
      "[5 rows x 38 columns]\n"
     ]
    }
   ],
   "source": [
    "data = pd.read_csv(\"data.csv\", na_filter=False, skipinitialspace=True, thousands=',')\n",
    "print(data.head())"
   ]
  },
  {
   "cell_type": "code",
   "execution_count": 3,
   "metadata": {},
   "outputs": [
    {
     "name": "stdout",
     "output_type": "stream",
     "text": [
      "(673, 38)\n"
     ]
    }
   ],
   "source": [
    "print(data.shape)"
   ]
  },
  {
   "cell_type": "markdown",
   "metadata": {},
   "source": [
    "# Isolate column names to use as features"
   ]
  },
  {
   "cell_type": "code",
   "execution_count": 4,
   "metadata": {},
   "outputs": [
    {
     "name": "stdout",
     "output_type": "stream",
     "text": [
      "Index(['sweep_id', 'pdb_id_id', 'wavelength', 'MR_success', 'TFZ', 'LLG',\n",
      "       'PAK', 'mr_reso', 'mr_sg', 'mr_sg_no', 'RMSD', 'VRMS', 'eLLG', 'tncs',\n",
      "       'model_pdb', 'seq_ident', 'model_res', 'anomalousCC', 'IoverSigma',\n",
      "       'completeness', 'diffI', 'RmergeI', 'lowreslimit', 'RpimI',\n",
      "       'multiplicity', 'RmeasdiffI', 'anomalousslope', 'diffF',\n",
      "       'wilsonbfactor', 'RmeasI', 'highreslimit', 'RpimdiffI',\n",
      "       'anomalousmulti', 'RmergediffI', 'totalobservations', 'anomalouscompl',\n",
      "       'cchalf', 'totalunique'],\n",
      "      dtype='object')\n"
     ]
    }
   ],
   "source": [
    "column_names = data.columns\n",
    "print(column_names)"
   ]
  },
  {
   "cell_type": "code",
   "execution_count": 5,
   "metadata": {},
   "outputs": [
    {
     "name": "stdout",
     "output_type": "stream",
     "text": [
      "Index(['wavelength', 'mr_reso', 'mr_sg_no', 'eLLG', 'tncs', 'model_res',\n",
      "       'anomalousCC', 'IoverSigma', 'completeness', 'diffI', 'RmergeI',\n",
      "       'lowreslimit', 'RpimI', 'multiplicity', 'RmeasdiffI', 'anomalousslope',\n",
      "       'diffF', 'wilsonbfactor', 'RmeasI', 'highreslimit', 'RpimdiffI',\n",
      "       'anomalousmulti', 'RmergediffI', 'totalobservations', 'anomalouscompl',\n",
      "       'cchalf', 'totalunique'],\n",
      "      dtype='object')\n"
     ]
    }
   ],
   "source": [
    "data_columns = data[['wavelength', 'mr_reso', 'mr_sg_no', 'eLLG', 'tncs',\n",
    "       'model_res', 'anomalousCC', 'IoverSigma', 'completeness', 'diffI',\n",
    "       'RmergeI', 'lowreslimit', 'RpimI', 'multiplicity', 'RmeasdiffI',\n",
    "       'anomalousslope', 'diffF', 'wilsonbfactor', 'RmeasI', 'highreslimit',\n",
    "       'RpimdiffI', 'anomalousmulti', 'RmergediffI', 'totalobservations',\n",
    "       'anomalouscompl', 'cchalf', 'totalunique']]\n",
    "\n",
    "data_columns_labels = data_columns.columns\n",
    "print(data_columns_labels)\n",
    "print(data_columns.shape)"
   ]
  },
  {
   "cell_type": "markdown",
   "metadata": {},
   "source": [
    "# Fill in missing values"
   ]
  },
  {
   "cell_type": "code",
   "execution_count": 6,
   "metadata": {
    "collapsed": true
   },
   "outputs": [],
   "source": [
    "data_columns_fill = data_columns.fillna(0)"
   ]
  },
  {
   "cell_type": "markdown",
   "metadata": {},
   "source": [
    "# Data split - test and training set "
   ]
  },
  {
   "cell_type": "code",
   "execution_count": 7,
   "metadata": {
    "collapsed": true
   },
   "outputs": [],
   "source": [
    "y = data['MR_success']\n",
    "\n",
    "X_train, X_test, y_train, y_test = train_test_split(data_columns_fill, y, \n",
    "                                                    test_size=0.2,\n",
    "                                                    random_state=42,\n",
    "                                                    stratify=y)"
   ]
  },
  {
   "cell_type": "markdown",
   "metadata": {},
   "source": [
    "# Standardise data for support vector machines"
   ]
  },
  {
   "cell_type": "code",
   "execution_count": 20,
   "metadata": {
    "collapsed": true
   },
   "outputs": [],
   "source": [
    "scaler = StandardScaler()\n",
    "scaler.fit(X_train)\n",
    "X_train_std = scaler.transform(X_train)\n",
    "X_test_std = scaler.transform(X_test)"
   ]
  },
  {
   "cell_type": "markdown",
   "metadata": {},
   "source": [
    "# Find best Linear SVM in RandomizedSearch"
   ]
  },
  {
   "cell_type": "code",
   "execution_count": 21,
   "metadata": {},
   "outputs": [
    {
     "name": "stdout",
     "output_type": "stream",
     "text": [
      "Best parameters: {'C': 25.101997732265257, 'class_weight': None}\n",
      "\n",
      "Best score: 0.726765799257\n",
      "\n"
     ]
    },
    {
     "data": {
      "text/plain": [
       "{'C': 25.101997732265257, 'class_weight': None}"
      ]
     },
     "execution_count": 21,
     "metadata": {},
     "output_type": "execute_result"
    }
   ],
   "source": [
    "def rand_search(X_train, y_train):\n",
    "  #create the random forest\n",
    "  svc_clf_rand = SVC(kernel='linear',\n",
    "                     probability=True,\n",
    "                     random_state=100)\n",
    "    \n",
    "  #set up grid search\n",
    "  param_rand = {'C': expon(scale=100),#penalty\n",
    "                'class_weight':['balanced', None]\n",
    "                }\n",
    "    \n",
    "  #building and running the grid search\n",
    "  rand_search = RandomizedSearchCV(svc_clf_rand,\n",
    "                                   param_rand,\n",
    "                                   cv=3,\n",
    "                                   scoring='accuracy',\n",
    "                                   random_state=5,\n",
    "                                   n_iter=1,\n",
    "                                   n_jobs=-1)\n",
    "                              \n",
    "  rand_search = rand_search.fit(X_train, y_train)\n",
    "  print('Best parameters: ' +str(rand_search.best_params_)+'\\n')\n",
    "  print('Best score: ' +str(rand_search.best_score_)+'\\n')\n",
    "    \n",
    "  best_params = rand_search.best_params_\n",
    "  return best_params\n",
    "\n",
    "rand_search(X_train_std, y_train)"
   ]
  },
  {
   "cell_type": "markdown",
   "metadata": {},
   "source": [
    "# Build best Linear SVM, plot feature importances and get basic stats"
   ]
  },
  {
   "cell_type": "code",
   "execution_count": 22,
   "metadata": {},
   "outputs": [
    {
     "name": "stdout",
     "output_type": "stream",
     "text": [
      "Get various cross_val_scores to evaluate clf performance for best parameters \n",
      "\n",
      "Accuracy for each of 3 CV folds: [ 0.71111111  0.74860335  0.72067039] \n",
      "\n",
      "Mean accuracy over all 3 CV folds: 0.726794951376 \n",
      "\n",
      "ROC_AUC mean for 3-fold CV: 0.783301893967 \n",
      "\n",
      "Accuracy mean for 3-fold CV: 0.726794951376 \n",
      "\n",
      "Recall mean for 3-fold CV: 0.566158173753 \n",
      "\n",
      "Precision mean for 3-fold CV: 0.752258433391 \n",
      "\n",
      "F1 score mean for 3-fold CV: 0.643530336763 \n",
      "\n"
     ]
    }
   ],
   "source": [
    "svc_clf_rand_new = SVC(class_weight = None,\n",
    "                       C = 25.101997732265257,\n",
    "                       kernel='linear',\n",
    "                       probability=True,\n",
    "                       random_state=100)\n",
    "\n",
    "svc_clf_rand_new.fit(X_train_std, y_train)\n",
    "\n",
    "def basic_stats(clf, X_train, y_train):\n",
    "  #distribution --> accuracy\n",
    "  accuracy_each_cv = cross_val_score(clf, X_train, y_train, cv=3, scoring='accuracy')\n",
    "  accuracy_mean_cv = cross_val_score(clf, X_train, y_train, cv=3, scoring='accuracy').mean()\n",
    "  # calculate cross_val_scoring with different scoring functions for CV train set\n",
    "  train_roc_auc = cross_val_score(clf, X_train, y_train, cv=3, scoring='roc_auc').mean()\n",
    "  train_accuracy = cross_val_score(clf, X_train, y_train, cv=3, scoring='accuracy').mean()\n",
    "  train_recall = cross_val_score(clf, X_train, y_train, cv=3, scoring='recall').mean()\n",
    "  train_precision = cross_val_score(clf, X_train, y_train, cv=3, scoring='precision').mean()\n",
    "  train_f1 = cross_val_score(clf, X_train, y_train, cv=3, scoring='f1').mean()\n",
    "\n",
    "  print('Get various cross_val_scores to evaluate clf performance for best parameters \\n')     \n",
    "  print('Accuracy for each of 3 CV folds: %s \\n' %accuracy_each_cv)\n",
    "  print('Mean accuracy over all 3 CV folds: %s \\n' %accuracy_mean_cv)\n",
    "  print('ROC_AUC mean for 3-fold CV: %s \\n' %train_roc_auc)\n",
    "  print('Accuracy mean for 3-fold CV: %s \\n' %train_accuracy)\n",
    "  print('Recall mean for 3-fold CV: %s \\n' %train_recall)\n",
    "  print('Precision mean for 3-fold CV: %s \\n' %train_precision)\n",
    "  print('F1 score mean for 3-fold CV: %s \\n' %train_f1)\n",
    "    \n",
    "basic_stats(svc_clf_rand_new, X_train_std, y_train)\n"
   ]
  },
  {
   "cell_type": "markdown",
   "metadata": {},
   "source": [
    "# Predict using the test set on Linear SVM"
   ]
  },
  {
   "cell_type": "code",
   "execution_count": 23,
   "metadata": {},
   "outputs": [
    {
     "name": "stdout",
     "output_type": "stream",
     "text": [
      "Accuracy score or agreement between y_test and y_pred_class: 0.703703703704 \n",
      "\n",
      "Class distribution for y_test: 0.0    76\n",
      "1.0    59\n",
      "Name: MR_success, dtype: int64 \n",
      "\n",
      "Percent 1s in y_test: 0.43703703703703706 \n",
      "\n",
      "Percent 0s in y_test: 0.5629629629629629 \n",
      "\n",
      "Null accuracy in y_test: 0.5629629629629629 \n",
      "\n"
     ]
    },
    {
     "data": {
      "text/plain": [
       "(array([ 0.,  0.,  0.,  1.,  1.,  1.,  0.,  1.,  0.,  1.,  0.,  0.,  1.,\n",
       "         0.,  0.,  0.,  0.,  1.,  0.,  0.,  0.,  0.,  0.,  1.,  0.,  0.,\n",
       "         0.,  0.,  0.,  1.,  0.,  1.,  1.,  1.,  1.,  1.,  1.,  0.,  0.,\n",
       "         0.,  1.,  0.,  0.,  0.,  0.,  0.,  0.,  0.,  0.,  1.,  1.,  1.,\n",
       "         0.,  1.,  0.,  1.,  0.,  0.,  0.,  0.,  1.,  0.,  0.,  0.,  0.,\n",
       "         0.,  1.,  1.,  0.,  0.,  1.,  1.,  0.,  0.,  0.,  0.,  0.,  0.,\n",
       "         0.,  0.,  0.,  0.,  1.,  1.,  0.,  0.,  1.,  0.,  0.,  0.,  0.,\n",
       "         0.,  0.,  1.,  1.,  0.,  1.,  0.,  0.,  0.,  1.,  0.,  1.,  0.,\n",
       "         0.,  1.,  0.,  1.,  0.,  1.,  0.,  0.,  0.,  0.,  0.,  0.,  1.,\n",
       "         0.,  0.,  0.,  0.,  0.,  1.,  0.,  0.,  1.,  0.,  1.,  0.,  0.,\n",
       "         1.,  0.,  0.,  1.,  0.]), array([[  7.06116922e-01,   2.93883078e-01],\n",
       "        [  6.13897639e-01,   3.86102361e-01],\n",
       "        [  5.41181438e-01,   4.58818562e-01],\n",
       "        [  2.76483586e-01,   7.23516414e-01],\n",
       "        [  2.43337444e-01,   7.56662556e-01],\n",
       "        [  4.77058631e-01,   5.22941369e-01],\n",
       "        [  5.47722327e-01,   4.52277673e-01],\n",
       "        [  4.72727468e-01,   5.27272532e-01],\n",
       "        [  6.39707779e-01,   3.60292221e-01],\n",
       "        [  6.52684268e-02,   9.34731573e-01],\n",
       "        [  6.34924375e-01,   3.65075625e-01],\n",
       "        [  6.24812521e-01,   3.75187479e-01],\n",
       "        [  1.80905757e-01,   8.19094243e-01],\n",
       "        [  8.00547515e-01,   1.99452485e-01],\n",
       "        [  8.02207767e-01,   1.97792233e-01],\n",
       "        [  5.31849564e-01,   4.68150436e-01],\n",
       "        [  7.24182070e-01,   2.75817930e-01],\n",
       "        [  3.87417090e-02,   9.61258291e-01],\n",
       "        [  6.71666835e-01,   3.28333165e-01],\n",
       "        [  7.44148959e-01,   2.55851041e-01],\n",
       "        [  9.99977639e-01,   2.23613585e-05],\n",
       "        [  7.50279882e-01,   2.49720118e-01],\n",
       "        [  8.69723992e-01,   1.30276008e-01],\n",
       "        [  3.93804512e-01,   6.06195488e-01],\n",
       "        [  7.15520151e-01,   2.84479849e-01],\n",
       "        [  7.15302442e-01,   2.84697558e-01],\n",
       "        [  5.27988453e-01,   4.72011547e-01],\n",
       "        [  7.47974736e-01,   2.52025264e-01],\n",
       "        [  5.38820772e-01,   4.61179228e-01],\n",
       "        [  4.73779724e-01,   5.26220276e-01],\n",
       "        [  7.29204098e-01,   2.70795902e-01],\n",
       "        [  5.00000000e-01,   5.00000000e-01],\n",
       "        [  5.24682699e-01,   4.75317301e-01],\n",
       "        [  5.17417879e-01,   4.82582121e-01],\n",
       "        [  5.00000000e-01,   5.00000000e-01],\n",
       "        [  4.34687912e-01,   5.65312088e-01],\n",
       "        [  3.81239181e-01,   6.18760819e-01],\n",
       "        [  7.01709625e-01,   2.98290375e-01],\n",
       "        [  6.89434807e-01,   3.10565193e-01],\n",
       "        [  7.78365931e-01,   2.21634069e-01],\n",
       "        [  2.51898617e-01,   7.48101383e-01],\n",
       "        [  7.17004341e-01,   2.82995659e-01],\n",
       "        [  6.45990865e-01,   3.54009135e-01],\n",
       "        [  8.14805837e-01,   1.85194163e-01],\n",
       "        [  7.32807910e-01,   2.67192090e-01],\n",
       "        [  5.33279301e-01,   4.66720699e-01],\n",
       "        [  6.08451733e-01,   3.91548267e-01],\n",
       "        [  7.32323805e-01,   2.67676195e-01],\n",
       "        [  7.24077688e-01,   2.75922312e-01],\n",
       "        [  5.00000000e-01,   5.00000000e-01],\n",
       "        [  3.94683170e-01,   6.05316830e-01],\n",
       "        [  4.43337982e-01,   5.56662018e-01],\n",
       "        [  5.62997870e-01,   4.37002130e-01],\n",
       "        [  5.20013788e-01,   4.79986212e-01],\n",
       "        [  7.58087877e-01,   2.41912123e-01],\n",
       "        [  2.69355107e-01,   7.30644893e-01],\n",
       "        [  7.04656467e-01,   2.95343533e-01],\n",
       "        [  6.55577653e-01,   3.44422347e-01],\n",
       "        [  6.70381558e-01,   3.29618442e-01],\n",
       "        [  8.07962259e-01,   1.92037741e-01],\n",
       "        [  4.91928860e-01,   5.08071140e-01],\n",
       "        [  5.48265051e-01,   4.51734949e-01],\n",
       "        [  6.53903962e-01,   3.46096038e-01],\n",
       "        [  6.98068148e-01,   3.01931852e-01],\n",
       "        [  7.62942120e-01,   2.37057880e-01],\n",
       "        [  6.55279490e-01,   3.44720510e-01],\n",
       "        [  3.39304233e-01,   6.60695767e-01],\n",
       "        [  4.26068193e-01,   5.73931807e-01],\n",
       "        [  5.86794186e-01,   4.13205814e-01],\n",
       "        [  5.64773849e-01,   4.35226151e-01],\n",
       "        [  4.49432978e-01,   5.50567022e-01],\n",
       "        [  1.31108599e-01,   8.68891401e-01],\n",
       "        [  7.27335443e-01,   2.72664557e-01],\n",
       "        [  7.95970281e-01,   2.04029719e-01],\n",
       "        [  6.99307983e-01,   3.00692017e-01],\n",
       "        [  7.15823104e-01,   2.84176896e-01],\n",
       "        [  6.50992209e-01,   3.49007791e-01],\n",
       "        [  7.31139818e-01,   2.68860182e-01],\n",
       "        [  6.88409053e-01,   3.11590947e-01],\n",
       "        [  6.99043840e-01,   3.00956160e-01],\n",
       "        [  6.90412578e-01,   3.09587422e-01],\n",
       "        [  6.62188986e-01,   3.37811014e-01],\n",
       "        [  4.45099964e-01,   5.54900036e-01],\n",
       "        [  2.55657075e-01,   7.44342925e-01],\n",
       "        [  7.47302030e-01,   2.52697970e-01],\n",
       "        [  6.92406424e-01,   3.07593576e-01],\n",
       "        [  4.87574036e-01,   5.12425964e-01],\n",
       "        [  7.65893557e-01,   2.34106443e-01],\n",
       "        [  6.93816038e-01,   3.06183962e-01],\n",
       "        [  7.16462187e-01,   2.83537813e-01],\n",
       "        [  5.75854430e-01,   4.24145570e-01],\n",
       "        [  7.08468907e-01,   2.91531093e-01],\n",
       "        [  6.59581021e-01,   3.40418979e-01],\n",
       "        [  2.69839497e-01,   7.30160503e-01],\n",
       "        [  1.06841405e-08,   9.99999989e-01],\n",
       "        [  6.63490394e-01,   3.36509606e-01],\n",
       "        [  4.50010262e-01,   5.49989738e-01],\n",
       "        [  6.17988248e-01,   3.82011752e-01],\n",
       "        [  6.95132750e-01,   3.04867250e-01],\n",
       "        [  6.55072801e-01,   3.44927199e-01],\n",
       "        [  2.62977531e-01,   7.37022469e-01],\n",
       "        [  6.09400702e-01,   3.90599298e-01],\n",
       "        [  4.38024453e-01,   5.61975547e-01],\n",
       "        [  5.67672026e-01,   4.32327974e-01],\n",
       "        [  5.77783610e-01,   4.22216390e-01],\n",
       "        [  4.45306373e-01,   5.54693627e-01],\n",
       "        [  7.15353146e-01,   2.84646854e-01],\n",
       "        [  5.33836565e-02,   9.46616344e-01],\n",
       "        [  6.45858710e-01,   3.54141290e-01],\n",
       "        [  2.02598461e-01,   7.97401539e-01],\n",
       "        [  6.66414323e-01,   3.33585677e-01],\n",
       "        [  6.53949049e-01,   3.46050951e-01],\n",
       "        [  7.06386751e-01,   2.93613249e-01],\n",
       "        [  5.71358850e-01,   4.28641150e-01],\n",
       "        [  9.99958439e-01,   4.15610093e-05],\n",
       "        [  5.48619799e-01,   4.51380201e-01],\n",
       "        [  5.11668629e-01,   4.88331371e-01],\n",
       "        [  7.69887532e-01,   2.30112468e-01],\n",
       "        [  6.46800010e-01,   3.53199990e-01],\n",
       "        [  5.68725495e-01,   4.31274505e-01],\n",
       "        [  7.38875679e-01,   2.61124321e-01],\n",
       "        [  8.08908177e-01,   1.91091823e-01],\n",
       "        [  3.62223060e-01,   6.37776940e-01],\n",
       "        [  7.61636892e-01,   2.38363108e-01],\n",
       "        [  6.82208711e-01,   3.17791289e-01],\n",
       "        [  9.27229752e-02,   9.07277025e-01],\n",
       "        [  6.15994107e-01,   3.84005893e-01],\n",
       "        [  4.13058866e-01,   5.86941134e-01],\n",
       "        [  6.33757175e-01,   3.66242825e-01],\n",
       "        [  6.46507559e-01,   3.53492441e-01],\n",
       "        [  3.22526211e-01,   6.77473789e-01],\n",
       "        [  6.09097195e-01,   3.90902805e-01],\n",
       "        [  5.93455968e-01,   4.06544032e-01],\n",
       "        [  1.12701428e-01,   8.87298572e-01],\n",
       "        [  5.99102296e-01,   4.00897704e-01]]))"
      ]
     },
     "execution_count": 23,
     "metadata": {},
     "output_type": "execute_result"
    }
   ],
   "source": [
    "def predict(clf, X_test):\n",
    "  #try out how well the classifier works to predict from the test set\n",
    "  y_pred = clf.predict(X_test)\n",
    "  y_pred_proba = clf.predict_proba(X_test)\n",
    "\n",
    "  def prediction_stats(y_test, y_pred):\n",
    "    # calculate accuracy\n",
    "    y_accuracy = metrics.accuracy_score(y_test, y_pred)\n",
    "\n",
    "    # examine the class distribution of the testing set (using a Pandas Series method)\n",
    "    class_dist = y_test.value_counts()\n",
    "\n",
    "    # calculate the percentage of ones\n",
    "    # because y_test only contains ones and zeros, we can simply calculate the mean = percentage of ones\n",
    "    ones = y_test.mean()\n",
    "\n",
    "    # calculate the percentage of zeros\n",
    "    zeros = 1 - y_test.mean()\n",
    "\n",
    "    # calculate null accuracy in a single line of code\n",
    "    # only for binary classification problems coded as 0/1\n",
    "    null_acc = max(y_test.mean(), 1 - y_test.mean())\n",
    "\n",
    "    print('Accuracy score or agreement between y_test and y_pred_class: %s \\n' %y_accuracy)\n",
    "    print('Class distribution for y_test: %s \\n' %class_dist)\n",
    "    print('Percent 1s in y_test: %s \\n' %ones)\n",
    "    print('Percent 0s in y_test: %s \\n' %zeros)\n",
    "    print('Null accuracy in y_test: %s \\n' %null_acc)\n",
    "    \n",
    "  prediction_stats(y_test, y_pred)\n",
    "  \n",
    "  return y_pred, y_pred_proba\n",
    "\n",
    "predict(svc_clf_rand_new, X_test_std)"
   ]
  },
  {
   "cell_type": "markdown",
   "metadata": {},
   "source": [
    "# Detailed analysis for Linear SVM"
   ]
  },
  {
   "cell_type": "code",
   "execution_count": 24,
   "metadata": {},
   "outputs": [
    {
     "data": {
      "image/png": "[encoded data removed]",
      "text/plain": [
       "<matplotlib.figure.Figure at 0x11ed567b8>"
      ]
     },
     "metadata": {},
     "output_type": "display_data"
    },
    {
     "name": "stdout",
     "output_type": "stream",
     "text": [
      "confusion matrix using test set: [[64 12]\n",
      " [28 31]] \n",
      "\n",
      "accuracy score manual test: 0.703703703704 \n",
      "\n",
      "accuracy score sklearn test: 0.703703703704 \n",
      "\n",
      "classification error manual test: 0.296296296296 \n",
      "\n",
      "classification error sklearn test: 0.296296296296 \n",
      "\n",
      "sensitivity manual test: 0.525423728814 \n",
      "\n",
      "sensitivity sklearn test: 0.525423728814 \n",
      "\n",
      "specificity manual test: 0.842105263158 \n",
      "\n",
      "false positive rate manual test: 0.157894736842 \n",
      "\n",
      "1 - specificity test: 0.157894736842 \n",
      "\n",
      "precision manual: 0.720930232558 \n",
      "\n",
      "precision sklearn: 0.720930232558 \n",
      "\n",
      "F1 score sklearn test: 0.607843137255 \n",
      "\n"
     ]
    },
    {
     "data": {
      "image/png": "[encoded data removed]",
      "text/plain": [
       "<matplotlib.figure.Figure at 0x11ee2b2b0>"
      ]
     },
     "metadata": {},
     "output_type": "display_data"
    },
    {
     "data": {
      "image/png": "[encoded data removed]",
      "text/plain": [
       "<matplotlib.figure.Figure at 0x11ed1f828>"
      ]
     },
     "metadata": {},
     "output_type": "display_data"
    },
    {
     "data": {
      "image/png": "[encoded data removed]",
      "text/plain": [
       "<matplotlib.figure.Figure at 0x11ef279e8>"
      ]
     },
     "metadata": {},
     "output_type": "display_data"
    },
    {
     "name": "stdout",
     "output_type": "stream",
     "text": [
      "AUC for CV test set class 1: 0.759366636931 \n",
      "\n"
     ]
    }
   ],
   "source": [
    "def analysis(clf, X_train, y_train, X_test, y_test):\n",
    "    #try out how well the classifier works to predict from the test set\n",
    "  y_pred = clf.predict(X_test)\n",
    "  y_pred_proba = clf.predict_proba(X_test)\n",
    "\n",
    "  def conf_mat(y_test, y_pred):\n",
    "    # IMPORTANT: first argument is true values, second argument is predicted values\n",
    "    # this produces a 2x2 numpy array (matrix)\n",
    "    conf_mat_test = metrics.confusion_matrix(y_test, y_pred)\n",
    "    def draw_conf_mat(matrix):\n",
    "      labels = ['0', '1']      \n",
    "      ax = plt.subplot()\n",
    "      sns.heatmap(matrix, annot=True, ax=ax)\n",
    "      plt.title('Confusion matrix of the classifier')\n",
    "      ax.set_xticklabels(labels)\n",
    "      ax.set_yticklabels(labels)\n",
    "      plt.xlabel('Predicted')\n",
    "      plt.ylabel('True')\n",
    "      plt.show()\n",
    "\n",
    "    draw_conf_mat(conf_mat_test)\n",
    "      \n",
    "    TP = conf_mat_test[1, 1]\n",
    "    TN = conf_mat_test[0, 0]\n",
    "    FP = conf_mat_test[0, 1]\n",
    "    FN = conf_mat_test[1, 0]\n",
    "\n",
    "    print('confusion matrix using test set: %s \\n' %conf_mat_test)\n",
    "      \n",
    "    #calculate accuracy\n",
    "    acc_score_man_test = (TP + TN) / float(TP + TN + FP + FN)\n",
    "    acc_score_sklearn_test = metrics.accuracy_score(y_test, y_pred)\n",
    "    print('accuracy score manual test: %s \\n' %acc_score_man_test)\n",
    "    print('accuracy score sklearn test: %s \\n' %acc_score_sklearn_test)\n",
    "        \n",
    "    #classification error\n",
    "    class_err_man_test = (FP + FN) / float(TP + TN + FP + FN)\n",
    "    class_err_sklearn_test = 1 - metrics.accuracy_score(y_test, y_pred)\n",
    "    print('classification error manual test: %s \\n' %class_err_man_test)\n",
    "    print('classification error sklearn test: %s \\n' %class_err_sklearn_test)\n",
    "        \n",
    "    #sensitivity/recall/true positive rate; correctly placed positive cases  \n",
    "    sensitivity_man_test = TP / float(FN + TP)\n",
    "    sensitivity_sklearn_test = metrics.recall_score(y_test, y_pred)\n",
    "    print('sensitivity manual test: %s \\n' %sensitivity_man_test)\n",
    "    print('sensitivity sklearn test: %s \\n' %sensitivity_sklearn_test)\n",
    "      \n",
    "    #specificity  \n",
    "    specificity_man_test = TN / (TN + FP)\n",
    "    print('specificity manual test: %s \\n' %specificity_man_test)\n",
    "      \n",
    "    #false positive rate  \n",
    "    false_positive_rate_man_test = FP / float(TN + FP)\n",
    "    print('false positive rate manual test: %s \\n' %false_positive_rate_man_test)\n",
    "    print('1 - specificity test: %s \\n' %(1 - specificity_man_test))\n",
    "      \n",
    "    #precision/confidence of placement  \n",
    "    precision_man_test = TP / float(TP + FP)\n",
    "    precision_sklearn_test = metrics.precision_score(y_test, y_pred)\n",
    "    print('precision manual: %s \\n' %precision_man_test)\n",
    "    print('precision sklearn: %s \\n' %precision_sklearn_test)\n",
    "      \n",
    "    #F1 score; uses precision and recall  \n",
    "    f1_score_sklearn_test = f1_score(y_test, y_pred)\n",
    "    print('F1 score sklearn test: %s \\n' %f1_score_sklearn_test)\n",
    "        \n",
    "  conf_mat(y_test, y_pred)\n",
    "\n",
    "  def prediction_probas(clf, X_train, y_train, X_test, y_test, y_pred_proba): \n",
    "    #plot histograms of probabilities  \n",
    "    def plot_hist_pred_proba(y_pred_proba):\n",
    "      plt.hist(y_pred_proba, bins=20)\n",
    "      plt.xlim(0,1)\n",
    "      plt.title('Histogram of predicted probabilities for y_pred_proba to be class 1')\n",
    "      plt.xlabel('Predicted probability of EP_success')\n",
    "      plt.ylabel('Frequency')\n",
    "      plt.show()\n",
    "        \n",
    "    plot_hist_pred_proba(y_pred_proba[:, 1])\n",
    "\n",
    "    y_scores_ones = y_pred_proba[:, 1]#test data to be class 1\n",
    "      \n",
    "    #plot precision and recall curve\n",
    "    def plot_precision_recall_vs_threshold(precisions, recalls, thresholds_tree):\n",
    "      plt.plot(thresholds_tree, precisions[:-1], \"b--\", label=\"Precision\")\n",
    "      plt.plot(thresholds_tree, recalls[:-1], \"g--\", label=\"Recall\")\n",
    "      plt.title('Precsion-Recall plot for for EP_success classifier using class 1')\n",
    "      plt.xlabel(\"Threshold\")\n",
    "      plt.legend(loc=\"upper left\")\n",
    "      plt.ylim([0,1])\n",
    "      plt.show()\n",
    "\n",
    "    #plot Precision Recall Threshold curve for test set        \n",
    "    precisions, recalls, thresholds_tree = precision_recall_curve(y_test, y_scores_ones)\n",
    "    plot_precision_recall_vs_threshold(precisions, recalls, thresholds_tree)\n",
    "\n",
    "    #IMPORTANT: first argument is true values, second argument is predicted probabilities\n",
    "    #we pass y_test and y_pred_prob\n",
    "    #we do not use y_pred_class, because it will give incorrect results without generating an error\n",
    "    #roc_curve returns 3 objects fpr, tpr, thresholds\n",
    "    #fpr: false positive rate\n",
    "    #tpr: true positive rate\n",
    "\n",
    "    #plot ROC curves\n",
    "    def plot_roc_curve(fpr, tpr):\n",
    "      plt.plot(fpr, tpr, linewidth=2)\n",
    "      plt.plot([0, 1], [0, 1], 'k--')\n",
    "      plt.axis([0, 1, 0, 1])\n",
    "      plt.title('ROC curve for EP_success classifier for class 1' ) \n",
    "      plt.xlabel('False Positive Rate (1 - Specificity)')\n",
    "      plt.ylabel('True Positive Rate (Sensitivity)')\n",
    "      plt.grid(True)\n",
    "      plt.show()\n",
    "        \n",
    "    #ROC curve for test set      \n",
    "    fpr, tpr, thresholds = roc_curve(y_test, y_scores_ones)\n",
    "    plot_roc_curve(fpr, tpr)\n",
    "      \n",
    "    #calculate the area under the curve to get the performance for a classifier\n",
    "    # IMPORTANT: first argument is true values, second argument is predicted probabilities\n",
    "    AUC_test_class1 = metrics.roc_auc_score(y_test, y_scores_ones)\n",
    "\n",
    "    print('AUC for test set class 1: %s \\n' %AUC_test_class1)\n",
    "\n",
    "  prediction_probas(clf, X_train, y_train, X_test, y_test, y_pred_proba)    \n",
    "\n",
    "analysis(svc_clf_rand_new, X_train_std, y_train, X_test_std, y_test)"
   ]
  },
  {
   "cell_type": "code",
   "execution_count": null,
   "metadata": {
    "collapsed": true
   },
   "outputs": [],
   "source": []
  }
 ],
 "metadata": {
  "kernelspec": {
   "display_name": "Python 3",
   "language": "python",
   "name": "python3"
  },
  "language_info": {
   "codemirror_mode": {
    "name": "ipython",
    "version": 3
   },
   "file_extension": ".py",
   "mimetype": "text/x-python",
   "name": "python",
   "nbconvert_exporter": "python",
   "pygments_lexer": "ipython3",
   "version": "3.6.1"
  }
 },
 "nbformat": 4,
 "nbformat_minor": 2
}
