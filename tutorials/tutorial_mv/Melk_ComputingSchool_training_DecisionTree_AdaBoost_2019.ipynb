{
 "cells": [
  {
   "cell_type": "markdown",
   "metadata": {},
   "source": [
    "# Library Import\n",
    "\n",
    "Pandas\n",
    "Importing the data into a dataframe; for manipulations of the dataframe and easy plotting\n",
    "\n",
    "Numpy\n",
    "For vector and matrix calculations\n",
    "\n",
    "Matplotlib\n",
    "For plotting\n",
    "\n",
    "Seaborn\n",
    "For plotting\n",
    "\n",
    "SKLearn\n",
    "For the machine learning part\n",
    "\n",
    "Scipy\n",
    "For some statistics\n"
   ]
  },
  {
   "cell_type": "code",
   "execution_count": 1,
   "metadata": {},
   "outputs": [
    {
     "name": "stderr",
     "output_type": "stream",
     "text": [
      "/Users/melanievollmar/anaconda/lib/python3.6/site-packages/sklearn/externals/joblib/__init__.py:15: DeprecationWarning: sklearn.externals.joblib is deprecated in 0.21 and will be removed in 0.23. Please import this functionality directly from joblib, which can be installed with: pip install joblib. If this warning is raised when loading pickled models, you may need to re-serialize those models with scikit-learn 0.21+.\n",
      "  warnings.warn(msg, category=DeprecationWarning)\n"
     ]
    }
   ],
   "source": [
    "%matplotlib inline\n",
    "\n",
    "import pandas as pd\n",
    "import numpy as np\n",
    "import matplotlib.pyplot as plt\n",
    "import seaborn as sns\n",
    "import matplotlib.colorbar as mpl\n",
    "import subprocess\n",
    "from sklearn import metrics\n",
    "\n",
    "from sklearn.preprocessing import StandardScaler\n",
    "from sklearn.model_selection import train_test_split\n",
    "from sklearn.model_selection import RandomizedSearchCV\n",
    "from sklearn.tree import DecisionTreeClassifier\n",
    "from sklearn.ensemble import AdaBoostClassifier\n",
    "from sklearn.model_selection import cross_val_score\n",
    "from sklearn.model_selection import cross_val_predict\n",
    "from sklearn.metrics import confusion_matrix, precision_score, recall_score, f1_score\n",
    "from sklearn.metrics import precision_recall_curve, roc_curve\n",
    "from sklearn.tree import export_graphviz\n",
    "from sklearn.externals import joblib\n",
    "from scipy.stats import randint\n",
    "from scipy.stats import uniform\n",
    "from datetime import datetime"
   ]
  },
  {
   "cell_type": "markdown",
   "metadata": {},
   "source": [
    "# Data Import"
   ]
  },
  {
   "cell_type": "code",
   "execution_count": 2,
   "metadata": {},
   "outputs": [
    {
     "name": "stdout",
     "output_type": "stream",
     "text": [
      "   sweep_id  pdb_id_id  wavelength  MR_success  TFZ   LLG  PAK  mr_reso  \\\n",
      "0       144       1003      0.9797         0.0  5.8  33.0  5.0     1.38   \n",
      "1       145       1003      0.9184         0.0  5.8  33.0  5.0     1.38   \n",
      "2       146       1003      0.9792         0.0  5.8  33.0  5.0     1.38   \n",
      "3       918        101      0.9793         0.0  4.1  17.0  1.0     1.66   \n",
      "4       919        101      0.9537         0.0  4.1  17.0  1.0     1.66   \n",
      "\n",
      "   mr_sg  mr_sg_no     ...       wilsonbfactor  RmeasI  highreslimit  \\\n",
      "0  P1211         4     ...               11.28  0.0723          1.38   \n",
      "1  P1211         4     ...               11.30  0.0846          1.41   \n",
      "2  P1211         4     ...               11.21  0.0879          1.39   \n",
      "3     H3       146     ...               20.88  0.0910          1.66   \n",
      "4     H3       146     ...               20.26  0.0937          1.67   \n",
      "\n",
      "   RpimdiffI anomalousmulti  RmergediffI  totalobservations  anomalouscompl  \\\n",
      "0     0.0442           1.73       0.0477             290215           91.57   \n",
      "1     0.0475           1.75       0.0512             275712           92.33   \n",
      "2     0.0412           1.73       0.0444             284616           91.64   \n",
      "3     0.0607           1.88       0.0644             206737           95.25   \n",
      "4     0.0624           1.91       0.0660             208630           97.15   \n",
      "\n",
      "   cchalf  totalunique  \n",
      "0  0.9983        87299  \n",
      "1  0.9976        82033  \n",
      "2  0.9972        85517  \n",
      "3  0.9972        56237  \n",
      "4  0.9973        55392  \n",
      "\n",
      "[5 rows x 38 columns]\n"
     ]
    }
   ],
   "source": [
    "data = pd.read_csv(\"data.csv\", na_filter=False, skipinitialspace=True, thousands=',')\n",
    "print(data.head())"
   ]
  },
  {
   "cell_type": "code",
   "execution_count": 3,
   "metadata": {},
   "outputs": [
    {
     "name": "stdout",
     "output_type": "stream",
     "text": [
      "(673, 38)\n"
     ]
    }
   ],
   "source": [
    "print(data.shape)"
   ]
  },
  {
   "cell_type": "markdown",
   "metadata": {},
   "source": [
    "# Isolate column names to use as features"
   ]
  },
  {
   "cell_type": "code",
   "execution_count": 4,
   "metadata": {},
   "outputs": [
    {
     "name": "stdout",
     "output_type": "stream",
     "text": [
      "Index(['sweep_id', 'pdb_id_id', 'wavelength', 'MR_success', 'TFZ', 'LLG',\n",
      "       'PAK', 'mr_reso', 'mr_sg', 'mr_sg_no', 'RMSD', 'VRMS', 'eLLG', 'tncs',\n",
      "       'model_pdb', 'seq_ident', 'model_res', 'anomalousCC', 'IoverSigma',\n",
      "       'completeness', 'diffI', 'RmergeI', 'lowreslimit', 'RpimI',\n",
      "       'multiplicity', 'RmeasdiffI', 'anomalousslope', 'diffF',\n",
      "       'wilsonbfactor', 'RmeasI', 'highreslimit', 'RpimdiffI',\n",
      "       'anomalousmulti', 'RmergediffI', 'totalobservations', 'anomalouscompl',\n",
      "       'cchalf', 'totalunique'],\n",
      "      dtype='object')\n"
     ]
    }
   ],
   "source": [
    "column_names = data.columns\n",
    "print(column_names)"
   ]
  },
  {
   "cell_type": "code",
   "execution_count": 5,
   "metadata": {},
   "outputs": [
    {
     "name": "stdout",
     "output_type": "stream",
     "text": [
      "Index(['wavelength', 'mr_reso', 'mr_sg_no', 'eLLG', 'tncs', 'model_res',\n",
      "       'anomalousCC', 'IoverSigma', 'completeness', 'diffI', 'RmergeI',\n",
      "       'lowreslimit', 'RpimI', 'multiplicity', 'RmeasdiffI', 'anomalousslope',\n",
      "       'diffF', 'wilsonbfactor', 'RmeasI', 'highreslimit', 'RpimdiffI',\n",
      "       'anomalousmulti', 'RmergediffI', 'totalobservations', 'anomalouscompl',\n",
      "       'cchalf', 'totalunique'],\n",
      "      dtype='object')\n"
     ]
    }
   ],
   "source": [
    "data_columns = data[['wavelength', 'mr_reso', 'mr_sg_no', 'eLLG', 'tncs',\n",
    "       'model_res', 'anomalousCC', 'IoverSigma', 'completeness', 'diffI',\n",
    "       'RmergeI', 'lowreslimit', 'RpimI', 'multiplicity', 'RmeasdiffI',\n",
    "       'anomalousslope', 'diffF', 'wilsonbfactor', 'RmeasI', 'highreslimit',\n",
    "       'RpimdiffI', 'anomalousmulti', 'RmergediffI', 'totalobservations',\n",
    "       'anomalouscompl', 'cchalf', 'totalunique']]\n",
    "\n",
    "data_columns_labels = data_columns.columns\n",
    "print(data_columns_labels)\n",
    "print(data_columns.shape)"
   ]
  },
  {
   "cell_type": "markdown",
   "metadata": {},
   "source": [
    "# Fill in missing values"
   ]
  },
  {
   "cell_type": "code",
   "execution_count": 6,
   "metadata": {
    "collapsed": true
   },
   "outputs": [],
   "source": [
    "data_columns_fill = data_columns.fillna(0)"
   ]
  },
  {
   "cell_type": "markdown",
   "metadata": {},
   "source": [
    "# Data split - test and training set "
   ]
  },
  {
   "cell_type": "code",
   "execution_count": 7,
   "metadata": {
    "collapsed": true
   },
   "outputs": [],
   "source": [
    "y = data['MR_success']\n",
    "\n",
    "X_train, X_test, y_train, y_test = train_test_split(data_columns_fill, y, \n",
    "                                                    test_size=0.2,\n",
    "                                                    random_state=42,\n",
    "                                                    stratify=y)"
   ]
  },
  {
   "cell_type": "markdown",
   "metadata": {},
   "source": [
    "# Find best Decision tree with AdaBoost in RandomizedSearch"
   ]
  },
  {
   "cell_type": "code",
   "execution_count": 8,
   "metadata": {},
   "outputs": [
    {
     "name": "stdout",
     "output_type": "stream",
     "text": [
      "Best parameters: {'base_estimator__class_weight': None, 'base_estimator__criterion': 'gini', 'base_estimator__max_depth': 5, 'base_estimator__max_features': 11, 'base_estimator__max_leaf_nodes': 18, 'base_estimator__min_samples_leaf': 5, 'base_estimator__min_samples_split': 9, 'learning_rate': 0.39683660521140585, 'n_estimators': 2772}\n",
      "\n",
      "Best score: 0.875464684015\n",
      "\n"
     ]
    },
    {
     "data": {
      "text/plain": [
       "{'base_estimator__class_weight': None,\n",
       " 'base_estimator__criterion': 'gini',\n",
       " 'base_estimator__max_depth': 5,\n",
       " 'base_estimator__max_features': 11,\n",
       " 'base_estimator__max_leaf_nodes': 18,\n",
       " 'base_estimator__min_samples_leaf': 5,\n",
       " 'base_estimator__min_samples_split': 9,\n",
       " 'learning_rate': 0.39683660521140585,\n",
       " 'n_estimators': 2772}"
      ]
     },
     "execution_count": 8,
     "metadata": {},
     "output_type": "execute_result"
    }
   ],
   "source": [
    "def rand_search(X_train, y_train):\n",
    "  #create the decision tree \n",
    "  clf1 = DecisionTreeClassifier(random_state=0,\n",
    "                                class_weight='balanced')#default base estimator decision tree\n",
    "  #create bagging classifier\n",
    "  tree_clf_rand_ada = AdaBoostClassifier(base_estimator=clf1,\n",
    "                                         algorithm =\"SAMME.R\",\n",
    "                                         random_state=100)\n",
    "\n",
    "  #set up grid search\n",
    "  param_rand = {'base_estimator__criterion': ['gini', 'entropy'],#metric to judge reduction of impurity\n",
    "                'base_estimator__class_weight': ['balanced', None],\n",
    "                'n_estimators': randint(100, 10000),#number of base estimators to use\n",
    "                'learning_rate': uniform(0.0001, 1.0),#penalty to adjust weights\n",
    "                'base_estimator__max_features': randint(2, len(X_train.columns)),#max number of features when splitting\n",
    "                'base_estimator__min_samples_split': randint(2, 20),#min samples per node to induce split\n",
    "                'base_estimator__max_depth': randint(5, 10),#max number of splits to do\n",
    "                'base_estimator__min_samples_leaf': randint(1, 20),#min number of samples in a leaf\n",
    "                'base_estimator__max_leaf_nodes': randint(10, 20)}#max number of leaves\n",
    "\n",
    "  #building and running the grid search\n",
    "  rand_search = RandomizedSearchCV(tree_clf_rand_ada, param_rand, random_state=5, cv=3, n_iter=1,\n",
    "                              scoring='accuracy', n_jobs=-1)\n",
    "                              \n",
    "  rand_search = rand_search.fit(X_train, y_train)\n",
    "  print('Best parameters: ' +str(rand_search.best_params_)+'\\n')\n",
    "  print('Best score: ' +str(rand_search.best_score_)+'\\n')\n",
    "    \n",
    "  best_params = rand_search.best_params_\n",
    "  return best_params\n",
    "\n",
    "rand_search(X_train, y_train)"
   ]
  },
  {
   "cell_type": "markdown",
   "metadata": {},
   "source": [
    "# Build best Decision Tree with AdaBoost, plot feature importances and get basic stats"
   ]
  },
  {
   "cell_type": "code",
   "execution_count": 12,
   "metadata": {},
   "outputs": [
    {
     "name": "stdout",
     "output_type": "stream",
     "text": [
      "Get various cross_val_scores to evaluate clf performance for best parameters \n",
      "\n",
      "Accuracy for each of 3 CV folds: [ 0.87777778  0.84916201  0.89944134] \n",
      "\n",
      "Mean accuracy over all 3 CV folds: 0.875460376578 \n",
      "\n",
      "ROC_AUC mean for 3-fold CV: 0.931295612521 \n",
      "\n",
      "Accuracy mean for 3-fold CV: 0.875460376578 \n",
      "\n",
      "Recall mean for 3-fold CV: 0.825597749648 \n",
      "\n",
      "Precision mean for 3-fold CV: 0.883619666718 \n",
      "\n",
      "F1 score mean for 3-fold CV: 0.851137011137 \n",
      "\n"
     ]
    },
    {
     "data": {
      "image/png": "[encoded data removed]",
      "text/plain": [
       "<matplotlib.figure.Figure at 0x11cc73dd8>"
      ]
     },
     "metadata": {},
     "output_type": "display_data"
    }
   ],
   "source": [
    "clf2 = DecisionTreeClassifier(class_weight = None,\n",
    "                              criterion = 'gini',\n",
    "                              max_depth = 5,\n",
    "                              max_features = 11,\n",
    "                              max_leaf_nodes = 18,\n",
    "                              min_samples_leaf = 5,\n",
    "                              min_samples_split = 9,\n",
    "                              random_state= 0)\n",
    "\n",
    "tree_clf_rand_ada_new = AdaBoostClassifier(clf2,\n",
    "                                          n_estimators = 2772,\n",
    "                                          learning_rate = 0.39683660521140585,\n",
    "                                          algorithm =\"SAMME.R\",\n",
    "                                          random_state=100)\n",
    "\n",
    "tree_clf_rand_ada_new.fit(X_train, y_train)\n",
    "\n",
    "def feature_importances_pandas(clf, X_train):   \n",
    "  datestring = datetime.strftime(datetime.now(), '%Y%m%d_%H%M')      \n",
    "  feature_list = []\n",
    "  for tree in clf.estimators_:\n",
    "    feature_importances_ls = tree.feature_importances_\n",
    "    feature_list.append(feature_importances_ls)\n",
    "        \n",
    "  df = pd.DataFrame(feature_list, columns=X_train.columns)\n",
    "  df_mean = df[X_train.columns].mean(axis=0)\n",
    "  df_mean.sort_values(ascending=False, inplace=True)\n",
    "  df_std = df[X_train.columns].std(axis=0)\n",
    "  df_mean.plot(kind='bar', color='b', yerr=[df_std], align=\"center\", figsize=(20,10), rot=90, fontsize=16)\n",
    "  plt.title('Histogram of Feature Importances for AdaBoost Classifier')\n",
    "  plt.xlabel('Features')\n",
    "  plt.tight_layout()\n",
    "  plt.show\n",
    "      \n",
    "feature_importances_pandas(tree_clf_rand_ada_new, X_train)\n",
    "   \n",
    "def write_pickle(clf):\n",
    "  datestring = datetime.strftime(datetime.now(), '%Y%m%d_%H%M')\n",
    "  joblib.dump(clf, 'best_tree_rand_'+datestring+'.pkl')\n",
    "    \n",
    "write_pickle(tree_clf_rand_ada_new)\n",
    "    \n",
    "def visualise_tree(tree_bag, columns):\n",
    "  datestring = datetime.strftime(datetime.now(), '%Y%m%d_%H%M')\n",
    "  trees = tree_bag.estimators_\n",
    "  i_tree = 0\n",
    "  for tree in trees:\n",
    "    with open('tree_clf_rand_ada_new_'+datestring+str(i_tree)+'.dot', 'w') as f:\n",
    "      export_graphviz(tree, out_file=f, feature_names=columns, rounded=True, filled=True)\n",
    "      f.close()\n",
    "    dotfile = 'tree_clf_rand_ada_new_'+datestring+str(i_tree)+'.dot'\n",
    "    pngfile = 'tree_clf_rand_ada_new_'+datestring+str(i_tree)+'.png'\n",
    "    command = [\"dot\", \"-Tpng\", dotfile, \"-o\", pngfile]\n",
    "    subprocess.check_call(command)\n",
    "    i_tree = i_tree + 1\n",
    "\n",
    "#visualise_tree(tree_clf_rand_ada_new, X_train.columns)\n",
    "\n",
    "def basic_stats(clf, X_train, y_train):\n",
    "  #distribution --> accuracy\n",
    "  accuracy_each_cv = cross_val_score(clf, X_train, y_train, cv=3, scoring='accuracy')\n",
    "  accuracy_mean_cv = cross_val_score(clf, X_train, y_train, cv=3, scoring='accuracy').mean()\n",
    "  # calculate cross_val_scoring with different scoring functions for CV train set\n",
    "  train_roc_auc = cross_val_score(clf, X_train, y_train, cv=3, scoring='roc_auc').mean()\n",
    "  train_accuracy = cross_val_score(clf, X_train, y_train, cv=3, scoring='accuracy').mean()\n",
    "  train_recall = cross_val_score(clf, X_train, y_train, cv=3, scoring='recall').mean()\n",
    "  train_precision = cross_val_score(clf, X_train, y_train, cv=3, scoring='precision').mean()\n",
    "  train_f1 = cross_val_score(clf, X_train, y_train, cv=3, scoring='f1').mean()\n",
    "\n",
    "  print('Get various cross_val_scores to evaluate clf performance for best parameters \\n')     \n",
    "  print('Accuracy for each of 3 CV folds: %s \\n' %accuracy_each_cv)\n",
    "  print('Mean accuracy over all 3 CV folds: %s \\n' %accuracy_mean_cv)\n",
    "  print('ROC_AUC mean for 3-fold CV: %s \\n' %train_roc_auc)\n",
    "  print('Accuracy mean for 3-fold CV: %s \\n' %train_accuracy)\n",
    "  print('Recall mean for 3-fold CV: %s \\n' %train_recall)\n",
    "  print('Precision mean for 3-fold CV: %s \\n' %train_precision)\n",
    "  print('F1 score mean for 3-fold CV: %s \\n' %train_f1)\n",
    "    \n",
    "basic_stats(tree_clf_rand_ada_new, X_train, y_train)\n"
   ]
  },
  {
   "cell_type": "markdown",
   "metadata": {},
   "source": [
    "# Predict using the test set on Decision Tree with AdaBoost"
   ]
  },
  {
   "cell_type": "code",
   "execution_count": 15,
   "metadata": {},
   "outputs": [
    {
     "name": "stdout",
     "output_type": "stream",
     "text": [
      "Accuracy score or agreement between y_test and y_pred_class: 0.851851851852 \n",
      "\n",
      "Class distribution for y_test: 0.0    76\n",
      "1.0    59\n",
      "Name: MR_success, dtype: int64 \n",
      "\n",
      "Percent 1s in y_test: 0.43703703703703706 \n",
      "\n",
      "Percent 0s in y_test: 0.5629629629629629 \n",
      "\n",
      "Null accuracy in y_test: 0.5629629629629629 \n",
      "\n"
     ]
    },
    {
     "data": {
      "text/plain": [
       "(array([ 0.,  0.,  1.,  0.,  1.,  0.,  1.,  1.,  1.,  1.,  0.,  1.,  0.,\n",
       "         0.,  0.,  0.,  0.,  1.,  1.,  1.,  0.,  0.,  0.,  1.,  0.,  0.,\n",
       "         1.,  0.,  1.,  0.,  0.,  0.,  1.,  0.,  1.,  1.,  1.,  1.,  0.,\n",
       "         0.,  1.,  1.,  0.,  0.,  0.,  1.,  0.,  1.,  1.,  1.,  1.,  1.,\n",
       "         1.,  1.,  0.,  1.,  0.,  0.,  0.,  0.,  0.,  1.,  1.,  0.,  0.,\n",
       "         0.,  1.,  1.,  1.,  0.,  0.,  1.,  0.,  0.,  0.,  0.,  0.,  0.,\n",
       "         0.,  0.,  0.,  0.,  1.,  1.,  0.,  0.,  0.,  0.,  1.,  0.,  1.,\n",
       "         0.,  0.,  1.,  1.,  0.,  0.,  0.,  0.,  1.,  1.,  1.,  1.,  0.,\n",
       "         0.,  1.,  1.,  1.,  0.,  1.,  1.,  1.,  0.,  1.,  0.,  1.,  1.,\n",
       "         0.,  0.,  1.,  0.,  0.,  1.,  0.,  0.,  1.,  1.,  1.,  1.,  0.,\n",
       "         1.,  0.,  0.,  1.,  1.]), array([[ 0.84230602,  0.15769398],\n",
       "        [ 0.78773705,  0.21226295],\n",
       "        [ 0.19725086,  0.80274914],\n",
       "        [ 0.71258572,  0.28741428],\n",
       "        [ 0.17473923,  0.82526077],\n",
       "        [ 0.58257195,  0.41742805],\n",
       "        [ 0.29474322,  0.70525678],\n",
       "        [ 0.13170473,  0.86829527],\n",
       "        [ 0.48037087,  0.51962913],\n",
       "        [ 0.21194991,  0.78805009],\n",
       "        [ 0.78122158,  0.21877842],\n",
       "        [ 0.35634296,  0.64365704],\n",
       "        [ 0.8334769 ,  0.1665231 ],\n",
       "        [ 0.83653917,  0.16346083],\n",
       "        [ 0.88297622,  0.11702378],\n",
       "        [ 0.74152115,  0.25847885],\n",
       "        [ 0.78193364,  0.21806636],\n",
       "        [ 0.10803013,  0.89196987],\n",
       "        [ 0.22777938,  0.77222062],\n",
       "        [ 0.38916049,  0.61083951],\n",
       "        [ 0.78154719,  0.21845281],\n",
       "        [ 0.80002493,  0.19997507],\n",
       "        [ 0.87038605,  0.12961395],\n",
       "        [ 0.20044488,  0.79955512],\n",
       "        [ 0.82784772,  0.17215228],\n",
       "        [ 0.88215307,  0.11784693],\n",
       "        [ 0.22206895,  0.77793105],\n",
       "        [ 0.78174525,  0.21825475],\n",
       "        [ 0.1391409 ,  0.8608591 ],\n",
       "        [ 0.52101089,  0.47898911],\n",
       "        [ 0.82489809,  0.17510191],\n",
       "        [ 0.74710778,  0.25289222],\n",
       "        [ 0.4471973 ,  0.5528027 ],\n",
       "        [ 0.83701757,  0.16298243],\n",
       "        [ 0.20456572,  0.79543428],\n",
       "        [ 0.14633258,  0.85366742],\n",
       "        [ 0.1248569 ,  0.8751431 ],\n",
       "        [ 0.33193553,  0.66806447],\n",
       "        [ 0.81850796,  0.18149204],\n",
       "        [ 0.72817213,  0.27182787],\n",
       "        [ 0.11998945,  0.88001055],\n",
       "        [ 0.22733018,  0.77266982],\n",
       "        [ 0.74410298,  0.25589702],\n",
       "        [ 0.87155018,  0.12844982],\n",
       "        [ 0.81381217,  0.18618783],\n",
       "        [ 0.48554735,  0.51445265],\n",
       "        [ 0.80711107,  0.19288893],\n",
       "        [ 0.20876067,  0.79123933],\n",
       "        [ 0.26253469,  0.73746531],\n",
       "        [ 0.35433626,  0.64566374],\n",
       "        [ 0.43683103,  0.56316897],\n",
       "        [ 0.31208937,  0.68791063],\n",
       "        [ 0.13131303,  0.86868697],\n",
       "        [ 0.23082075,  0.76917925],\n",
       "        [ 0.72008978,  0.27991022],\n",
       "        [ 0.22694445,  0.77305555],\n",
       "        [ 0.77046282,  0.22953718],\n",
       "        [ 0.65521882,  0.34478118],\n",
       "        [ 0.86595097,  0.13404903],\n",
       "        [ 0.82521612,  0.17478388],\n",
       "        [ 0.78773896,  0.21226104],\n",
       "        [ 0.49244568,  0.50755432],\n",
       "        [ 0.22434645,  0.77565355],\n",
       "        [ 0.72788335,  0.27211665],\n",
       "        [ 0.90032587,  0.09967413],\n",
       "        [ 0.82380975,  0.17619025],\n",
       "        [ 0.48169285,  0.51830715],\n",
       "        [ 0.18743375,  0.81256625],\n",
       "        [ 0.21866321,  0.78133679],\n",
       "        [ 0.75518046,  0.24481954],\n",
       "        [ 0.54531377,  0.45468623],\n",
       "        [ 0.16810241,  0.83189759],\n",
       "        [ 0.67264738,  0.32735262],\n",
       "        [ 0.86413657,  0.13586343],\n",
       "        [ 0.8309016 ,  0.1690984 ],\n",
       "        [ 0.8202183 ,  0.1797817 ],\n",
       "        [ 0.86082527,  0.13917473],\n",
       "        [ 0.86899573,  0.13100427],\n",
       "        [ 0.84878129,  0.15121871],\n",
       "        [ 0.84068845,  0.15931155],\n",
       "        [ 0.85102752,  0.14897248],\n",
       "        [ 0.79767699,  0.20232301],\n",
       "        [ 0.2192936 ,  0.7807064 ],\n",
       "        [ 0.48086049,  0.51913951],\n",
       "        [ 0.83085593,  0.16914407],\n",
       "        [ 0.82785503,  0.17214497],\n",
       "        [ 0.67526228,  0.32473772],\n",
       "        [ 0.7942957 ,  0.2057043 ],\n",
       "        [ 0.23352641,  0.76647359],\n",
       "        [ 0.64877064,  0.35122936],\n",
       "        [ 0.23490717,  0.76509283],\n",
       "        [ 0.54258738,  0.45741262],\n",
       "        [ 0.84283877,  0.15716123],\n",
       "        [ 0.0955366 ,  0.9044634 ],\n",
       "        [ 0.16869209,  0.83130791],\n",
       "        [ 0.88627544,  0.11372456],\n",
       "        [ 0.81472766,  0.18527234],\n",
       "        [ 0.8022016 ,  0.1977984 ],\n",
       "        [ 0.87568964,  0.12431036],\n",
       "        [ 0.17985904,  0.82014096],\n",
       "        [ 0.17846214,  0.82153786],\n",
       "        [ 0.47677263,  0.52322737],\n",
       "        [ 0.346005  ,  0.653995  ],\n",
       "        [ 0.83780705,  0.16219295],\n",
       "        [ 0.60092284,  0.39907716],\n",
       "        [ 0.47960853,  0.52039147],\n",
       "        [ 0.28554188,  0.71445812],\n",
       "        [ 0.10780374,  0.89219626],\n",
       "        [ 0.8056443 ,  0.1943557 ],\n",
       "        [ 0.21616681,  0.78383319],\n",
       "        [ 0.22009105,  0.77990895],\n",
       "        [ 0.37206939,  0.62793061],\n",
       "        [ 0.86929639,  0.13070361],\n",
       "        [ 0.49290256,  0.50709744],\n",
       "        [ 0.75969818,  0.24030182],\n",
       "        [ 0.46888734,  0.53111266],\n",
       "        [ 0.15050003,  0.84949997],\n",
       "        [ 0.76768437,  0.23231563],\n",
       "        [ 0.60395388,  0.39604612],\n",
       "        [ 0.1907299 ,  0.8092701 ],\n",
       "        [ 0.85121512,  0.14878488],\n",
       "        [ 0.88283946,  0.11716054],\n",
       "        [ 0.11483891,  0.88516109],\n",
       "        [ 0.79342569,  0.20657431],\n",
       "        [ 0.78789181,  0.21210819],\n",
       "        [ 0.20027964,  0.79972036],\n",
       "        [ 0.20554775,  0.79445225],\n",
       "        [ 0.49720749,  0.50279251],\n",
       "        [ 0.38803429,  0.61196571],\n",
       "        [ 0.5883705 ,  0.4116295 ],\n",
       "        [ 0.10313841,  0.89686159],\n",
       "        [ 0.78207369,  0.21792631],\n",
       "        [ 0.77201187,  0.22798813],\n",
       "        [ 0.13165381,  0.86834619],\n",
       "        [ 0.32054544,  0.67945456]]))"
      ]
     },
     "execution_count": 15,
     "metadata": {},
     "output_type": "execute_result"
    }
   ],
   "source": [
    "def predict(clf, X_test):\n",
    "  #try out how well the classifier works to predict from the test set\n",
    "  y_pred = clf.predict(X_test)\n",
    "  y_pred_proba = clf.predict_proba(X_test)\n",
    "\n",
    "  def prediction_stats(y_test, y_pred):\n",
    "    # calculate accuracy\n",
    "    y_accuracy = metrics.accuracy_score(y_test, y_pred)\n",
    "\n",
    "    # examine the class distribution of the testing set (using a Pandas Series method)\n",
    "    class_dist = y_test.value_counts()\n",
    "\n",
    "    # calculate the percentage of ones\n",
    "    # because y_test only contains ones and zeros, we can simply calculate the mean = percentage of ones\n",
    "    ones = y_test.mean()\n",
    "\n",
    "    # calculate the percentage of zeros\n",
    "    zeros = 1 - y_test.mean()\n",
    "\n",
    "    # calculate null accuracy in a single line of code\n",
    "    # only for binary classification problems coded as 0/1\n",
    "    null_acc = max(y_test.mean(), 1 - y_test.mean())\n",
    "\n",
    "    print('Accuracy score or agreement between y_test and y_pred_class: %s \\n' %y_accuracy)\n",
    "    print('Class distribution for y_test: %s \\n' %class_dist)\n",
    "    print('Percent 1s in y_test: %s \\n' %ones)\n",
    "    print('Percent 0s in y_test: %s \\n' %zeros)\n",
    "    print('Null accuracy in y_test: %s \\n' %null_acc)\n",
    "    \n",
    "  prediction_stats(y_test, y_pred)\n",
    "  \n",
    "  return y_pred, y_pred_proba\n",
    "\n",
    "predict(tree_clf_rand_ada_new, X_test)"
   ]
  },
  {
   "cell_type": "markdown",
   "metadata": {},
   "source": [
    "# Detailed analysis for Decision Tree with AdaBoost"
   ]
  },
  {
   "cell_type": "code",
   "execution_count": 16,
   "metadata": {},
   "outputs": [
    {
     "data": {
      "image/png": "[encoded data removed]",
      "text/plain": [
       "<matplotlib.figure.Figure at 0x112683518>"
      ]
     },
     "metadata": {},
     "output_type": "display_data"
    },
    {
     "name": "stdout",
     "output_type": "stream",
     "text": [
      "confusion matrix using test set: [[64 12]\n",
      " [ 8 51]] \n",
      "\n",
      "accuracy score manual test: 0.851851851852 \n",
      "\n",
      "accuracy score sklearn test: 0.851851851852 \n",
      "\n",
      "classification error manual test: 0.148148148148 \n",
      "\n",
      "classification error sklearn test: 0.148148148148 \n",
      "\n",
      "sensitivity manual test: 0.864406779661 \n",
      "\n",
      "sensitivity sklearn test: 0.864406779661 \n",
      "\n",
      "specificity manual test: 0.842105263158 \n",
      "\n",
      "false positive rate manual test: 0.157894736842 \n",
      "\n",
      "1 - specificity test: 0.157894736842 \n",
      "\n",
      "precision manual: 0.809523809524 \n",
      "\n",
      "precision sklearn: 0.809523809524 \n",
      "\n",
      "F1 score sklearn test: 0.83606557377 \n",
      "\n"
     ]
    },
    {
     "data": {
      "image/png": "[encoded data removed]",
      "text/plain": [
       "<matplotlib.figure.Figure at 0x1162870b8>"
      ]
     },
     "metadata": {},
     "output_type": "display_data"
    },
    {
     "data": {
      "image/png": "[encoded data removed]",
      "text/plain": [
       "<matplotlib.figure.Figure at 0x1126e6898>"
      ]
     },
     "metadata": {},
     "output_type": "display_data"
    },
    {
     "data": {
      "image/png": "[encoded data removed]",
      "text/plain": [
       "<matplotlib.figure.Figure at 0x11613df60>"
      ]
     },
     "metadata": {},
     "output_type": "display_data"
    },
    {
     "name": "stdout",
     "output_type": "stream",
     "text": [
      "AUC for CV test set class 1: 0.949821587868 \n",
      "\n"
     ]
    }
   ],
   "source": [
    "def analysis(clf, X_train, y_train, X_test, y_test):\n",
    "    #try out how well the classifier works to predict from the test set\n",
    "  y_pred = clf.predict(X_test)\n",
    "  y_pred_proba = clf.predict_proba(X_test)\n",
    "\n",
    "  def conf_mat(y_test, y_pred):\n",
    "    # IMPORTANT: first argument is true values, second argument is predicted values\n",
    "    # this produces a 2x2 numpy array (matrix)\n",
    "    conf_mat_test = metrics.confusion_matrix(y_test, y_pred)\n",
    "    def draw_conf_mat(matrix):\n",
    "      labels = ['0', '1']      \n",
    "      ax = plt.subplot()\n",
    "      sns.heatmap(matrix, annot=True, ax=ax)\n",
    "      plt.title('Confusion matrix of the classifier')\n",
    "      ax.set_xticklabels(labels)\n",
    "      ax.set_yticklabels(labels)\n",
    "      plt.xlabel('Predicted')\n",
    "      plt.ylabel('True')\n",
    "      plt.show()\n",
    "\n",
    "    draw_conf_mat(conf_mat_test)\n",
    "      \n",
    "    TP = conf_mat_test[1, 1]\n",
    "    TN = conf_mat_test[0, 0]\n",
    "    FP = conf_mat_test[0, 1]\n",
    "    FN = conf_mat_test[1, 0]\n",
    "\n",
    "    print('confusion matrix using test set: %s \\n' %conf_mat_test)\n",
    "      \n",
    "    #calculate accuracy\n",
    "    acc_score_man_test = (TP + TN) / float(TP + TN + FP + FN)\n",
    "    acc_score_sklearn_test = metrics.accuracy_score(y_test, y_pred)\n",
    "    print('accuracy score manual test: %s \\n' %acc_score_man_test)\n",
    "    print('accuracy score sklearn test: %s \\n' %acc_score_sklearn_test)\n",
    "        \n",
    "    #classification error\n",
    "    class_err_man_test = (FP + FN) / float(TP + TN + FP + FN)\n",
    "    class_err_sklearn_test = 1 - metrics.accuracy_score(y_test, y_pred)\n",
    "    print('classification error manual test: %s \\n' %class_err_man_test)\n",
    "    print('classification error sklearn test: %s \\n' %class_err_sklearn_test)\n",
    "        \n",
    "    #sensitivity/recall/true positive rate; correctly placed positive cases  \n",
    "    sensitivity_man_test = TP / float(FN + TP)\n",
    "    sensitivity_sklearn_test = metrics.recall_score(y_test, y_pred)\n",
    "    print('sensitivity manual test: %s \\n' %sensitivity_man_test)\n",
    "    print('sensitivity sklearn test: %s \\n' %sensitivity_sklearn_test)\n",
    "      \n",
    "    #specificity  \n",
    "    specificity_man_test = TN / (TN + FP)\n",
    "    print('specificity manual test: %s \\n' %specificity_man_test)\n",
    "      \n",
    "    #false positive rate  \n",
    "    false_positive_rate_man_test = FP / float(TN + FP)\n",
    "    print('false positive rate manual test: %s \\n' %false_positive_rate_man_test)\n",
    "    print('1 - specificity test: %s \\n' %(1 - specificity_man_test))\n",
    "      \n",
    "    #precision/confidence of placement  \n",
    "    precision_man_test = TP / float(TP + FP)\n",
    "    precision_sklearn_test = metrics.precision_score(y_test, y_pred)\n",
    "    print('precision manual: %s \\n' %precision_man_test)\n",
    "    print('precision sklearn: %s \\n' %precision_sklearn_test)\n",
    "      \n",
    "    #F1 score; uses precision and recall  \n",
    "    f1_score_sklearn_test = f1_score(y_test, y_pred)\n",
    "    print('F1 score sklearn test: %s \\n' %f1_score_sklearn_test)\n",
    "        \n",
    "  conf_mat(y_test, y_pred)\n",
    "\n",
    "  def prediction_probas(clf, X_train, y_train, X_test, y_test, y_pred_proba): \n",
    "    #plot histograms of probabilities  \n",
    "    def plot_hist_pred_proba(y_pred_proba):\n",
    "      plt.hist(y_pred_proba, bins=20)\n",
    "      plt.xlim(0,1)\n",
    "      plt.title('Histogram of predicted probabilities for y_pred_proba to be class 1')\n",
    "      plt.xlabel('Predicted probability of EP_success')\n",
    "      plt.ylabel('Frequency')\n",
    "      plt.show()\n",
    "        \n",
    "    plot_hist_pred_proba(y_pred_proba[:, 1])\n",
    "\n",
    "    y_scores_ones = y_pred_proba[:, 1]#test data to be class 1\n",
    "      \n",
    "    #plot precision and recall curve\n",
    "    def plot_precision_recall_vs_threshold(precisions, recalls, thresholds_tree):\n",
    "      plt.plot(thresholds_tree, precisions[:-1], \"b--\", label=\"Precision\")\n",
    "      plt.plot(thresholds_tree, recalls[:-1], \"g--\", label=\"Recall\")\n",
    "      plt.title('Precsion-Recall plot for for EP_success classifier using class 1')\n",
    "      plt.xlabel(\"Threshold\")\n",
    "      plt.legend(loc=\"upper left\")\n",
    "      plt.ylim([0,1])\n",
    "      plt.show()\n",
    "\n",
    "    #plot Precision Recall Threshold curve for test set        \n",
    "    precisions, recalls, thresholds_tree = precision_recall_curve(y_test, y_scores_ones)\n",
    "    plot_precision_recall_vs_threshold(precisions, recalls, thresholds_tree)\n",
    "\n",
    "    #IMPORTANT: first argument is true values, second argument is predicted probabilities\n",
    "    #we pass y_test and y_pred_prob\n",
    "    #we do not use y_pred_class, because it will give incorrect results without generating an error\n",
    "    #roc_curve returns 3 objects fpr, tpr, thresholds\n",
    "    #fpr: false positive rate\n",
    "    #tpr: true positive rate\n",
    "\n",
    "    #plot ROC curves\n",
    "    def plot_roc_curve(fpr, tpr):\n",
    "      plt.plot(fpr, tpr, linewidth=2)\n",
    "      plt.plot([0, 1], [0, 1], 'k--')\n",
    "      plt.axis([0, 1, 0, 1])\n",
    "      plt.title('ROC curve for EP_success classifier for class 1' ) \n",
    "      plt.xlabel('False Positive Rate (1 - Specificity)')\n",
    "      plt.ylabel('True Positive Rate (Sensitivity)')\n",
    "      plt.grid(True)\n",
    "      plt.show()\n",
    "        \n",
    "    #ROC curve for test set      \n",
    "    fpr, tpr, thresholds = roc_curve(y_test, y_scores_ones)\n",
    "    plot_roc_curve(fpr, tpr)\n",
    "      \n",
    "    #calculate the area under the curve to get the performance for a classifier\n",
    "    # IMPORTANT: first argument is true values, second argument is predicted probabilities\n",
    "    AUC_test_class1 = metrics.roc_auc_score(y_test, y_scores_ones)\n",
    "\n",
    "    print('AUC for test set class 1: %s \\n' %AUC_test_class1)\n",
    "\n",
    "  prediction_probas(clf, X_train, y_train, X_test, y_test, y_pred_proba)    \n",
    "\n",
    "analysis(tree_clf_rand_ada_new, X_train, y_train, X_test, y_test)"
   ]
  },
  {
   "cell_type": "code",
   "execution_count": null,
   "metadata": {
    "collapsed": true
   },
   "outputs": [],
   "source": []
  }
 ],
 "metadata": {
  "kernelspec": {
   "display_name": "Python 3",
   "language": "python",
   "name": "python3"
  },
  "language_info": {
   "codemirror_mode": {
    "name": "ipython",
    "version": 3
   },
   "file_extension": ".py",
   "mimetype": "text/x-python",
   "name": "python",
   "nbconvert_exporter": "python",
   "pygments_lexer": "ipython3",
   "version": "3.6.1"
  }
 },
 "nbformat": 4,
 "nbformat_minor": 2
}
