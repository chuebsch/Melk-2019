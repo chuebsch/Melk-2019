{
 "cells": [
  {
   "cell_type": "markdown",
   "metadata": {},
   "source": [
    "# Library Import\n",
    "\n",
    "Pandas\n",
    "Importing the data into a dataframe; for manipulations of the dataframe and easy plotting\n",
    "\n",
    "Numpy\n",
    "For vector and matrix calculations\n",
    "\n",
    "Matplotlib\n",
    "For plotting\n",
    "\n",
    "Seaborn\n",
    "For plotting\n",
    "\n",
    "SKLearn\n",
    "For the machine learning part\n",
    "\n",
    "Scipy\n",
    "For some statistics\n"
   ]
  },
  {
   "cell_type": "code",
   "execution_count": 1,
   "metadata": {},
   "outputs": [
    {
     "name": "stderr",
     "output_type": "stream",
     "text": [
      "/Users/melanievollmar/anaconda/lib/python3.6/site-packages/sklearn/externals/joblib/__init__.py:15: DeprecationWarning: sklearn.externals.joblib is deprecated in 0.21 and will be removed in 0.23. Please import this functionality directly from joblib, which can be installed with: pip install joblib. If this warning is raised when loading pickled models, you may need to re-serialize those models with scikit-learn 0.21+.\n",
      "  warnings.warn(msg, category=DeprecationWarning)\n"
     ]
    }
   ],
   "source": [
    "%matplotlib inline\n",
    "\n",
    "import pandas as pd\n",
    "import numpy as np\n",
    "import matplotlib.pyplot as plt\n",
    "import seaborn as sns\n",
    "import matplotlib.colorbar as mpl\n",
    "import subprocess\n",
    "from sklearn import metrics\n",
    "\n",
    "from sklearn.preprocessing import StandardScaler\n",
    "from sklearn.model_selection import train_test_split\n",
    "from sklearn.model_selection import RandomizedSearchCV\n",
    "from sklearn.svm import SVC\n",
    "from sklearn.model_selection import cross_val_score\n",
    "from sklearn.model_selection import cross_val_predict\n",
    "from sklearn.metrics import confusion_matrix, precision_score, recall_score, f1_score\n",
    "from sklearn.metrics import precision_recall_curve, roc_curve\n",
    "from sklearn.tree import export_graphviz\n",
    "from sklearn.externals import joblib\n",
    "from scipy.stats import randint\n",
    "from scipy.stats import uniform\n",
    "from scipy.stats import expon\n",
    "from datetime import datetime"
   ]
  },
  {
   "cell_type": "markdown",
   "metadata": {},
   "source": [
    "# Data Import"
   ]
  },
  {
   "cell_type": "code",
   "execution_count": 2,
   "metadata": {},
   "outputs": [
    {
     "name": "stdout",
     "output_type": "stream",
     "text": [
      "   sweep_id  pdb_id_id  wavelength  MR_success  TFZ   LLG  PAK  mr_reso  \\\n",
      "0       144       1003      0.9797         0.0  5.8  33.0  5.0     1.38   \n",
      "1       145       1003      0.9184         0.0  5.8  33.0  5.0     1.38   \n",
      "2       146       1003      0.9792         0.0  5.8  33.0  5.0     1.38   \n",
      "3       918        101      0.9793         0.0  4.1  17.0  1.0     1.66   \n",
      "4       919        101      0.9537         0.0  4.1  17.0  1.0     1.66   \n",
      "\n",
      "   mr_sg  mr_sg_no     ...       wilsonbfactor  RmeasI  highreslimit  \\\n",
      "0  P1211         4     ...               11.28  0.0723          1.38   \n",
      "1  P1211         4     ...               11.30  0.0846          1.41   \n",
      "2  P1211         4     ...               11.21  0.0879          1.39   \n",
      "3     H3       146     ...               20.88  0.0910          1.66   \n",
      "4     H3       146     ...               20.26  0.0937          1.67   \n",
      "\n",
      "   RpimdiffI anomalousmulti  RmergediffI  totalobservations  anomalouscompl  \\\n",
      "0     0.0442           1.73       0.0477             290215           91.57   \n",
      "1     0.0475           1.75       0.0512             275712           92.33   \n",
      "2     0.0412           1.73       0.0444             284616           91.64   \n",
      "3     0.0607           1.88       0.0644             206737           95.25   \n",
      "4     0.0624           1.91       0.0660             208630           97.15   \n",
      "\n",
      "   cchalf  totalunique  \n",
      "0  0.9983        87299  \n",
      "1  0.9976        82033  \n",
      "2  0.9972        85517  \n",
      "3  0.9972        56237  \n",
      "4  0.9973        55392  \n",
      "\n",
      "[5 rows x 38 columns]\n"
     ]
    }
   ],
   "source": [
    "data = pd.read_csv(\"data.csv\", na_filter=False, skipinitialspace=True, thousands=',')\n",
    "print(data.head())"
   ]
  },
  {
   "cell_type": "code",
   "execution_count": 3,
   "metadata": {},
   "outputs": [
    {
     "name": "stdout",
     "output_type": "stream",
     "text": [
      "(673, 38)\n"
     ]
    }
   ],
   "source": [
    "print(data.shape)"
   ]
  },
  {
   "cell_type": "markdown",
   "metadata": {},
   "source": [
    "# Isolate column names to use as features"
   ]
  },
  {
   "cell_type": "code",
   "execution_count": 4,
   "metadata": {},
   "outputs": [
    {
     "name": "stdout",
     "output_type": "stream",
     "text": [
      "Index(['sweep_id', 'pdb_id_id', 'wavelength', 'MR_success', 'TFZ', 'LLG',\n",
      "       'PAK', 'mr_reso', 'mr_sg', 'mr_sg_no', 'RMSD', 'VRMS', 'eLLG', 'tncs',\n",
      "       'model_pdb', 'seq_ident', 'model_res', 'anomalousCC', 'IoverSigma',\n",
      "       'completeness', 'diffI', 'RmergeI', 'lowreslimit', 'RpimI',\n",
      "       'multiplicity', 'RmeasdiffI', 'anomalousslope', 'diffF',\n",
      "       'wilsonbfactor', 'RmeasI', 'highreslimit', 'RpimdiffI',\n",
      "       'anomalousmulti', 'RmergediffI', 'totalobservations', 'anomalouscompl',\n",
      "       'cchalf', 'totalunique'],\n",
      "      dtype='object')\n"
     ]
    }
   ],
   "source": [
    "column_names = data.columns\n",
    "print(column_names)"
   ]
  },
  {
   "cell_type": "code",
   "execution_count": 5,
   "metadata": {},
   "outputs": [
    {
     "name": "stdout",
     "output_type": "stream",
     "text": [
      "Index(['wavelength', 'mr_reso', 'mr_sg_no', 'eLLG', 'tncs', 'model_res',\n",
      "       'anomalousCC', 'IoverSigma', 'completeness', 'diffI', 'RmergeI',\n",
      "       'lowreslimit', 'RpimI', 'multiplicity', 'RmeasdiffI', 'anomalousslope',\n",
      "       'diffF', 'wilsonbfactor', 'RmeasI', 'highreslimit', 'RpimdiffI',\n",
      "       'anomalousmulti', 'RmergediffI', 'totalobservations', 'anomalouscompl',\n",
      "       'cchalf', 'totalunique'],\n",
      "      dtype='object')\n"
     ]
    }
   ],
   "source": [
    "data_columns = data[['wavelength', 'mr_reso', 'mr_sg_no', 'eLLG', 'tncs',\n",
    "       'model_res', 'anomalousCC', 'IoverSigma', 'completeness', 'diffI',\n",
    "       'RmergeI', 'lowreslimit', 'RpimI', 'multiplicity', 'RmeasdiffI',\n",
    "       'anomalousslope', 'diffF', 'wilsonbfactor', 'RmeasI', 'highreslimit',\n",
    "       'RpimdiffI', 'anomalousmulti', 'RmergediffI', 'totalobservations',\n",
    "       'anomalouscompl', 'cchalf', 'totalunique']]\n",
    "\n",
    "data_columns_labels = data_columns.columns\n",
    "print(data_columns_labels)\n",
    "print(data_columns.shape)"
   ]
  },
  {
   "cell_type": "markdown",
   "metadata": {},
   "source": [
    "# Fill in missing values"
   ]
  },
  {
   "cell_type": "code",
   "execution_count": 7,
   "metadata": {
    "collapsed": true
   },
   "outputs": [],
   "source": [
    "data_columns_fill = data_columns.fillna(0)"
   ]
  },
  {
   "cell_type": "markdown",
   "metadata": {},
   "source": [
    "# Data split - test and training set "
   ]
  },
  {
   "cell_type": "code",
   "execution_count": 8,
   "metadata": {
    "collapsed": true
   },
   "outputs": [],
   "source": [
    "y = data['MR_success']\n",
    "\n",
    "X_train, X_test, y_train, y_test = train_test_split(data_columns_fill, y, \n",
    "                                                    test_size=0.2,\n",
    "                                                    random_state=42,\n",
    "                                                    stratify=y)"
   ]
  },
  {
   "cell_type": "markdown",
   "metadata": {},
   "source": [
    "# Standardise data for support vector machines"
   ]
  },
  {
   "cell_type": "code",
   "execution_count": 9,
   "metadata": {
    "collapsed": true
   },
   "outputs": [],
   "source": [
    "scaler = StandardScaler()\n",
    "scaler.fit(X_train)\n",
    "X_train_std = scaler.transform(X_train)\n",
    "X_test_std = scaler.transform(X_test)"
   ]
  },
  {
   "cell_type": "markdown",
   "metadata": {},
   "source": [
    "# Find best RBF SVM in RandomizedSearch"
   ]
  },
  {
   "cell_type": "code",
   "execution_count": 10,
   "metadata": {},
   "outputs": [
    {
     "name": "stdout",
     "output_type": "stream",
     "text": [
      "Best parameters: {'C': 25.101997732265257, 'class_weight': None, 'gamma': 0.17797982987485506}\n",
      "\n",
      "Best score: 0.780669144981\n",
      "\n"
     ]
    },
    {
     "data": {
      "text/plain": [
       "{'C': 25.101997732265257, 'class_weight': None, 'gamma': 0.17797982987485506}"
      ]
     },
     "execution_count": 10,
     "metadata": {},
     "output_type": "execute_result"
    }
   ],
   "source": [
    "def rand_search(X_train, y_train):\n",
    "  #create the random forest\n",
    "  svc_clf_rand = SVC(kernel='rbf',\n",
    "                     probability=True,\n",
    "                     random_state=100)\n",
    "    \n",
    "  #set up grid search\n",
    "  param_rand = {'C': expon(scale=100),#penalty\n",
    "                'gamma': expon(scale=.1),\n",
    "                'class_weight':['balanced', None]\n",
    "                }\n",
    "    \n",
    "  #building and running the grid search\n",
    "  rand_search = RandomizedSearchCV(svc_clf_rand,\n",
    "                                   param_rand,\n",
    "                                   cv=3,\n",
    "                                   scoring='accuracy',\n",
    "                                   random_state=5,\n",
    "                                   n_iter=1,\n",
    "                                   n_jobs=-1)\n",
    "                              \n",
    "  rand_search = rand_search.fit(X_train, y_train)\n",
    "  print('Best parameters: ' +str(rand_search.best_params_)+'\\n')\n",
    "  print('Best score: ' +str(rand_search.best_score_)+'\\n')\n",
    "    \n",
    "  best_params = rand_search.best_params_\n",
    "  return best_params\n",
    "\n",
    "rand_search(X_train_std, y_train)"
   ]
  },
  {
   "cell_type": "markdown",
   "metadata": {},
   "source": [
    "# Build best RBF SVM, plot feature importances and get basic stats"
   ]
  },
  {
   "cell_type": "code",
   "execution_count": 11,
   "metadata": {},
   "outputs": [
    {
     "name": "stdout",
     "output_type": "stream",
     "text": [
      "Get various cross_val_scores to evaluate clf performance for best parameters \n",
      "\n",
      "Accuracy for each of 3 CV folds: [ 0.79444444  0.75418994  0.79329609] \n",
      "\n",
      "Mean accuracy over all 3 CV folds: 0.780643492655 \n",
      "\n",
      "ROC_AUC mean for 3-fold CV: 0.850761561064 \n",
      "\n",
      "Accuracy mean for 3-fold CV: 0.780643492655 \n",
      "\n",
      "Recall mean for 3-fold CV: 0.821486530347 \n",
      "\n",
      "Precision mean for 3-fold CV: 0.719734514939 \n",
      "\n",
      "F1 score mean for 3-fold CV: 0.764861008352 \n",
      "\n"
     ]
    }
   ],
   "source": [
    "svc_clf_rand_new = SVC(class_weight = None,\n",
    "                       C = 25.101997732265257,\n",
    "                       gamma = 0.17797982987485506,\n",
    "                       kernel='rbf',\n",
    "                       probability=True,\n",
    "                       random_state=100)\n",
    "\n",
    "svc_clf_rand_new.fit(X_train_std, y_train)\n",
    "\n",
    "def basic_stats(clf, X_train, y_train):\n",
    "  #distribution --> accuracy\n",
    "  accuracy_each_cv = cross_val_score(clf, X_train, y_train, cv=3, scoring='accuracy')\n",
    "  accuracy_mean_cv = cross_val_score(clf, X_train, y_train, cv=3, scoring='accuracy').mean()\n",
    "  # calculate cross_val_scoring with different scoring functions for CV train set\n",
    "  train_roc_auc = cross_val_score(clf, X_train, y_train, cv=3, scoring='roc_auc').mean()\n",
    "  train_accuracy = cross_val_score(clf, X_train, y_train, cv=3, scoring='accuracy').mean()\n",
    "  train_recall = cross_val_score(clf, X_train, y_train, cv=3, scoring='recall').mean()\n",
    "  train_precision = cross_val_score(clf, X_train, y_train, cv=3, scoring='precision').mean()\n",
    "  train_f1 = cross_val_score(clf, X_train, y_train, cv=3, scoring='f1').mean()\n",
    "\n",
    "  print('Get various cross_val_scores to evaluate clf performance for best parameters \\n')     \n",
    "  print('Accuracy for each of 3 CV folds: %s \\n' %accuracy_each_cv)\n",
    "  print('Mean accuracy over all 3 CV folds: %s \\n' %accuracy_mean_cv)\n",
    "  print('ROC_AUC mean for 3-fold CV: %s \\n' %train_roc_auc)\n",
    "  print('Accuracy mean for 3-fold CV: %s \\n' %train_accuracy)\n",
    "  print('Recall mean for 3-fold CV: %s \\n' %train_recall)\n",
    "  print('Precision mean for 3-fold CV: %s \\n' %train_precision)\n",
    "  print('F1 score mean for 3-fold CV: %s \\n' %train_f1)\n",
    "    \n",
    "basic_stats(svc_clf_rand_new, X_train_std, y_train)\n"
   ]
  },
  {
   "cell_type": "markdown",
   "metadata": {},
   "source": [
    "# Predict using the test set on RBF SVM"
   ]
  },
  {
   "cell_type": "code",
   "execution_count": 12,
   "metadata": {},
   "outputs": [
    {
     "name": "stdout",
     "output_type": "stream",
     "text": [
      "Accuracy score or agreement between y_test and y_pred_class: 0.8 \n",
      "\n",
      "Class distribution for y_test: 0.0    76\n",
      "1.0    59\n",
      "Name: MR_success, dtype: int64 \n",
      "\n",
      "Percent 1s in y_test: 0.43703703703703706 \n",
      "\n",
      "Percent 0s in y_test: 0.5629629629629629 \n",
      "\n",
      "Null accuracy in y_test: 0.5629629629629629 \n",
      "\n"
     ]
    },
    {
     "data": {
      "text/plain": [
       "(array([ 0.,  0.,  1.,  0.,  1.,  1.,  0.,  1.,  0.,  1.,  0.,  1.,  0.,\n",
       "         0.,  0.,  1.,  0.,  1.,  0.,  1.,  1.,  0.,  0.,  1.,  0.,  0.,\n",
       "         1.,  0.,  1.,  1.,  0.,  0.,  1.,  0.,  1.,  1.,  1.,  1.,  0.,\n",
       "         1.,  1.,  1.,  1.,  0.,  0.,  1.,  0.,  1.,  1.,  1.,  1.,  1.,\n",
       "         1.,  1.,  0.,  1.,  0.,  1.,  0.,  0.,  0.,  1.,  0.,  0.,  0.,\n",
       "         0.,  1.,  1.,  1.,  0.,  1.,  1.,  1.,  0.,  0.,  0.,  0.,  0.,\n",
       "         0.,  0.,  0.,  0.,  1.,  0.,  0.,  0.,  1.,  0.,  1.,  1.,  0.,\n",
       "         1.,  0.,  1.,  1.,  0.,  0.,  0.,  0.,  1.,  1.,  0.,  1.,  0.,\n",
       "         0.,  0.,  1.,  1.,  0.,  1.,  1.,  0.,  0.,  1.,  1.,  0.,  1.,\n",
       "         0.,  1.,  1.,  0.,  0.,  1.,  0.,  0.,  1.,  1.,  1.,  0.,  0.,\n",
       "         1.,  0.,  0.,  1.,  1.]), array([[ 0.93514133,  0.06485867],\n",
       "        [ 0.98577005,  0.01422995],\n",
       "        [ 0.13744569,  0.86255431],\n",
       "        [ 0.76881755,  0.23118245],\n",
       "        [ 0.31054341,  0.68945659],\n",
       "        [ 0.0773123 ,  0.9226877 ],\n",
       "        [ 0.71941671,  0.28058329],\n",
       "        [ 0.08671748,  0.91328252],\n",
       "        [ 0.69305814,  0.30694186],\n",
       "        [ 0.41614965,  0.58385035],\n",
       "        [ 0.62957812,  0.37042188],\n",
       "        [ 0.42853789,  0.57146211],\n",
       "        [ 0.9028737 ,  0.0971263 ],\n",
       "        [ 0.9690431 ,  0.0309569 ],\n",
       "        [ 0.86237533,  0.13762467],\n",
       "        [ 0.52706447,  0.47293553],\n",
       "        [ 0.68281008,  0.31718992],\n",
       "        [ 0.5       ,  0.5       ],\n",
       "        [ 0.71443041,  0.28556959],\n",
       "        [ 0.20184704,  0.79815296],\n",
       "        [ 0.52586506,  0.47413494],\n",
       "        [ 0.83470914,  0.16529086],\n",
       "        [ 0.94961022,  0.05038978],\n",
       "        [ 0.53269275,  0.46730725],\n",
       "        [ 0.90640887,  0.09359113],\n",
       "        [ 0.98072209,  0.01927791],\n",
       "        [ 0.15668987,  0.84331013],\n",
       "        [ 0.91902268,  0.08097732],\n",
       "        [ 0.06839781,  0.93160219],\n",
       "        [ 0.15791583,  0.84208417],\n",
       "        [ 0.89631671,  0.10368329],\n",
       "        [ 0.800128  ,  0.199872  ],\n",
       "        [ 0.4101847 ,  0.5898153 ],\n",
       "        [ 0.84887405,  0.15112595],\n",
       "        [ 0.33132555,  0.66867445],\n",
       "        [ 0.06083279,  0.93916721],\n",
       "        [ 0.31129092,  0.68870908],\n",
       "        [ 0.42300558,  0.57699442],\n",
       "        [ 0.85957093,  0.14042907],\n",
       "        [ 0.39654344,  0.60345656],\n",
       "        [ 0.23573867,  0.76426133],\n",
       "        [ 0.0780638 ,  0.9219362 ],\n",
       "        [ 0.362776  ,  0.637224  ],\n",
       "        [ 0.94142874,  0.05857126],\n",
       "        [ 0.95255754,  0.04744246],\n",
       "        [ 0.50649798,  0.49350202],\n",
       "        [ 0.93192073,  0.06807927],\n",
       "        [ 0.06857863,  0.93142137],\n",
       "        [ 0.38431393,  0.61568607],\n",
       "        [ 0.43321764,  0.56678236],\n",
       "        [ 0.26932351,  0.73067649],\n",
       "        [ 0.23539588,  0.76460412],\n",
       "        [ 0.0790742 ,  0.9209258 ],\n",
       "        [ 0.21462013,  0.78537987],\n",
       "        [ 0.79687509,  0.20312491],\n",
       "        [ 0.26956326,  0.73043674],\n",
       "        [ 0.61898986,  0.38101014],\n",
       "        [ 0.34223444,  0.65776556],\n",
       "        [ 0.8608431 ,  0.1391569 ],\n",
       "        [ 0.93050707,  0.06949293],\n",
       "        [ 0.8518234 ,  0.1481766 ],\n",
       "        [ 0.22366925,  0.77633075],\n",
       "        [ 0.8055047 ,  0.1944953 ],\n",
       "        [ 0.94658971,  0.05341029],\n",
       "        [ 0.93992524,  0.06007476],\n",
       "        [ 0.67709709,  0.32290291],\n",
       "        [ 0.34921997,  0.65078003],\n",
       "        [ 0.14659321,  0.85340679],\n",
       "        [ 0.4673326 ,  0.5326674 ],\n",
       "        [ 0.72464848,  0.27535152],\n",
       "        [ 0.4111043 ,  0.5888957 ],\n",
       "        [ 0.25687416,  0.74312584],\n",
       "        [ 0.38330688,  0.61669312],\n",
       "        [ 0.72124   ,  0.27876   ],\n",
       "        [ 0.89565515,  0.10434485],\n",
       "        [ 0.82391507,  0.17608493],\n",
       "        [ 0.93595064,  0.06404936],\n",
       "        [ 0.93260087,  0.06739913],\n",
       "        [ 0.91124324,  0.08875676],\n",
       "        [ 0.96096389,  0.03903611],\n",
       "        [ 0.88026951,  0.11973049],\n",
       "        [ 0.95825693,  0.04174307],\n",
       "        [ 0.29873403,  0.70126597],\n",
       "        [ 0.83828913,  0.16171087],\n",
       "        [ 0.94931347,  0.05068653],\n",
       "        [ 0.93060381,  0.06939619],\n",
       "        [ 0.52584279,  0.47415721],\n",
       "        [ 0.89430472,  0.10569528],\n",
       "        [ 0.18872769,  0.81127231],\n",
       "        [ 0.36673676,  0.63326324],\n",
       "        [ 0.57750499,  0.42249501],\n",
       "        [ 0.27215279,  0.72784721],\n",
       "        [ 0.95965734,  0.04034266],\n",
       "        [ 0.27107274,  0.72892726],\n",
       "        [ 0.52561123,  0.47438877],\n",
       "        [ 0.94669475,  0.05330525],\n",
       "        [ 0.78782153,  0.21217847],\n",
       "        [ 0.6614517 ,  0.3385483 ],\n",
       "        [ 0.91929385,  0.08070615],\n",
       "        [ 0.19061519,  0.80938481],\n",
       "        [ 0.0036055 ,  0.9963945 ],\n",
       "        [ 0.95823694,  0.04176306],\n",
       "        [ 0.27811918,  0.72188082],\n",
       "        [ 0.84674801,  0.15325199],\n",
       "        [ 0.67903117,  0.32096883],\n",
       "        [ 0.86923121,  0.13076879],\n",
       "        [ 0.04734863,  0.95265137],\n",
       "        [ 0.17546896,  0.82453104],\n",
       "        [ 0.63566088,  0.36433912],\n",
       "        [ 0.30279161,  0.69720839],\n",
       "        [ 0.06520185,  0.93479815],\n",
       "        [ 0.82253794,  0.17746206],\n",
       "        [ 0.97258744,  0.02741256],\n",
       "        [ 0.36229542,  0.63770458],\n",
       "        [ 0.52586506,  0.47413494],\n",
       "        [ 0.76501645,  0.23498355],\n",
       "        [ 0.06533029,  0.93466971],\n",
       "        [ 0.96008483,  0.03991517],\n",
       "        [ 0.51758496,  0.48241504],\n",
       "        [ 0.34717781,  0.65282219],\n",
       "        [ 0.9648087 ,  0.0351913 ],\n",
       "        [ 0.97449847,  0.02550153],\n",
       "        [ 0.05426649,  0.94573351],\n",
       "        [ 0.96931371,  0.03068629],\n",
       "        [ 0.68109965,  0.31890035],\n",
       "        [ 0.22339259,  0.77660741],\n",
       "        [ 0.16579373,  0.83420627],\n",
       "        [ 0.48334641,  0.51665359],\n",
       "        [ 0.54529781,  0.45470219],\n",
       "        [ 0.55374354,  0.44625646],\n",
       "        [ 0.03612991,  0.96387009],\n",
       "        [ 0.91887678,  0.08112322],\n",
       "        [ 0.79824296,  0.20175704],\n",
       "        [ 0.26601143,  0.73398857],\n",
       "        [ 0.18119991,  0.81880009]]))"
      ]
     },
     "execution_count": 12,
     "metadata": {},
     "output_type": "execute_result"
    }
   ],
   "source": [
    "def predict(clf, X_test):\n",
    "  #try out how well the classifier works to predict from the test set\n",
    "  y_pred = clf.predict(X_test)\n",
    "  y_pred_proba = clf.predict_proba(X_test)\n",
    "\n",
    "  def prediction_stats(y_test, y_pred):\n",
    "    # calculate accuracy\n",
    "    y_accuracy = metrics.accuracy_score(y_test, y_pred)\n",
    "\n",
    "    # examine the class distribution of the testing set (using a Pandas Series method)\n",
    "    class_dist = y_test.value_counts()\n",
    "\n",
    "    # calculate the percentage of ones\n",
    "    # because y_test only contains ones and zeros, we can simply calculate the mean = percentage of ones\n",
    "    ones = y_test.mean()\n",
    "\n",
    "    # calculate the percentage of zeros\n",
    "    zeros = 1 - y_test.mean()\n",
    "\n",
    "    # calculate null accuracy in a single line of code\n",
    "    # only for binary classification problems coded as 0/1\n",
    "    null_acc = max(y_test.mean(), 1 - y_test.mean())\n",
    "\n",
    "    print('Accuracy score or agreement between y_test and y_pred_class: %s \\n' %y_accuracy)\n",
    "    print('Class distribution for y_test: %s \\n' %class_dist)\n",
    "    print('Percent 1s in y_test: %s \\n' %ones)\n",
    "    print('Percent 0s in y_test: %s \\n' %zeros)\n",
    "    print('Null accuracy in y_test: %s \\n' %null_acc)\n",
    "    \n",
    "  prediction_stats(y_test, y_pred)\n",
    "  \n",
    "  return y_pred, y_pred_proba\n",
    "\n",
    "predict(svc_clf_rand_new, X_test_std)"
   ]
  },
  {
   "cell_type": "markdown",
   "metadata": {},
   "source": [
    "# Detailed analysis for RBF SVM"
   ]
  },
  {
   "cell_type": "code",
   "execution_count": 13,
   "metadata": {},
   "outputs": [
    {
     "data": {
      "image/png": "[encoded data removed]",
      "text/plain": [
       "<matplotlib.figure.Figure at 0x106a89c18>"
      ]
     },
     "metadata": {},
     "output_type": "display_data"
    },
    {
     "name": "stdout",
     "output_type": "stream",
     "text": [
      "confusion matrix using test set: [[59 17]\n",
      " [10 49]] \n",
      "\n",
      "accuracy score manual test: 0.8 \n",
      "\n",
      "accuracy score sklearn test: 0.8 \n",
      "\n",
      "classification error manual test: 0.2 \n",
      "\n",
      "classification error sklearn test: 0.2 \n",
      "\n",
      "sensitivity manual test: 0.830508474576 \n",
      "\n",
      "sensitivity sklearn test: 0.830508474576 \n",
      "\n",
      "specificity manual test: 0.776315789474 \n",
      "\n",
      "false positive rate manual test: 0.223684210526 \n",
      "\n",
      "1 - specificity test: 0.223684210526 \n",
      "\n",
      "precision manual: 0.742424242424 \n",
      "\n",
      "precision sklearn: 0.742424242424 \n",
      "\n",
      "F1 score sklearn test: 0.784 \n",
      "\n"
     ]
    },
    {
     "data": {
      "image/png": "[encoded data removed]",
      "text/plain": [
       "<matplotlib.figure.Figure at 0x1135429e8>"
      ]
     },
     "metadata": {},
     "output_type": "display_data"
    },
    {
     "data": {
      "image/png": "[encoded data removed]",
      "text/plain": [
       "<matplotlib.figure.Figure at 0x1169e06d8>"
      ]
     },
     "metadata": {},
     "output_type": "display_data"
    },
    {
     "data": {
      "image/png": "[encoded data removed]",
      "text/plain": [
       "<matplotlib.figure.Figure at 0x1169c3e10>"
      ]
     },
     "metadata": {},
     "output_type": "display_data"
    },
    {
     "name": "stdout",
     "output_type": "stream",
     "text": [
      "AUC for CV test set class 1: 0.89585191793 \n",
      "\n"
     ]
    }
   ],
   "source": [
    "def analysis(clf, X_train, y_train, X_test, y_test):\n",
    "    #try out how well the classifier works to predict from the test set\n",
    "  y_pred = clf.predict(X_test)\n",
    "  y_pred_proba = clf.predict_proba(X_test)\n",
    "\n",
    "  def conf_mat(y_test, y_pred):\n",
    "    # IMPORTANT: first argument is true values, second argument is predicted values\n",
    "    # this produces a 2x2 numpy array (matrix)\n",
    "    conf_mat_test = metrics.confusion_matrix(y_test, y_pred)\n",
    "    def draw_conf_mat(matrix):\n",
    "      labels = ['0', '1']      \n",
    "      ax = plt.subplot()\n",
    "      sns.heatmap(matrix, annot=True, ax=ax)\n",
    "      plt.title('Confusion matrix of the classifier')\n",
    "      ax.set_xticklabels(labels)\n",
    "      ax.set_yticklabels(labels)\n",
    "      plt.xlabel('Predicted')\n",
    "      plt.ylabel('True')\n",
    "      plt.show()\n",
    "\n",
    "    draw_conf_mat(conf_mat_test)\n",
    "      \n",
    "    TP = conf_mat_test[1, 1]\n",
    "    TN = conf_mat_test[0, 0]\n",
    "    FP = conf_mat_test[0, 1]\n",
    "    FN = conf_mat_test[1, 0]\n",
    "\n",
    "    print('confusion matrix using test set: %s \\n' %conf_mat_test)\n",
    "      \n",
    "    #calculate accuracy\n",
    "    acc_score_man_test = (TP + TN) / float(TP + TN + FP + FN)\n",
    "    acc_score_sklearn_test = metrics.accuracy_score(y_test, y_pred)\n",
    "    print('accuracy score manual test: %s \\n' %acc_score_man_test)\n",
    "    print('accuracy score sklearn test: %s \\n' %acc_score_sklearn_test)\n",
    "        \n",
    "    #classification error\n",
    "    class_err_man_test = (FP + FN) / float(TP + TN + FP + FN)\n",
    "    class_err_sklearn_test = 1 - metrics.accuracy_score(y_test, y_pred)\n",
    "    print('classification error manual test: %s \\n' %class_err_man_test)\n",
    "    print('classification error sklearn test: %s \\n' %class_err_sklearn_test)\n",
    "        \n",
    "    #sensitivity/recall/true positive rate; correctly placed positive cases  \n",
    "    sensitivity_man_test = TP / float(FN + TP)\n",
    "    sensitivity_sklearn_test = metrics.recall_score(y_test, y_pred)\n",
    "    print('sensitivity manual test: %s \\n' %sensitivity_man_test)\n",
    "    print('sensitivity sklearn test: %s \\n' %sensitivity_sklearn_test)\n",
    "      \n",
    "    #specificity  \n",
    "    specificity_man_test = TN / (TN + FP)\n",
    "    print('specificity manual test: %s \\n' %specificity_man_test)\n",
    "      \n",
    "    #false positive rate  \n",
    "    false_positive_rate_man_test = FP / float(TN + FP)\n",
    "    print('false positive rate manual test: %s \\n' %false_positive_rate_man_test)\n",
    "    print('1 - specificity test: %s \\n' %(1 - specificity_man_test))\n",
    "      \n",
    "    #precision/confidence of placement  \n",
    "    precision_man_test = TP / float(TP + FP)\n",
    "    precision_sklearn_test = metrics.precision_score(y_test, y_pred)\n",
    "    print('precision manual: %s \\n' %precision_man_test)\n",
    "    print('precision sklearn: %s \\n' %precision_sklearn_test)\n",
    "      \n",
    "    #F1 score; uses precision and recall  \n",
    "    f1_score_sklearn_test = f1_score(y_test, y_pred)\n",
    "    print('F1 score sklearn test: %s \\n' %f1_score_sklearn_test)\n",
    "        \n",
    "  conf_mat(y_test, y_pred)\n",
    "\n",
    "  def prediction_probas(clf, X_train, y_train, X_test, y_test, y_pred_proba): \n",
    "    #plot histograms of probabilities  \n",
    "    def plot_hist_pred_proba(y_pred_proba):\n",
    "      plt.hist(y_pred_proba, bins=20)\n",
    "      plt.xlim(0,1)\n",
    "      plt.title('Histogram of predicted probabilities for y_pred_proba to be class 1')\n",
    "      plt.xlabel('Predicted probability of EP_success')\n",
    "      plt.ylabel('Frequency')\n",
    "      plt.show()\n",
    "        \n",
    "    plot_hist_pred_proba(y_pred_proba[:, 1])\n",
    "\n",
    "    y_scores_ones = y_pred_proba[:, 1]#test data to be class 1\n",
    "      \n",
    "    #plot precision and recall curve\n",
    "    def plot_precision_recall_vs_threshold(precisions, recalls, thresholds_tree):\n",
    "      plt.plot(thresholds_tree, precisions[:-1], \"b--\", label=\"Precision\")\n",
    "      plt.plot(thresholds_tree, recalls[:-1], \"g--\", label=\"Recall\")\n",
    "      plt.title('Precsion-Recall plot for for EP_success classifier using class 1')\n",
    "      plt.xlabel(\"Threshold\")\n",
    "      plt.legend(loc=\"upper left\")\n",
    "      plt.ylim([0,1])\n",
    "      plt.show()\n",
    "\n",
    "    #plot Precision Recall Threshold curve for test set        \n",
    "    precisions, recalls, thresholds_tree = precision_recall_curve(y_test, y_scores_ones)\n",
    "    plot_precision_recall_vs_threshold(precisions, recalls, thresholds_tree)\n",
    "\n",
    "    #IMPORTANT: first argument is true values, second argument is predicted probabilities\n",
    "    #we pass y_test and y_pred_prob\n",
    "    #we do not use y_pred_class, because it will give incorrect results without generating an error\n",
    "    #roc_curve returns 3 objects fpr, tpr, thresholds\n",
    "    #fpr: false positive rate\n",
    "    #tpr: true positive rate\n",
    "\n",
    "    #plot ROC curves\n",
    "    def plot_roc_curve(fpr, tpr):\n",
    "      plt.plot(fpr, tpr, linewidth=2)\n",
    "      plt.plot([0, 1], [0, 1], 'k--')\n",
    "      plt.axis([0, 1, 0, 1])\n",
    "      plt.title('ROC curve for EP_success classifier for class 1' ) \n",
    "      plt.xlabel('False Positive Rate (1 - Specificity)')\n",
    "      plt.ylabel('True Positive Rate (Sensitivity)')\n",
    "      plt.grid(True)\n",
    "      plt.show()\n",
    "        \n",
    "    #ROC curve for test set      \n",
    "    fpr, tpr, thresholds = roc_curve(y_test, y_scores_ones)\n",
    "    plot_roc_curve(fpr, tpr)\n",
    "      \n",
    "    #calculate the area under the curve to get the performance for a classifier\n",
    "    # IMPORTANT: first argument is true values, second argument is predicted probabilities\n",
    "    AUC_test_class1 = metrics.roc_auc_score(y_test, y_scores_ones)\n",
    "\n",
    "    print('AUC for test set class 1: %s \\n' %AUC_test_class1)\n",
    "\n",
    "  prediction_probas(clf, X_train, y_train, X_test, y_test, y_pred_proba)    \n",
    "\n",
    "analysis(svc_clf_rand_new, X_train_std, y_train, X_test_std, y_test)"
   ]
  },
  {
   "cell_type": "code",
   "execution_count": null,
   "metadata": {
    "collapsed": true
   },
   "outputs": [],
   "source": []
  }
 ],
 "metadata": {
  "kernelspec": {
   "display_name": "Python 3",
   "language": "python",
   "name": "python3"
  },
  "language_info": {
   "codemirror_mode": {
    "name": "ipython",
    "version": 3
   },
   "file_extension": ".py",
   "mimetype": "text/x-python",
   "name": "python",
   "nbconvert_exporter": "python",
   "pygments_lexer": "ipython3",
   "version": "3.6.1"
  }
 },
 "nbformat": 4,
 "nbformat_minor": 2
}
