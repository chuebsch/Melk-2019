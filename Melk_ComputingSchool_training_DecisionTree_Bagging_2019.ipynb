{
 "cells": [
  {
   "cell_type": "markdown",
   "metadata": {},
   "source": [
    "# Library Import\n",
    "\n",
    "Pandas\n",
    "Importing the data into a dataframe; for manipulations of the dataframe and easy plotting\n",
    "\n",
    "Numpy\n",
    "For vector and matrix calculations\n",
    "\n",
    "Matplotlib\n",
    "For plotting\n",
    "\n",
    "Seaborn\n",
    "For plotting\n",
    "\n",
    "SKLearn\n",
    "For the machine learning part\n",
    "\n",
    "Scipy\n",
    "For some statistics\n"
   ]
  },
  {
   "cell_type": "code",
   "execution_count": 1,
   "metadata": {},
   "outputs": [
    {
     "name": "stderr",
     "output_type": "stream",
     "text": [
      "/Users/melanievollmar/anaconda/lib/python3.6/site-packages/sklearn/externals/joblib/__init__.py:15: DeprecationWarning: sklearn.externals.joblib is deprecated in 0.21 and will be removed in 0.23. Please import this functionality directly from joblib, which can be installed with: pip install joblib. If this warning is raised when loading pickled models, you may need to re-serialize those models with scikit-learn 0.21+.\n",
      "  warnings.warn(msg, category=DeprecationWarning)\n"
     ]
    }
   ],
   "source": [
    "%matplotlib inline\n",
    "\n",
    "import pandas as pd\n",
    "import numpy as np\n",
    "import matplotlib.pyplot as plt\n",
    "import seaborn as sns\n",
    "import matplotlib.colorbar as mpl\n",
    "import subprocess\n",
    "from sklearn import metrics\n",
    "\n",
    "from sklearn.preprocessing import StandardScaler\n",
    "from sklearn.model_selection import train_test_split\n",
    "from sklearn.model_selection import RandomizedSearchCV\n",
    "from sklearn.tree import DecisionTreeClassifier\n",
    "from sklearn.ensemble import BaggingClassifier\n",
    "from sklearn.model_selection import cross_val_score\n",
    "from sklearn.model_selection import cross_val_predict\n",
    "from sklearn.metrics import confusion_matrix, precision_score, recall_score, f1_score\n",
    "from sklearn.metrics import precision_recall_curve, roc_curve\n",
    "from sklearn.tree import export_graphviz\n",
    "from sklearn.externals import joblib\n",
    "from scipy.stats import randint\n",
    "from datetime import datetime"
   ]
  },
  {
   "cell_type": "markdown",
   "metadata": {},
   "source": [
    "# Data Import"
   ]
  },
  {
   "cell_type": "code",
   "execution_count": 2,
   "metadata": {},
   "outputs": [
    {
     "name": "stdout",
     "output_type": "stream",
     "text": [
      "   sweep_id  pdb_id_id  wavelength  MR_success  TFZ   LLG  PAK  mr_reso  \\\n",
      "0       144       1003      0.9797         0.0  5.8  33.0  5.0     1.38   \n",
      "1       145       1003      0.9184         0.0  5.8  33.0  5.0     1.38   \n",
      "2       146       1003      0.9792         0.0  5.8  33.0  5.0     1.38   \n",
      "3       918        101      0.9793         0.0  4.1  17.0  1.0     1.66   \n",
      "4       919        101      0.9537         0.0  4.1  17.0  1.0     1.66   \n",
      "\n",
      "   mr_sg  mr_sg_no     ...       wilsonbfactor  RmeasI  highreslimit  \\\n",
      "0  P1211         4     ...               11.28  0.0723          1.38   \n",
      "1  P1211         4     ...               11.30  0.0846          1.41   \n",
      "2  P1211         4     ...               11.21  0.0879          1.39   \n",
      "3     H3       146     ...               20.88  0.0910          1.66   \n",
      "4     H3       146     ...               20.26  0.0937          1.67   \n",
      "\n",
      "   RpimdiffI anomalousmulti  RmergediffI  totalobservations  anomalouscompl  \\\n",
      "0     0.0442           1.73       0.0477             290215           91.57   \n",
      "1     0.0475           1.75       0.0512             275712           92.33   \n",
      "2     0.0412           1.73       0.0444             284616           91.64   \n",
      "3     0.0607           1.88       0.0644             206737           95.25   \n",
      "4     0.0624           1.91       0.0660             208630           97.15   \n",
      "\n",
      "   cchalf  totalunique  \n",
      "0  0.9983        87299  \n",
      "1  0.9976        82033  \n",
      "2  0.9972        85517  \n",
      "3  0.9972        56237  \n",
      "4  0.9973        55392  \n",
      "\n",
      "[5 rows x 38 columns]\n"
     ]
    }
   ],
   "source": [
    "data = pd.read_csv(\"data.csv\", na_filter=False, skipinitialspace=True, thousands=',')\n",
    "print(data.head())"
   ]
  },
  {
   "cell_type": "code",
   "execution_count": 3,
   "metadata": {},
   "outputs": [
    {
     "name": "stdout",
     "output_type": "stream",
     "text": [
      "(673, 38)\n"
     ]
    }
   ],
   "source": [
    "print(data.shape)"
   ]
  },
  {
   "cell_type": "markdown",
   "metadata": {},
   "source": [
    "# Isolate column names to use as features"
   ]
  },
  {
   "cell_type": "code",
   "execution_count": 4,
   "metadata": {},
   "outputs": [
    {
     "name": "stdout",
     "output_type": "stream",
     "text": [
      "Index(['sweep_id', 'pdb_id_id', 'wavelength', 'MR_success', 'TFZ', 'LLG',\n",
      "       'PAK', 'mr_reso', 'mr_sg', 'mr_sg_no', 'RMSD', 'VRMS', 'eLLG', 'tncs',\n",
      "       'model_pdb', 'seq_ident', 'model_res', 'anomalousCC', 'IoverSigma',\n",
      "       'completeness', 'diffI', 'RmergeI', 'lowreslimit', 'RpimI',\n",
      "       'multiplicity', 'RmeasdiffI', 'anomalousslope', 'diffF',\n",
      "       'wilsonbfactor', 'RmeasI', 'highreslimit', 'RpimdiffI',\n",
      "       'anomalousmulti', 'RmergediffI', 'totalobservations', 'anomalouscompl',\n",
      "       'cchalf', 'totalunique'],\n",
      "      dtype='object')\n"
     ]
    }
   ],
   "source": [
    "column_names = data.columns\n",
    "print(column_names)"
   ]
  },
  {
   "cell_type": "code",
   "execution_count": 5,
   "metadata": {},
   "outputs": [
    {
     "name": "stdout",
     "output_type": "stream",
     "text": [
      "Index(['wavelength', 'mr_reso', 'mr_sg_no', 'eLLG', 'tncs', 'model_res',\n",
      "       'anomalousCC', 'IoverSigma', 'completeness', 'diffI', 'RmergeI',\n",
      "       'lowreslimit', 'RpimI', 'multiplicity', 'RmeasdiffI', 'anomalousslope',\n",
      "       'diffF', 'wilsonbfactor', 'RmeasI', 'highreslimit', 'RpimdiffI',\n",
      "       'anomalousmulti', 'RmergediffI', 'totalobservations', 'anomalouscompl',\n",
      "       'cchalf', 'totalunique'],\n",
      "      dtype='object')\n"
     ]
    }
   ],
   "source": [
    "data_columns = data[['wavelength', 'mr_reso', 'mr_sg_no', 'eLLG', 'tncs',\n",
    "       'model_res', 'anomalousCC', 'IoverSigma', 'completeness', 'diffI',\n",
    "       'RmergeI', 'lowreslimit', 'RpimI', 'multiplicity', 'RmeasdiffI',\n",
    "       'anomalousslope', 'diffF', 'wilsonbfactor', 'RmeasI', 'highreslimit',\n",
    "       'RpimdiffI', 'anomalousmulti', 'RmergediffI', 'totalobservations',\n",
    "       'anomalouscompl', 'cchalf', 'totalunique']]\n",
    "\n",
    "data_columns_labels = data_columns.columns\n",
    "print(data_columns_labels)\n",
    "print(data_columns.shape)"
   ]
  },
  {
   "cell_type": "markdown",
   "metadata": {},
   "source": [
    "# Fill in missing values"
   ]
  },
  {
   "cell_type": "code",
   "execution_count": 6,
   "metadata": {
    "collapsed": true
   },
   "outputs": [],
   "source": [
    "data_columns_fill = data_columns.fillna(0)"
   ]
  },
  {
   "cell_type": "markdown",
   "metadata": {},
   "source": [
    "# Data split - test and training set "
   ]
  },
  {
   "cell_type": "code",
   "execution_count": 7,
   "metadata": {
    "collapsed": true
   },
   "outputs": [],
   "source": [
    "y = data['MR_success']\n",
    "\n",
    "X_train, X_test, y_train, y_test = train_test_split(data_columns_fill, y, \n",
    "                                                    test_size=0.2,\n",
    "                                                    random_state=42,\n",
    "                                                    stratify=y)"
   ]
  },
  {
   "cell_type": "markdown",
   "metadata": {},
   "source": [
    "# Find best Decision tree with Bagging in RandomizedSearch"
   ]
  },
  {
   "cell_type": "code",
   "execution_count": 10,
   "metadata": {},
   "outputs": [
    {
     "name": "stdout",
     "output_type": "stream",
     "text": [
      "Best parameters: {'base_estimator__class_weight': None, 'base_estimator__criterion': 'gini', 'base_estimator__max_depth': 5, 'base_estimator__max_features': 11, 'base_estimator__max_leaf_nodes': 18, 'base_estimator__min_samples_leaf': 5, 'base_estimator__min_samples_split': 9, 'n_estimators': 2082}\n",
      "\n",
      "Best score: 0.773234200743\n",
      "\n"
     ]
    },
    {
     "data": {
      "text/plain": [
       "{'base_estimator__class_weight': None,\n",
       " 'base_estimator__criterion': 'gini',\n",
       " 'base_estimator__max_depth': 5,\n",
       " 'base_estimator__max_features': 11,\n",
       " 'base_estimator__max_leaf_nodes': 18,\n",
       " 'base_estimator__min_samples_leaf': 5,\n",
       " 'base_estimator__min_samples_split': 9,\n",
       " 'n_estimators': 2082}"
      ]
     },
     "execution_count": 10,
     "metadata": {},
     "output_type": "execute_result"
    }
   ],
   "source": [
    "def rand_search(X_train, y_train):\n",
    "  #create the decision tree \n",
    "  clf1 = DecisionTreeClassifier(random_state=0,\n",
    "                                class_weight='balanced')#default base estimator decision tree\n",
    "  #create bagging classifier\n",
    "  tree_clf_rand_bag = BaggingClassifier(base_estimator=clf1,\n",
    "                                        n_jobs=-1,\n",
    "                                        bootstrap=True,\n",
    "                                        random_state=100)\n",
    "\n",
    "  #set up grid search\n",
    "  param_rand = {'base_estimator__criterion': ['gini', 'entropy'],#metric to judge reduction of impurity\n",
    "                'base_estimator__class_weight': ['balanced', None],\n",
    "                'n_estimators': randint(100, 10000),#number of base estimators to use\n",
    "                'base_estimator__max_features': randint(2, len(X_train.columns)),#max number of features when splitting\n",
    "                'base_estimator__min_samples_split': randint(2, 20),#min samples per node to induce split\n",
    "                'base_estimator__max_depth': randint(5, 10),#max number of splits to do\n",
    "                'base_estimator__min_samples_leaf': randint(1, 20),#min number of samples in a leaf\n",
    "                'base_estimator__max_leaf_nodes': randint(10, 20)}#max number of leaves\n",
    "\n",
    "  #building and running the grid search\n",
    "  rand_search = RandomizedSearchCV(tree_clf_rand_bag, param_rand, random_state=5, cv=3, n_iter=1,\n",
    "                              scoring='accuracy', n_jobs=-1)\n",
    "                              \n",
    "  rand_search = rand_search.fit(X_train, y_train)\n",
    "  print('Best parameters: ' +str(rand_search.best_params_)+'\\n')\n",
    "  print('Best score: ' +str(rand_search.best_score_)+'\\n')\n",
    "    \n",
    "  best_params = rand_search.best_params_\n",
    "  return best_params\n",
    "\n",
    "rand_search(X_train, y_train)"
   ]
  },
  {
   "cell_type": "markdown",
   "metadata": {},
   "source": [
    "# Build best Decision Tree with Bagging, plot feature importances and get basic stats"
   ]
  },
  {
   "cell_type": "code",
   "execution_count": 14,
   "metadata": {},
   "outputs": [
    {
     "name": "stdout",
     "output_type": "stream",
     "text": [
      "Get various cross_val_scores to evaluate clf performance for best parameters \n",
      "\n",
      "Accuracy for each of 3 CV folds: [ 0.78888889  0.73184358  0.79888268] \n",
      "\n",
      "Mean accuracy over all 3 CV folds: 0.773205048624 \n",
      "\n",
      "ROC_AUC mean for 3-fold CV: 0.845300109368 \n",
      "\n",
      "Accuracy mean for 3-fold CV: 0.773205048624 \n",
      "\n",
      "Recall mean for 3-fold CV: 0.621335064373 \n",
      "\n",
      "Precision mean for 3-fold CV: 0.816835016835 \n",
      "\n",
      "F1 score mean for 3-fold CV: 0.703179434523 \n",
      "\n"
     ]
    },
    {
     "data": {
      "image/png": "[encoded data removed]",
      "text/plain": [
       "<matplotlib.figure.Figure at 0x111864550>"
      ]
     },
     "metadata": {},
     "output_type": "display_data"
    }
   ],
   "source": [
    "clf2 = DecisionTreeClassifier(class_weight = None,\n",
    "                              criterion = 'gini',\n",
    "                              max_depth = 5,\n",
    "                              max_features = 11,\n",
    "                              max_leaf_nodes = 18,\n",
    "                              min_samples_leaf = 5,\n",
    "                              min_samples_split = 9,\n",
    "                              random_state= 0)\n",
    "\n",
    "tree_clf_rand_bag_new = BaggingClassifier(clf2,\n",
    "                                          n_estimators = 2082,\n",
    "                                          n_jobs=-1,\n",
    "                                          bootstrap=True,\n",
    "                                          random_state=100)\n",
    "\n",
    "tree_clf_rand_bag_new.fit(X_train, y_train)\n",
    "\n",
    "def feature_importances_pandas(clf, X_train):   \n",
    "  datestring = datetime.strftime(datetime.now(), '%Y%m%d_%H%M')      \n",
    "  feature_list = []\n",
    "  for tree in clf.estimators_:\n",
    "    feature_importances_ls = tree.feature_importances_\n",
    "    feature_list.append(feature_importances_ls)\n",
    "        \n",
    "  df = pd.DataFrame(feature_list, columns=X_train.columns)\n",
    "  df_mean = df[X_train.columns].mean(axis=0)\n",
    "  df_mean.sort_values(ascending=False, inplace=True)  \n",
    "  df_std = df[X_train.columns].std(axis=0)\n",
    "  df_mean.plot(kind='bar', color='b', yerr=[df_std], align=\"center\", figsize=(20,10), rot=90, fontsize=16)\n",
    "  plt.title('Histogram of Feature Importances for Bagging Classifier')\n",
    "  plt.xlabel('Features')\n",
    "  plt.tight_layout()\n",
    "  plt.show\n",
    "      \n",
    "feature_importances_pandas(tree_clf_rand_bag_new, X_train)\n",
    "   \n",
    "def write_pickle(clf):\n",
    "  datestring = datetime.strftime(datetime.now(), '%Y%m%d_%H%M')\n",
    "  joblib.dump(clf, 'best_tree_rand_'+datestring+'.pkl')\n",
    "    \n",
    "write_pickle(tree_clf_rand_bag_new)\n",
    "    \n",
    "def visualise_tree(tree_bag, columns):\n",
    "  datestring = datetime.strftime(datetime.now(), '%Y%m%d_%H%M')\n",
    "  trees = tree_bag.estimators_\n",
    "  i_tree = 0\n",
    "  for tree in trees:\n",
    "    with open('tree_clf_rand_bag_new_'+datestring+str(i_tree)+'.dot', 'w') as f:\n",
    "      export_graphviz(tree, out_file=f, feature_names=columns, rounded=True, filled=True)\n",
    "      f.close()\n",
    "    dotfile = 'tree_clf_rand_bag_new_'+datestring+str(i_tree)+'.dot'\n",
    "    pngfile = 'tree_clf_rand_bag_new_'+datestring+str(i_tree)+'.png'\n",
    "    command = [\"dot\", \"-Tpng\", dotfile, \"-o\", pngfile]\n",
    "    subprocess.check_call(command)\n",
    "    i_tree = i_tree + 1\n",
    "\n",
    "visualise_tree(tree_clf_rand_bag_new, X_train.columns)\n",
    "\n",
    "def basic_stats(clf, X_train, y_train):\n",
    "  #distribution --> accuracy\n",
    "  accuracy_each_cv = cross_val_score(clf, X_train, y_train, cv=3, scoring='accuracy')\n",
    "  accuracy_mean_cv = cross_val_score(clf, X_train, y_train, cv=3, scoring='accuracy').mean()\n",
    "  # calculate cross_val_scoring with different scoring functions for CV train set\n",
    "  train_roc_auc = cross_val_score(clf, X_train, y_train, cv=3, scoring='roc_auc').mean()\n",
    "  train_accuracy = cross_val_score(clf, X_train, y_train, cv=3, scoring='accuracy').mean()\n",
    "  train_recall = cross_val_score(clf, X_train, y_train, cv=3, scoring='recall').mean()\n",
    "  train_precision = cross_val_score(clf, X_train, y_train, cv=3, scoring='precision').mean()\n",
    "  train_f1 = cross_val_score(clf, X_train, y_train, cv=3, scoring='f1').mean()\n",
    "\n",
    "  print('Get various cross_val_scores to evaluate clf performance for best parameters \\n')     \n",
    "  print('Accuracy for each of 3 CV folds: %s \\n' %accuracy_each_cv)\n",
    "  print('Mean accuracy over all 3 CV folds: %s \\n' %accuracy_mean_cv)\n",
    "  print('ROC_AUC mean for 3-fold CV: %s \\n' %train_roc_auc)\n",
    "  print('Accuracy mean for 3-fold CV: %s \\n' %train_accuracy)\n",
    "  print('Recall mean for 3-fold CV: %s \\n' %train_recall)\n",
    "  print('Precision mean for 3-fold CV: %s \\n' %train_precision)\n",
    "  print('F1 score mean for 3-fold CV: %s \\n' %train_f1)\n",
    "    \n",
    "basic_stats(tree_clf_rand_bag_new, X_train, y_train)\n"
   ]
  },
  {
   "cell_type": "markdown",
   "metadata": {},
   "source": [
    "# Predict using the test set on Decision Tree with Bagging"
   ]
  },
  {
   "cell_type": "code",
   "execution_count": 15,
   "metadata": {},
   "outputs": [
    {
     "name": "stdout",
     "output_type": "stream",
     "text": [
      "Accuracy score or agreement between y_test and y_pred_class: 0.8 \n",
      "\n",
      "Class distribution for y_test: 0.0    76\n",
      "1.0    59\n",
      "Name: MR_success, dtype: int64 \n",
      "\n",
      "Percent 1s in y_test: 0.43703703703703706 \n",
      "\n",
      "Percent 0s in y_test: 0.5629629629629629 \n",
      "\n",
      "Null accuracy in y_test: 0.5629629629629629 \n",
      "\n"
     ]
    },
    {
     "data": {
      "text/plain": [
       "(array([ 0.,  0.,  1.,  1.,  1.,  1.,  0.,  1.,  0.,  1.,  0.,  0.,  1.,\n",
       "         0.,  0.,  0.,  0.,  1.,  1.,  0.,  0.,  0.,  0.,  1.,  0.,  0.,\n",
       "         0.,  0.,  1.,  1.,  0.,  0.,  0.,  0.,  1.,  1.,  1.,  0.,  0.,\n",
       "         0.,  1.,  0.,  0.,  0.,  0.,  0.,  0.,  0.,  0.,  1.,  1.,  1.,\n",
       "         1.,  1.,  0.,  0.,  0.,  0.,  0.,  0.,  0.,  0.,  1.,  0.,  0.,\n",
       "         0.,  0.,  1.,  1.,  0.,  0.,  1.,  0.,  0.,  0.,  0.,  0.,  0.,\n",
       "         0.,  0.,  0.,  0.,  1.,  1.,  0.,  0.,  0.,  0.,  0.,  0.,  1.,\n",
       "         0.,  0.,  1.,  1.,  0.,  0.,  0.,  0.,  1.,  1.,  1.,  1.,  0.,\n",
       "         0.,  1.,  0.,  1.,  0.,  1.,  0.,  1.,  0.,  0.,  0.,  0.,  1.,\n",
       "         0.,  0.,  1.,  0.,  0.,  1.,  0.,  0.,  1.,  1.,  0.,  0.,  0.,\n",
       "         1.,  0.,  0.,  1.,  1.]), array([[ 0.76613426,  0.23386574],\n",
       "        [ 0.76110641,  0.23889359],\n",
       "        [ 0.28168471,  0.71831529],\n",
       "        [ 0.37078314,  0.62921686],\n",
       "        [ 0.06713804,  0.93286196],\n",
       "        [ 0.36169482,  0.63830518],\n",
       "        [ 0.67264965,  0.32735035],\n",
       "        [ 0.06776958,  0.93223042],\n",
       "        [ 0.63747917,  0.36252083],\n",
       "        [ 0.13891701,  0.86108299],\n",
       "        [ 0.78841026,  0.21158974],\n",
       "        [ 0.64645759,  0.35354241],\n",
       "        [ 0.39346728,  0.60653272],\n",
       "        [ 0.86062304,  0.13937696],\n",
       "        [ 0.79760032,  0.20239968],\n",
       "        [ 0.61949932,  0.38050068],\n",
       "        [ 0.81064482,  0.18935518],\n",
       "        [ 0.09960527,  0.90039473],\n",
       "        [ 0.1268474 ,  0.8731526 ],\n",
       "        [ 0.65370266,  0.34629734],\n",
       "        [ 0.70628686,  0.29371314],\n",
       "        [ 0.74472765,  0.25527235],\n",
       "        [ 0.84385094,  0.15614906],\n",
       "        [ 0.10049049,  0.89950951],\n",
       "        [ 0.77452105,  0.22547895],\n",
       "        [ 0.88120007,  0.11879993],\n",
       "        [ 0.50728365,  0.49271635],\n",
       "        [ 0.7584206 ,  0.2415794 ],\n",
       "        [ 0.49262915,  0.50737085],\n",
       "        [ 0.41644134,  0.58355866],\n",
       "        [ 0.82898878,  0.17101122],\n",
       "        [ 0.65347022,  0.34652978],\n",
       "        [ 0.67250759,  0.32749241],\n",
       "        [ 0.70010808,  0.29989192],\n",
       "        [ 0.25300224,  0.74699776],\n",
       "        [ 0.14438179,  0.85561821],\n",
       "        [ 0.08692322,  0.91307678],\n",
       "        [ 0.56186419,  0.43813581],\n",
       "        [ 0.64713565,  0.35286435],\n",
       "        [ 0.7379106 ,  0.2620894 ],\n",
       "        [ 0.13154058,  0.86845942],\n",
       "        [ 0.68562038,  0.31437962],\n",
       "        [ 0.72863611,  0.27136389],\n",
       "        [ 0.90366338,  0.09633662],\n",
       "        [ 0.81282516,  0.18717484],\n",
       "        [ 0.64938653,  0.35061347],\n",
       "        [ 0.72442256,  0.27557744],\n",
       "        [ 0.68494336,  0.31505664],\n",
       "        [ 0.77955256,  0.22044744],\n",
       "        [ 0.33672862,  0.66327138],\n",
       "        [ 0.41490907,  0.58509093],\n",
       "        [ 0.42647866,  0.57352134],\n",
       "        [ 0.12762252,  0.87237748],\n",
       "        [ 0.31594013,  0.68405987],\n",
       "        [ 0.72014125,  0.27985875],\n",
       "        [ 0.51998604,  0.48001396],\n",
       "        [ 0.69427377,  0.30572623],\n",
       "        [ 0.63152163,  0.36847837],\n",
       "        [ 0.80103189,  0.19896811],\n",
       "        [ 0.87998797,  0.12001203],\n",
       "        [ 0.7089904 ,  0.2910096 ],\n",
       "        [ 0.52505891,  0.47494109],\n",
       "        [ 0.12796753,  0.87203247],\n",
       "        [ 0.76291674,  0.23708326],\n",
       "        [ 0.89057643,  0.10942357],\n",
       "        [ 0.69715381,  0.30284619],\n",
       "        [ 0.52937628,  0.47062372],\n",
       "        [ 0.16186856,  0.83813144],\n",
       "        [ 0.16309835,  0.83690165],\n",
       "        [ 0.66969936,  0.33030064],\n",
       "        [ 0.64376835,  0.35623165],\n",
       "        [ 0.1180111 ,  0.8819889 ],\n",
       "        [ 0.79516886,  0.20483114],\n",
       "        [ 0.78594529,  0.21405471],\n",
       "        [ 0.77880217,  0.22119783],\n",
       "        [ 0.80873516,  0.19126484],\n",
       "        [ 0.52879392,  0.47120608],\n",
       "        [ 0.71541153,  0.28458847],\n",
       "        [ 0.73934634,  0.26065366],\n",
       "        [ 0.83616088,  0.16383912],\n",
       "        [ 0.75265857,  0.24734143],\n",
       "        [ 0.75205629,  0.24794371],\n",
       "        [ 0.29494992,  0.70505008],\n",
       "        [ 0.15785864,  0.84214136],\n",
       "        [ 0.72488954,  0.27511046],\n",
       "        [ 0.79716108,  0.20283892],\n",
       "        [ 0.71568695,  0.28431305],\n",
       "        [ 0.85847399,  0.14152601],\n",
       "        [ 0.5859515 ,  0.4140485 ],\n",
       "        [ 0.78547494,  0.21452506],\n",
       "        [ 0.16099724,  0.83900276],\n",
       "        [ 0.75599699,  0.24400301],\n",
       "        [ 0.7858614 ,  0.2141386 ],\n",
       "        [ 0.05431545,  0.94568455],\n",
       "        [ 0.08156567,  0.91843433],\n",
       "        [ 0.85546311,  0.14453689],\n",
       "        [ 0.7425585 ,  0.2574415 ],\n",
       "        [ 0.75053359,  0.24946641],\n",
       "        [ 0.86235657,  0.13764343],\n",
       "        [ 0.47518763,  0.52481237],\n",
       "        [ 0.07457923,  0.92542077],\n",
       "        [ 0.25548167,  0.74451833],\n",
       "        [ 0.31124813,  0.68875187],\n",
       "        [ 0.71232429,  0.28767571],\n",
       "        [ 0.68169308,  0.31830692],\n",
       "        [ 0.46226568,  0.53773432],\n",
       "        [ 0.77231393,  0.22768607],\n",
       "        [ 0.16907183,  0.83092817],\n",
       "        [ 0.79442013,  0.20557987],\n",
       "        [ 0.25207721,  0.74792279],\n",
       "        [ 0.70781527,  0.29218473],\n",
       "        [ 0.24545353,  0.75454647],\n",
       "        [ 0.84912193,  0.15087807],\n",
       "        [ 0.68801027,  0.31198973],\n",
       "        [ 0.78597353,  0.21402647],\n",
       "        [ 0.51035263,  0.48964737],\n",
       "        [ 0.10508388,  0.89491612],\n",
       "        [ 0.77210249,  0.22789751],\n",
       "        [ 0.67855668,  0.32144332],\n",
       "        [ 0.15801434,  0.84198566],\n",
       "        [ 0.77733948,  0.22266052],\n",
       "        [ 0.90172982,  0.09827018],\n",
       "        [ 0.14328461,  0.85671539],\n",
       "        [ 0.83666932,  0.16333068],\n",
       "        [ 0.75037928,  0.24962072],\n",
       "        [ 0.13802281,  0.86197719],\n",
       "        [ 0.27431033,  0.72568967],\n",
       "        [ 0.61646863,  0.38353137],\n",
       "        [ 0.53519351,  0.46480649],\n",
       "        [ 0.63111382,  0.36888618],\n",
       "        [ 0.2032617 ,  0.7967383 ],\n",
       "        [ 0.73864995,  0.26135005],\n",
       "        [ 0.70634806,  0.29365194],\n",
       "        [ 0.07843732,  0.92156268],\n",
       "        [ 0.48321811,  0.51678189]]))"
      ]
     },
     "execution_count": 15,
     "metadata": {},
     "output_type": "execute_result"
    }
   ],
   "source": [
    "def predict(clf, X_test):\n",
    "  #try out how well the classifier works to predict from the test set\n",
    "  y_pred = tree_clf_rand_bag_new.predict(X_test)\n",
    "  y_pred_proba = tree_clf_rand_bag_new.predict_proba(X_test)\n",
    "\n",
    "  def prediction_stats(y_test, y_pred):\n",
    "    # calculate accuracy\n",
    "    y_accuracy = metrics.accuracy_score(y_test, y_pred)\n",
    "\n",
    "    # examine the class distribution of the testing set (using a Pandas Series method)\n",
    "    class_dist = y_test.value_counts()\n",
    "\n",
    "    # calculate the percentage of ones\n",
    "    # because y_test only contains ones and zeros, we can simply calculate the mean = percentage of ones\n",
    "    ones = y_test.mean()\n",
    "\n",
    "    # calculate the percentage of zeros\n",
    "    zeros = 1 - y_test.mean()\n",
    "\n",
    "    # calculate null accuracy in a single line of code\n",
    "    # only for binary classification problems coded as 0/1\n",
    "    null_acc = max(y_test.mean(), 1 - y_test.mean())\n",
    "\n",
    "    print('Accuracy score or agreement between y_test and y_pred_class: %s \\n' %y_accuracy)\n",
    "    print('Class distribution for y_test: %s \\n' %class_dist)\n",
    "    print('Percent 1s in y_test: %s \\n' %ones)\n",
    "    print('Percent 0s in y_test: %s \\n' %zeros)\n",
    "    print('Null accuracy in y_test: %s \\n' %null_acc)\n",
    "    \n",
    "  prediction_stats(y_test, y_pred)\n",
    "  \n",
    "  return y_pred, y_pred_proba\n",
    "\n",
    "predict(tree_clf_rand_bag_new, X_test)"
   ]
  },
  {
   "cell_type": "markdown",
   "metadata": {},
   "source": [
    "# Detailed analysis for Decision Tree with Bagging"
   ]
  },
  {
   "cell_type": "code",
   "execution_count": 16,
   "metadata": {},
   "outputs": [
    {
     "data": {
      "image/png": "[encoded data removed]",
      "text/plain": [
       "<matplotlib.figure.Figure at 0x10bc3dc18>"
      ]
     },
     "metadata": {},
     "output_type": "display_data"
    },
    {
     "name": "stdout",
     "output_type": "stream",
     "text": [
      "confusion matrix using test set: [[69  7]\n",
      " [20 39]] \n",
      "\n",
      "accuracy score manual test: 0.8 \n",
      "\n",
      "accuracy score sklearn test: 0.8 \n",
      "\n",
      "classification error manual test: 0.2 \n",
      "\n",
      "classification error sklearn test: 0.2 \n",
      "\n",
      "sensitivity manual test: 0.661016949153 \n",
      "\n",
      "sensitivity sklearn test: 0.661016949153 \n",
      "\n",
      "specificity manual test: 0.907894736842 \n",
      "\n",
      "false positive rate manual test: 0.0921052631579 \n",
      "\n",
      "1 - specificity test: 0.0921052631579 \n",
      "\n",
      "precision manual: 0.847826086957 \n",
      "\n",
      "precision sklearn: 0.847826086957 \n",
      "\n",
      "F1 score sklearn test: 0.742857142857 \n",
      "\n"
     ]
    },
    {
     "data": {
      "image/png": "[encoded data removed]",
      "text/plain": [
       "<matplotlib.figure.Figure at 0x111abcda0>"
      ]
     },
     "metadata": {},
     "output_type": "display_data"
    },
    {
     "data": {
      "image/png": "[encoded data removed]",
      "text/plain": [
       "<matplotlib.figure.Figure at 0x1118fa860>"
      ]
     },
     "metadata": {},
     "output_type": "display_data"
    },
    {
     "data": {
      "image/png": "[encoded data removed]",
      "text/plain": [
       "<matplotlib.figure.Figure at 0x10528d358>"
      ]
     },
     "metadata": {},
     "output_type": "display_data"
    },
    {
     "name": "stdout",
     "output_type": "stream",
     "text": [
      "AUC for CV test set class 1: 0.864183764496 \n",
      "\n"
     ]
    }
   ],
   "source": [
    "def analysis(clf, X_train, y_train, X_test, y_test):\n",
    "    #try out how well the classifier works to predict from the test set\n",
    "  y_pred = clf.predict(X_test)\n",
    "  y_pred_proba = clf.predict_proba(X_test)\n",
    "\n",
    "  def conf_mat(y_test, y_pred):\n",
    "    # IMPORTANT: first argument is true values, second argument is predicted values\n",
    "    # this produces a 2x2 numpy array (matrix)\n",
    "    conf_mat_test = metrics.confusion_matrix(y_test, y_pred)\n",
    "    def draw_conf_mat(matrix):\n",
    "      labels = ['0', '1']      \n",
    "      ax = plt.subplot()\n",
    "      sns.heatmap(matrix, annot=True, ax=ax)\n",
    "      plt.title('Confusion matrix of the classifier')\n",
    "      ax.set_xticklabels(labels)\n",
    "      ax.set_yticklabels(labels)\n",
    "      plt.xlabel('Predicted')\n",
    "      plt.ylabel('True')\n",
    "      plt.show()\n",
    "\n",
    "    draw_conf_mat(conf_mat_test)\n",
    "      \n",
    "    TP = conf_mat_test[1, 1]\n",
    "    TN = conf_mat_test[0, 0]\n",
    "    FP = conf_mat_test[0, 1]\n",
    "    FN = conf_mat_test[1, 0]\n",
    "\n",
    "    print('confusion matrix using test set: %s \\n' %conf_mat_test)\n",
    "      \n",
    "    #calculate accuracy\n",
    "    acc_score_man_test = (TP + TN) / float(TP + TN + FP + FN)\n",
    "    acc_score_sklearn_test = metrics.accuracy_score(y_test, y_pred)\n",
    "    print('accuracy score manual test: %s \\n' %acc_score_man_test)\n",
    "    print('accuracy score sklearn test: %s \\n' %acc_score_sklearn_test)\n",
    "        \n",
    "    #classification error\n",
    "    class_err_man_test = (FP + FN) / float(TP + TN + FP + FN)\n",
    "    class_err_sklearn_test = 1 - metrics.accuracy_score(y_test, y_pred)\n",
    "    print('classification error manual test: %s \\n' %class_err_man_test)\n",
    "    print('classification error sklearn test: %s \\n' %class_err_sklearn_test)\n",
    "        \n",
    "    #sensitivity/recall/true positive rate; correctly placed positive cases  \n",
    "    sensitivity_man_test = TP / float(FN + TP)\n",
    "    sensitivity_sklearn_test = metrics.recall_score(y_test, y_pred)\n",
    "    print('sensitivity manual test: %s \\n' %sensitivity_man_test)\n",
    "    print('sensitivity sklearn test: %s \\n' %sensitivity_sklearn_test)\n",
    "      \n",
    "    #specificity  \n",
    "    specificity_man_test = TN / (TN + FP)\n",
    "    print('specificity manual test: %s \\n' %specificity_man_test)\n",
    "      \n",
    "    #false positive rate  \n",
    "    false_positive_rate_man_test = FP / float(TN + FP)\n",
    "    print('false positive rate manual test: %s \\n' %false_positive_rate_man_test)\n",
    "    print('1 - specificity test: %s \\n' %(1 - specificity_man_test))\n",
    "      \n",
    "    #precision/confidence of placement  \n",
    "    precision_man_test = TP / float(TP + FP)\n",
    "    precision_sklearn_test = metrics.precision_score(y_test, y_pred)\n",
    "    print('precision manual: %s \\n' %precision_man_test)\n",
    "    print('precision sklearn: %s \\n' %precision_sklearn_test)\n",
    "      \n",
    "    #F1 score; uses precision and recall  \n",
    "    f1_score_sklearn_test = f1_score(y_test, y_pred)\n",
    "    print('F1 score sklearn test: %s \\n' %f1_score_sklearn_test)\n",
    "        \n",
    "  conf_mat(y_test, y_pred)\n",
    "\n",
    "  def prediction_probas(clf, X_train, y_train, X_test, y_test, y_pred_proba): \n",
    "    #plot histograms of probabilities  \n",
    "    def plot_hist_pred_proba(y_pred_proba):\n",
    "      plt.hist(y_pred_proba, bins=20)\n",
    "      plt.xlim(0,1)\n",
    "      plt.title('Histogram of predicted probabilities for y_pred_proba to be class 1')\n",
    "      plt.xlabel('Predicted probability of EP_success')\n",
    "      plt.ylabel('Frequency')\n",
    "      plt.show()\n",
    "        \n",
    "    plot_hist_pred_proba(y_pred_proba[:, 1])\n",
    "\n",
    "    y_scores_ones = y_pred_proba[:, 1]#test data to be class 1\n",
    "      \n",
    "    #plot precision and recall curve\n",
    "    def plot_precision_recall_vs_threshold(precisions, recalls, thresholds_tree):\n",
    "      plt.plot(thresholds_tree, precisions[:-1], \"b--\", label=\"Precision\")\n",
    "      plt.plot(thresholds_tree, recalls[:-1], \"g--\", label=\"Recall\")\n",
    "      plt.title('Precsion-Recall plot for for EP_success classifier using class 1')\n",
    "      plt.xlabel(\"Threshold\")\n",
    "      plt.legend(loc=\"upper left\")\n",
    "      plt.ylim([0,1])\n",
    "      plt.show()\n",
    "\n",
    "    #plot Precision Recall Threshold curve for test set        \n",
    "    precisions, recalls, thresholds_tree = precision_recall_curve(y_test, y_scores_ones)\n",
    "    plot_precision_recall_vs_threshold(precisions, recalls, thresholds_tree)\n",
    "\n",
    "    #IMPORTANT: first argument is true values, second argument is predicted probabilities\n",
    "    #we pass y_test and y_pred_prob\n",
    "    #we do not use y_pred_class, because it will give incorrect results without generating an error\n",
    "    #roc_curve returns 3 objects fpr, tpr, thresholds\n",
    "    #fpr: false positive rate\n",
    "    #tpr: true positive rate\n",
    "\n",
    "    #plot ROC curves\n",
    "    def plot_roc_curve(fpr, tpr):\n",
    "      plt.plot(fpr, tpr, linewidth=2)\n",
    "      plt.plot([0, 1], [0, 1], 'k--')\n",
    "      plt.axis([0, 1, 0, 1])\n",
    "      plt.title('ROC curve for EP_success classifier for class 1' ) \n",
    "      plt.xlabel('False Positive Rate (1 - Specificity)')\n",
    "      plt.ylabel('True Positive Rate (Sensitivity)')\n",
    "      plt.grid(True)\n",
    "      plt.show()\n",
    "        \n",
    "    #ROC curve for test set      \n",
    "    fpr, tpr, thresholds = roc_curve(y_test, y_scores_ones)\n",
    "    plot_roc_curve(fpr, tpr)\n",
    "      \n",
    "    #calculate the area under the curve to get the performance for a classifier\n",
    "    # IMPORTANT: first argument is true values, second argument is predicted probabilities\n",
    "    AUC_test_class1 = metrics.roc_auc_score(y_test, y_scores_ones)\n",
    "\n",
    "    print('AUC for test set class 1: %s \\n' %AUC_test_class1)\n",
    "\n",
    "  prediction_probas(clf, X_train, y_train, X_test, y_test, y_pred_proba)    \n",
    "\n",
    "analysis(tree_clf_rand_bag_new, X_train, y_train, X_test, y_test)"
   ]
  },
  {
   "cell_type": "code",
   "execution_count": null,
   "metadata": {
    "collapsed": true
   },
   "outputs": [],
   "source": []
  }
 ],
 "metadata": {
  "kernelspec": {
   "display_name": "Python 3",
   "language": "python",
   "name": "python3"
  },
  "language_info": {
   "codemirror_mode": {
    "name": "ipython",
    "version": 3
   },
   "file_extension": ".py",
   "mimetype": "text/x-python",
   "name": "python",
   "nbconvert_exporter": "python",
   "pygments_lexer": "ipython3",
   "version": "3.6.1"
  }
 },
 "nbformat": 4,
 "nbformat_minor": 2
}
